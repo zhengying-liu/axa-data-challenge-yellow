{
 "cells": [
  {
   "cell_type": "code",
   "execution_count": 1,
   "metadata": {
    "collapsed": true
   },
   "outputs": [],
   "source": [
    "import pandas as pd\n",
    "import matplotlib.pyplot as plt\n",
    "%matplotlib inline\n",
    "import numpy as np\n",
    "from scipy.stats import gaussian_kde\n",
    "\n",
    "from sklearn.model_selection import train_test_split"
   ]
  },
  {
   "cell_type": "markdown",
   "metadata": {},
   "source": [
    "# Constants"
   ]
  },
  {
   "cell_type": "code",
   "execution_count": 169,
   "metadata": {
    "collapsed": true
   },
   "outputs": [],
   "source": [
    "alpha = 0.1"
   ]
  },
  {
   "cell_type": "markdown",
   "metadata": {},
   "source": [
    "# Preprocessing"
   ]
  },
  {
   "cell_type": "code",
   "execution_count": 3,
   "metadata": {
    "collapsed": true
   },
   "outputs": [],
   "source": [
    "plt.rcParams[\"figure.figsize\"] = (15, 10)\n",
    "pd.options.display.max_columns = 100"
   ]
  },
  {
   "cell_type": "code",
   "execution_count": 5,
   "metadata": {
    "collapsed": false,
    "scrolled": true
   },
   "outputs": [
    {
     "name": "stderr",
     "output_type": "stream",
     "text": [
      "<string>:2: DtypeWarning: Columns (17) have mixed types. Specify dtype option on import or set low_memory=False.\n"
     ]
    },
    {
     "name": "stdout",
     "output_type": "stream",
     "text": [
      "CPU times: user 2min 42s, sys: 29.4 s, total: 3min 12s\n",
      "Wall time: 3min 27s\n"
     ]
    }
   ],
   "source": [
    "%%time\n",
    "df = pd.read_csv('../train_2011_2012_2013.csv', sep=\";\", nrows=1e10)"
   ]
  },
  {
   "cell_type": "code",
   "execution_count": 12,
   "metadata": {
    "collapsed": false
   },
   "outputs": [
    {
     "data": {
      "text/plain": [
       "935548420"
      ]
     },
     "execution_count": 12,
     "metadata": {},
     "output_type": "execute_result"
    }
   ],
   "source": [
    "df.size"
   ]
  },
  {
   "cell_type": "code",
   "execution_count": 13,
   "metadata": {
    "collapsed": false
   },
   "outputs": [
    {
     "data": {
      "text/html": [
       "<div>\n",
       "<table border=\"1\" class=\"dataframe\">\n",
       "  <thead>\n",
       "    <tr style=\"text-align: right;\">\n",
       "      <th></th>\n",
       "      <th>DATE</th>\n",
       "      <th>DAY_OFF</th>\n",
       "      <th>DAY_DS</th>\n",
       "      <th>WEEK_END</th>\n",
       "      <th>DAY_WE_DS</th>\n",
       "      <th>TPER_TEAM</th>\n",
       "      <th>TPER_HOUR</th>\n",
       "      <th>SPLIT_COD</th>\n",
       "      <th>ACD_COD</th>\n",
       "      <th>ACD_LIB</th>\n",
       "      <th>ASS_SOC_MERE</th>\n",
       "      <th>ASS_DIRECTORSHIP</th>\n",
       "      <th>ASS_ASSIGNMENT</th>\n",
       "      <th>ASS_PARTNER</th>\n",
       "      <th>ASS_POLE</th>\n",
       "      <th>ASS_BEGIN</th>\n",
       "      <th>ASS_END</th>\n",
       "      <th>ASS_COMENT</th>\n",
       "      <th>CSPL_I_STAFFTIME</th>\n",
       "      <th>CSPL_I_AVAILTIME</th>\n",
       "      <th>CSPL_I_ACDTIME</th>\n",
       "      <th>CSPL_I_ACWTIME</th>\n",
       "      <th>CSPL_I_ACWOUTTIME</th>\n",
       "      <th>CSPL_I_ACWINTIME</th>\n",
       "      <th>CSPL_I_AUXOUTTIME</th>\n",
       "      <th>CSPL_I_AUXINTIME</th>\n",
       "      <th>CSPL_I_OTHERTIME</th>\n",
       "      <th>CSPL_ACWINCALLS</th>\n",
       "      <th>CSPL_ACWINTIME</th>\n",
       "      <th>CSPL_AUXINCALLS</th>\n",
       "      <th>CSPL_AUXINTIME</th>\n",
       "      <th>CSPL_ACWOUTCALLS</th>\n",
       "      <th>CSPL_ACWOUTIME</th>\n",
       "      <th>CSPL_ACWOUTOFFCALLS</th>\n",
       "      <th>CSPL_ACWOUTOFFTIME</th>\n",
       "      <th>CSPL_AUXOUTCALLS</th>\n",
       "      <th>CSPL_AUXOUTTIME</th>\n",
       "      <th>CSPL_AUXOUTOFFCALLS</th>\n",
       "      <th>CSPL_AUXOUTOFFTIME</th>\n",
       "      <th>CSPL_INFLOWCALLS</th>\n",
       "      <th>CSPL_ACDCALLS</th>\n",
       "      <th>CSPL_ANSTIME</th>\n",
       "      <th>CSPL_HOLDCALLS</th>\n",
       "      <th>CSPL_HOLDTIME</th>\n",
       "      <th>CSPL_HOLDABNCALLS</th>\n",
       "      <th>CSPL_TRANSFERED</th>\n",
       "      <th>CSPL_CONFERENCE</th>\n",
       "      <th>CSPL_ABNCALLS</th>\n",
       "      <th>CSPL_ABNTIME</th>\n",
       "      <th>CSPL_ABNCALLS1</th>\n",
       "      <th>CSPL_ABNCALLS2</th>\n",
       "      <th>CSPL_ABNCALLS3</th>\n",
       "      <th>CSPL_ABNCALLS4</th>\n",
       "      <th>CSPL_ABNCALLS5</th>\n",
       "      <th>CSPL_ABNCALLS6</th>\n",
       "      <th>CSPL_ABNCALLS7</th>\n",
       "      <th>CSPL_ABNCALLS8</th>\n",
       "      <th>CSPL_ABNCALLS9</th>\n",
       "      <th>CSPL_ABNCALLS10</th>\n",
       "      <th>CSPL_OUTFLOWCALLS</th>\n",
       "      <th>CSPL_OUTFLOWTIME</th>\n",
       "      <th>CSPL_MAXINQUEUE</th>\n",
       "      <th>CSPL_CALLSOFFERED</th>\n",
       "      <th>CSPL_I_RINGTIME</th>\n",
       "      <th>CSPL_RINGTIME</th>\n",
       "      <th>CSPL_RINGCALLS</th>\n",
       "      <th>CSPL_NOANSREDIR</th>\n",
       "      <th>CSPL_MAXSTAFFED</th>\n",
       "      <th>CSPL_ACWOUTADJCALLS</th>\n",
       "      <th>CSPL_AUXOUTADJCALLS</th>\n",
       "      <th>CSPL_DEQUECALLS</th>\n",
       "      <th>CSPL_DEQUETIME</th>\n",
       "      <th>CSPL_DISCCALLS</th>\n",
       "      <th>CSPL_DISCTIME</th>\n",
       "      <th>CSPL_INTRVL</th>\n",
       "      <th>CSPL_INCOMPLETE</th>\n",
       "      <th>CSPL_ACCEPTABLE</th>\n",
       "      <th>CSPL_SERVICELEVEL</th>\n",
       "      <th>CSPL_ACDAUXOUTCALLS</th>\n",
       "      <th>CSPL_SLVLABNS</th>\n",
       "      <th>CSPL_SLVLOUTFLOWS</th>\n",
       "      <th>CSPL_RECEIVED_CALLS</th>\n",
       "      <th>CSPL_ABANDONNED_CALLS</th>\n",
       "      <th>CSPL_CALLS</th>\n",
       "      <th>CSPL_ACWTIME</th>\n",
       "      <th>CSPL_ACDTIME</th>\n",
       "    </tr>\n",
       "  </thead>\n",
       "  <tbody>\n",
       "    <tr>\n",
       "      <th>0</th>\n",
       "      <td>2011-04-24 01:30:00</td>\n",
       "      <td>0</td>\n",
       "      <td>NaN</td>\n",
       "      <td>1</td>\n",
       "      <td>Dimanche</td>\n",
       "      <td>Nuit</td>\n",
       "      <td>1</td>\n",
       "      <td>855</td>\n",
       "      <td>1</td>\n",
       "      <td>Entity1 G3RV6</td>\n",
       "      <td>Entity1 France</td>\n",
       "      <td>DSIG</td>\n",
       "      <td>Téléphonie</td>\n",
       "      <td>Téléphonie</td>\n",
       "      <td>SUPPORT</td>\n",
       "      <td>2001-01-01 00:00:00.000</td>\n",
       "      <td>9999-12-31 00:00:00.000</td>\n",
       "      <td>NaN</td>\n",
       "      <td>5400</td>\n",
       "      <td>4812</td>\n",
       "      <td>0</td>\n",
       "      <td>0</td>\n",
       "      <td>0</td>\n",
       "      <td>0</td>\n",
       "      <td>0</td>\n",
       "      <td>0</td>\n",
       "      <td>543</td>\n",
       "      <td>0</td>\n",
       "      <td>0</td>\n",
       "      <td>0</td>\n",
       "      <td>0</td>\n",
       "      <td>0</td>\n",
       "      <td>0</td>\n",
       "      <td>0</td>\n",
       "      <td>0</td>\n",
       "      <td>0</td>\n",
       "      <td>0</td>\n",
       "      <td>0</td>\n",
       "      <td>0</td>\n",
       "      <td>0</td>\n",
       "      <td>0</td>\n",
       "      <td>0</td>\n",
       "      <td>0</td>\n",
       "      <td>0</td>\n",
       "      <td>0</td>\n",
       "      <td>0</td>\n",
       "      <td>0</td>\n",
       "      <td>0</td>\n",
       "      <td>0</td>\n",
       "      <td>0</td>\n",
       "      <td>0</td>\n",
       "      <td>0</td>\n",
       "      <td>0</td>\n",
       "      <td>0</td>\n",
       "      <td>0</td>\n",
       "      <td>0</td>\n",
       "      <td>0</td>\n",
       "      <td>0</td>\n",
       "      <td>0</td>\n",
       "      <td>0</td>\n",
       "      <td>0</td>\n",
       "      <td>0</td>\n",
       "      <td>0</td>\n",
       "      <td>0</td>\n",
       "      <td>0</td>\n",
       "      <td>0</td>\n",
       "      <td>0</td>\n",
       "      <td>3</td>\n",
       "      <td>0</td>\n",
       "      <td>0</td>\n",
       "      <td>0</td>\n",
       "      <td>0</td>\n",
       "      <td>0</td>\n",
       "      <td>0</td>\n",
       "      <td>30</td>\n",
       "      <td>0</td>\n",
       "      <td>0</td>\n",
       "      <td>30</td>\n",
       "      <td>0</td>\n",
       "      <td>0</td>\n",
       "      <td>0</td>\n",
       "      <td>0</td>\n",
       "      <td>0</td>\n",
       "      <td>0</td>\n",
       "      <td>0</td>\n",
       "      <td>0</td>\n",
       "    </tr>\n",
       "    <tr>\n",
       "      <th>1</th>\n",
       "      <td>2011-04-24 01:30:00</td>\n",
       "      <td>0</td>\n",
       "      <td>NaN</td>\n",
       "      <td>1</td>\n",
       "      <td>Dimanche</td>\n",
       "      <td>Nuit</td>\n",
       "      <td>1</td>\n",
       "      <td>1587</td>\n",
       "      <td>1</td>\n",
       "      <td>Entity1 G3RV6</td>\n",
       "      <td>Entity1 France</td>\n",
       "      <td>DSIG</td>\n",
       "      <td>Téléphonie</td>\n",
       "      <td>Téléphonie</td>\n",
       "      <td>SUPPORT</td>\n",
       "      <td>2001-01-01 00:00:00.000</td>\n",
       "      <td>9999-12-31 00:00:00.000</td>\n",
       "      <td>NaN</td>\n",
       "      <td>12600</td>\n",
       "      <td>2632</td>\n",
       "      <td>0</td>\n",
       "      <td>0</td>\n",
       "      <td>0</td>\n",
       "      <td>0</td>\n",
       "      <td>0</td>\n",
       "      <td>0</td>\n",
       "      <td>498</td>\n",
       "      <td>0</td>\n",
       "      <td>0</td>\n",
       "      <td>0</td>\n",
       "      <td>0</td>\n",
       "      <td>0</td>\n",
       "      <td>0</td>\n",
       "      <td>0</td>\n",
       "      <td>0</td>\n",
       "      <td>0</td>\n",
       "      <td>0</td>\n",
       "      <td>0</td>\n",
       "      <td>0</td>\n",
       "      <td>0</td>\n",
       "      <td>0</td>\n",
       "      <td>0</td>\n",
       "      <td>0</td>\n",
       "      <td>0</td>\n",
       "      <td>0</td>\n",
       "      <td>0</td>\n",
       "      <td>0</td>\n",
       "      <td>0</td>\n",
       "      <td>0</td>\n",
       "      <td>0</td>\n",
       "      <td>0</td>\n",
       "      <td>0</td>\n",
       "      <td>0</td>\n",
       "      <td>0</td>\n",
       "      <td>0</td>\n",
       "      <td>0</td>\n",
       "      <td>0</td>\n",
       "      <td>0</td>\n",
       "      <td>0</td>\n",
       "      <td>0</td>\n",
       "      <td>0</td>\n",
       "      <td>0</td>\n",
       "      <td>0</td>\n",
       "      <td>0</td>\n",
       "      <td>0</td>\n",
       "      <td>0</td>\n",
       "      <td>0</td>\n",
       "      <td>7</td>\n",
       "      <td>0</td>\n",
       "      <td>0</td>\n",
       "      <td>0</td>\n",
       "      <td>0</td>\n",
       "      <td>0</td>\n",
       "      <td>0</td>\n",
       "      <td>30</td>\n",
       "      <td>0</td>\n",
       "      <td>0</td>\n",
       "      <td>15</td>\n",
       "      <td>0</td>\n",
       "      <td>0</td>\n",
       "      <td>0</td>\n",
       "      <td>0</td>\n",
       "      <td>0</td>\n",
       "      <td>0</td>\n",
       "      <td>0</td>\n",
       "      <td>0</td>\n",
       "    </tr>\n",
       "    <tr>\n",
       "      <th>2</th>\n",
       "      <td>2011-04-24 01:30:00</td>\n",
       "      <td>0</td>\n",
       "      <td>NaN</td>\n",
       "      <td>1</td>\n",
       "      <td>Dimanche</td>\n",
       "      <td>Nuit</td>\n",
       "      <td>1</td>\n",
       "      <td>1589</td>\n",
       "      <td>1</td>\n",
       "      <td>Entity1 G3RV6</td>\n",
       "      <td>Entity1 France</td>\n",
       "      <td>DSIG</td>\n",
       "      <td>Téléphonie</td>\n",
       "      <td>Téléphonie</td>\n",
       "      <td>SUPPORT</td>\n",
       "      <td>2001-01-01 00:00:00.000</td>\n",
       "      <td>9999-12-31 00:00:00.000</td>\n",
       "      <td>NaN</td>\n",
       "      <td>7200</td>\n",
       "      <td>2632</td>\n",
       "      <td>0</td>\n",
       "      <td>0</td>\n",
       "      <td>0</td>\n",
       "      <td>0</td>\n",
       "      <td>0</td>\n",
       "      <td>0</td>\n",
       "      <td>498</td>\n",
       "      <td>0</td>\n",
       "      <td>0</td>\n",
       "      <td>0</td>\n",
       "      <td>0</td>\n",
       "      <td>0</td>\n",
       "      <td>0</td>\n",
       "      <td>0</td>\n",
       "      <td>0</td>\n",
       "      <td>0</td>\n",
       "      <td>0</td>\n",
       "      <td>0</td>\n",
       "      <td>0</td>\n",
       "      <td>0</td>\n",
       "      <td>0</td>\n",
       "      <td>0</td>\n",
       "      <td>0</td>\n",
       "      <td>0</td>\n",
       "      <td>0</td>\n",
       "      <td>0</td>\n",
       "      <td>0</td>\n",
       "      <td>0</td>\n",
       "      <td>0</td>\n",
       "      <td>0</td>\n",
       "      <td>0</td>\n",
       "      <td>0</td>\n",
       "      <td>0</td>\n",
       "      <td>0</td>\n",
       "      <td>0</td>\n",
       "      <td>0</td>\n",
       "      <td>0</td>\n",
       "      <td>0</td>\n",
       "      <td>0</td>\n",
       "      <td>0</td>\n",
       "      <td>0</td>\n",
       "      <td>0</td>\n",
       "      <td>0</td>\n",
       "      <td>0</td>\n",
       "      <td>0</td>\n",
       "      <td>0</td>\n",
       "      <td>0</td>\n",
       "      <td>4</td>\n",
       "      <td>0</td>\n",
       "      <td>0</td>\n",
       "      <td>0</td>\n",
       "      <td>0</td>\n",
       "      <td>0</td>\n",
       "      <td>0</td>\n",
       "      <td>30</td>\n",
       "      <td>0</td>\n",
       "      <td>0</td>\n",
       "      <td>20</td>\n",
       "      <td>0</td>\n",
       "      <td>0</td>\n",
       "      <td>0</td>\n",
       "      <td>0</td>\n",
       "      <td>0</td>\n",
       "      <td>0</td>\n",
       "      <td>0</td>\n",
       "      <td>0</td>\n",
       "    </tr>\n",
       "    <tr>\n",
       "      <th>3</th>\n",
       "      <td>2011-04-24 01:30:00</td>\n",
       "      <td>0</td>\n",
       "      <td>NaN</td>\n",
       "      <td>1</td>\n",
       "      <td>Dimanche</td>\n",
       "      <td>Nuit</td>\n",
       "      <td>1</td>\n",
       "      <td>1591</td>\n",
       "      <td>1</td>\n",
       "      <td>Entity1 G3RV6</td>\n",
       "      <td>Entity1 France</td>\n",
       "      <td>DSIG</td>\n",
       "      <td>Téléphonie</td>\n",
       "      <td>Téléphonie</td>\n",
       "      <td>SUPPORT</td>\n",
       "      <td>2001-01-01 00:00:00.000</td>\n",
       "      <td>9999-12-31 00:00:00.000</td>\n",
       "      <td>NaN</td>\n",
       "      <td>10800</td>\n",
       "      <td>832</td>\n",
       "      <td>0</td>\n",
       "      <td>0</td>\n",
       "      <td>0</td>\n",
       "      <td>0</td>\n",
       "      <td>0</td>\n",
       "      <td>0</td>\n",
       "      <td>498</td>\n",
       "      <td>0</td>\n",
       "      <td>0</td>\n",
       "      <td>0</td>\n",
       "      <td>0</td>\n",
       "      <td>0</td>\n",
       "      <td>0</td>\n",
       "      <td>0</td>\n",
       "      <td>0</td>\n",
       "      <td>0</td>\n",
       "      <td>0</td>\n",
       "      <td>0</td>\n",
       "      <td>0</td>\n",
       "      <td>0</td>\n",
       "      <td>0</td>\n",
       "      <td>0</td>\n",
       "      <td>0</td>\n",
       "      <td>0</td>\n",
       "      <td>0</td>\n",
       "      <td>0</td>\n",
       "      <td>0</td>\n",
       "      <td>0</td>\n",
       "      <td>0</td>\n",
       "      <td>0</td>\n",
       "      <td>0</td>\n",
       "      <td>0</td>\n",
       "      <td>0</td>\n",
       "      <td>0</td>\n",
       "      <td>0</td>\n",
       "      <td>0</td>\n",
       "      <td>0</td>\n",
       "      <td>0</td>\n",
       "      <td>0</td>\n",
       "      <td>0</td>\n",
       "      <td>0</td>\n",
       "      <td>0</td>\n",
       "      <td>0</td>\n",
       "      <td>0</td>\n",
       "      <td>0</td>\n",
       "      <td>0</td>\n",
       "      <td>0</td>\n",
       "      <td>6</td>\n",
       "      <td>0</td>\n",
       "      <td>0</td>\n",
       "      <td>0</td>\n",
       "      <td>0</td>\n",
       "      <td>0</td>\n",
       "      <td>0</td>\n",
       "      <td>30</td>\n",
       "      <td>0</td>\n",
       "      <td>0</td>\n",
       "      <td>0</td>\n",
       "      <td>0</td>\n",
       "      <td>0</td>\n",
       "      <td>0</td>\n",
       "      <td>0</td>\n",
       "      <td>0</td>\n",
       "      <td>0</td>\n",
       "      <td>0</td>\n",
       "      <td>0</td>\n",
       "    </tr>\n",
       "    <tr>\n",
       "      <th>4</th>\n",
       "      <td>2011-04-24 01:30:00</td>\n",
       "      <td>0</td>\n",
       "      <td>NaN</td>\n",
       "      <td>1</td>\n",
       "      <td>Dimanche</td>\n",
       "      <td>Nuit</td>\n",
       "      <td>1</td>\n",
       "      <td>1555</td>\n",
       "      <td>1</td>\n",
       "      <td>Entity1 G3RV6</td>\n",
       "      <td>Entity1 France</td>\n",
       "      <td>DSIG</td>\n",
       "      <td>Téléphonie</td>\n",
       "      <td>Téléphonie</td>\n",
       "      <td>SUPPORT</td>\n",
       "      <td>2001-01-01 00:00:00.000</td>\n",
       "      <td>9999-12-31 00:00:00.000</td>\n",
       "      <td>NaN</td>\n",
       "      <td>12600</td>\n",
       "      <td>2632</td>\n",
       "      <td>488</td>\n",
       "      <td>0</td>\n",
       "      <td>0</td>\n",
       "      <td>0</td>\n",
       "      <td>0</td>\n",
       "      <td>0</td>\n",
       "      <td>0</td>\n",
       "      <td>0</td>\n",
       "      <td>0</td>\n",
       "      <td>0</td>\n",
       "      <td>0</td>\n",
       "      <td>0</td>\n",
       "      <td>0</td>\n",
       "      <td>0</td>\n",
       "      <td>0</td>\n",
       "      <td>0</td>\n",
       "      <td>0</td>\n",
       "      <td>0</td>\n",
       "      <td>0</td>\n",
       "      <td>0</td>\n",
       "      <td>1</td>\n",
       "      <td>10</td>\n",
       "      <td>0</td>\n",
       "      <td>0</td>\n",
       "      <td>0</td>\n",
       "      <td>0</td>\n",
       "      <td>0</td>\n",
       "      <td>0</td>\n",
       "      <td>0</td>\n",
       "      <td>0</td>\n",
       "      <td>0</td>\n",
       "      <td>0</td>\n",
       "      <td>0</td>\n",
       "      <td>0</td>\n",
       "      <td>0</td>\n",
       "      <td>0</td>\n",
       "      <td>0</td>\n",
       "      <td>0</td>\n",
       "      <td>0</td>\n",
       "      <td>0</td>\n",
       "      <td>0</td>\n",
       "      <td>1</td>\n",
       "      <td>1</td>\n",
       "      <td>10</td>\n",
       "      <td>10</td>\n",
       "      <td>1</td>\n",
       "      <td>0</td>\n",
       "      <td>7</td>\n",
       "      <td>0</td>\n",
       "      <td>0</td>\n",
       "      <td>0</td>\n",
       "      <td>0</td>\n",
       "      <td>0</td>\n",
       "      <td>0</td>\n",
       "      <td>30</td>\n",
       "      <td>0</td>\n",
       "      <td>1</td>\n",
       "      <td>15</td>\n",
       "      <td>0</td>\n",
       "      <td>0</td>\n",
       "      <td>0</td>\n",
       "      <td>1</td>\n",
       "      <td>0</td>\n",
       "      <td>1</td>\n",
       "      <td>0</td>\n",
       "      <td>488</td>\n",
       "    </tr>\n",
       "  </tbody>\n",
       "</table>\n",
       "</div>"
      ],
      "text/plain": [
       "                 DATE  DAY_OFF  DAY_DS  WEEK_END DAY_WE_DS TPER_TEAM  \\\n",
       "0 2011-04-24 01:30:00        0     NaN         1  Dimanche      Nuit   \n",
       "1 2011-04-24 01:30:00        0     NaN         1  Dimanche      Nuit   \n",
       "2 2011-04-24 01:30:00        0     NaN         1  Dimanche      Nuit   \n",
       "3 2011-04-24 01:30:00        0     NaN         1  Dimanche      Nuit   \n",
       "4 2011-04-24 01:30:00        0     NaN         1  Dimanche      Nuit   \n",
       "\n",
       "   TPER_HOUR  SPLIT_COD  ACD_COD        ACD_LIB    ASS_SOC_MERE  \\\n",
       "0          1        855        1  Entity1 G3RV6  Entity1 France   \n",
       "1          1       1587        1  Entity1 G3RV6  Entity1 France   \n",
       "2          1       1589        1  Entity1 G3RV6  Entity1 France   \n",
       "3          1       1591        1  Entity1 G3RV6  Entity1 France   \n",
       "4          1       1555        1  Entity1 G3RV6  Entity1 France   \n",
       "\n",
       "  ASS_DIRECTORSHIP ASS_ASSIGNMENT ASS_PARTNER ASS_POLE  \\\n",
       "0             DSIG     Téléphonie  Téléphonie  SUPPORT   \n",
       "1             DSIG     Téléphonie  Téléphonie  SUPPORT   \n",
       "2             DSIG     Téléphonie  Téléphonie  SUPPORT   \n",
       "3             DSIG     Téléphonie  Téléphonie  SUPPORT   \n",
       "4             DSIG     Téléphonie  Téléphonie  SUPPORT   \n",
       "\n",
       "                 ASS_BEGIN                  ASS_END ASS_COMENT  \\\n",
       "0  2001-01-01 00:00:00.000  9999-12-31 00:00:00.000        NaN   \n",
       "1  2001-01-01 00:00:00.000  9999-12-31 00:00:00.000        NaN   \n",
       "2  2001-01-01 00:00:00.000  9999-12-31 00:00:00.000        NaN   \n",
       "3  2001-01-01 00:00:00.000  9999-12-31 00:00:00.000        NaN   \n",
       "4  2001-01-01 00:00:00.000  9999-12-31 00:00:00.000        NaN   \n",
       "\n",
       "   CSPL_I_STAFFTIME  CSPL_I_AVAILTIME  CSPL_I_ACDTIME  CSPL_I_ACWTIME  \\\n",
       "0              5400              4812               0               0   \n",
       "1             12600              2632               0               0   \n",
       "2              7200              2632               0               0   \n",
       "3             10800               832               0               0   \n",
       "4             12600              2632             488               0   \n",
       "\n",
       "   CSPL_I_ACWOUTTIME  CSPL_I_ACWINTIME  CSPL_I_AUXOUTTIME  CSPL_I_AUXINTIME  \\\n",
       "0                  0                 0                  0                 0   \n",
       "1                  0                 0                  0                 0   \n",
       "2                  0                 0                  0                 0   \n",
       "3                  0                 0                  0                 0   \n",
       "4                  0                 0                  0                 0   \n",
       "\n",
       "   CSPL_I_OTHERTIME  CSPL_ACWINCALLS  CSPL_ACWINTIME  CSPL_AUXINCALLS  \\\n",
       "0               543                0               0                0   \n",
       "1               498                0               0                0   \n",
       "2               498                0               0                0   \n",
       "3               498                0               0                0   \n",
       "4                 0                0               0                0   \n",
       "\n",
       "   CSPL_AUXINTIME  CSPL_ACWOUTCALLS  CSPL_ACWOUTIME  CSPL_ACWOUTOFFCALLS  \\\n",
       "0               0                 0               0                    0   \n",
       "1               0                 0               0                    0   \n",
       "2               0                 0               0                    0   \n",
       "3               0                 0               0                    0   \n",
       "4               0                 0               0                    0   \n",
       "\n",
       "   CSPL_ACWOUTOFFTIME  CSPL_AUXOUTCALLS  CSPL_AUXOUTTIME  CSPL_AUXOUTOFFCALLS  \\\n",
       "0                   0                 0                0                    0   \n",
       "1                   0                 0                0                    0   \n",
       "2                   0                 0                0                    0   \n",
       "3                   0                 0                0                    0   \n",
       "4                   0                 0                0                    0   \n",
       "\n",
       "   CSPL_AUXOUTOFFTIME  CSPL_INFLOWCALLS  CSPL_ACDCALLS  CSPL_ANSTIME  \\\n",
       "0                   0                 0              0             0   \n",
       "1                   0                 0              0             0   \n",
       "2                   0                 0              0             0   \n",
       "3                   0                 0              0             0   \n",
       "4                   0                 0              1            10   \n",
       "\n",
       "   CSPL_HOLDCALLS  CSPL_HOLDTIME  CSPL_HOLDABNCALLS  CSPL_TRANSFERED  \\\n",
       "0               0              0                  0                0   \n",
       "1               0              0                  0                0   \n",
       "2               0              0                  0                0   \n",
       "3               0              0                  0                0   \n",
       "4               0              0                  0                0   \n",
       "\n",
       "   CSPL_CONFERENCE  CSPL_ABNCALLS  CSPL_ABNTIME  CSPL_ABNCALLS1  \\\n",
       "0                0              0             0               0   \n",
       "1                0              0             0               0   \n",
       "2                0              0             0               0   \n",
       "3                0              0             0               0   \n",
       "4                0              0             0               0   \n",
       "\n",
       "   CSPL_ABNCALLS2  CSPL_ABNCALLS3  CSPL_ABNCALLS4  CSPL_ABNCALLS5  \\\n",
       "0               0               0               0               0   \n",
       "1               0               0               0               0   \n",
       "2               0               0               0               0   \n",
       "3               0               0               0               0   \n",
       "4               0               0               0               0   \n",
       "\n",
       "   CSPL_ABNCALLS6  CSPL_ABNCALLS7  CSPL_ABNCALLS8  CSPL_ABNCALLS9  \\\n",
       "0               0               0               0               0   \n",
       "1               0               0               0               0   \n",
       "2               0               0               0               0   \n",
       "3               0               0               0               0   \n",
       "4               0               0               0               0   \n",
       "\n",
       "   CSPL_ABNCALLS10  CSPL_OUTFLOWCALLS  CSPL_OUTFLOWTIME  CSPL_MAXINQUEUE  \\\n",
       "0                0                  0                 0                0   \n",
       "1                0                  0                 0                0   \n",
       "2                0                  0                 0                0   \n",
       "3                0                  0                 0                0   \n",
       "4                0                  0                 0                1   \n",
       "\n",
       "   CSPL_CALLSOFFERED  CSPL_I_RINGTIME  CSPL_RINGTIME  CSPL_RINGCALLS  \\\n",
       "0                  0                0              0               0   \n",
       "1                  0                0              0               0   \n",
       "2                  0                0              0               0   \n",
       "3                  0                0              0               0   \n",
       "4                  1               10             10               1   \n",
       "\n",
       "   CSPL_NOANSREDIR  CSPL_MAXSTAFFED  CSPL_ACWOUTADJCALLS  CSPL_AUXOUTADJCALLS  \\\n",
       "0                0                3                    0                    0   \n",
       "1                0                7                    0                    0   \n",
       "2                0                4                    0                    0   \n",
       "3                0                6                    0                    0   \n",
       "4                0                7                    0                    0   \n",
       "\n",
       "   CSPL_DEQUECALLS  CSPL_DEQUETIME  CSPL_DISCCALLS  CSPL_DISCTIME  \\\n",
       "0                0               0               0              0   \n",
       "1                0               0               0              0   \n",
       "2                0               0               0              0   \n",
       "3                0               0               0              0   \n",
       "4                0               0               0              0   \n",
       "\n",
       "   CSPL_INTRVL  CSPL_INCOMPLETE  CSPL_ACCEPTABLE  CSPL_SERVICELEVEL  \\\n",
       "0           30                0                0                 30   \n",
       "1           30                0                0                 15   \n",
       "2           30                0                0                 20   \n",
       "3           30                0                0                  0   \n",
       "4           30                0                1                 15   \n",
       "\n",
       "   CSPL_ACDAUXOUTCALLS  CSPL_SLVLABNS  CSPL_SLVLOUTFLOWS  CSPL_RECEIVED_CALLS  \\\n",
       "0                    0              0                  0                    0   \n",
       "1                    0              0                  0                    0   \n",
       "2                    0              0                  0                    0   \n",
       "3                    0              0                  0                    0   \n",
       "4                    0              0                  0                    1   \n",
       "\n",
       "   CSPL_ABANDONNED_CALLS  CSPL_CALLS  CSPL_ACWTIME  CSPL_ACDTIME  \n",
       "0                      0           0             0             0  \n",
       "1                      0           0             0             0  \n",
       "2                      0           0             0             0  \n",
       "3                      0           0             0             0  \n",
       "4                      0           1             0           488  "
      ]
     },
     "execution_count": 13,
     "metadata": {},
     "output_type": "execute_result"
    }
   ],
   "source": [
    "df.head()"
   ]
  },
  {
   "cell_type": "code",
   "execution_count": 7,
   "metadata": {
    "collapsed": true
   },
   "outputs": [],
   "source": [
    "target = \"CSPL_RECEIVED_CALLS\""
   ]
  },
  {
   "cell_type": "code",
   "execution_count": 8,
   "metadata": {
    "collapsed": true
   },
   "outputs": [],
   "source": [
    "df.DATE = pd.to_datetime(df.DATE)"
   ]
  },
  {
   "cell_type": "code",
   "execution_count": 15,
   "metadata": {
    "collapsed": true
   },
   "outputs": [],
   "source": [
    "import datetime"
   ]
  },
  {
   "cell_type": "markdown",
   "metadata": {},
   "source": [
    "get the time slot of the day (0 for 00:00, 1 for 00:30, ... 47 for 23:30)"
   ]
  },
  {
   "cell_type": "code",
   "execution_count": 16,
   "metadata": {
    "collapsed": true
   },
   "outputs": [],
   "source": [
    "def get_slot(timestamp):\n",
    "    assert timestamp.minute in [0, 30]\n",
    "    return 2 * timestamp.hour + (timestamp.minute == 30)"
   ]
  },
  {
   "cell_type": "code",
   "execution_count": 17,
   "metadata": {
    "collapsed": false
   },
   "outputs": [
    {
     "name": "stdout",
     "output_type": "stream",
     "text": [
      "CPU times: user 45.9 s, sys: 3.77 s, total: 49.6 s\n",
      "Wall time: 51.1 s\n"
     ]
    }
   ],
   "source": [
    "%%time\n",
    "df['slot'] = df.DATE.apply(get_slot)"
   ]
  },
  {
   "cell_type": "code",
   "execution_count": 27,
   "metadata": {
    "collapsed": false
   },
   "outputs": [
    {
     "name": "stdout",
     "output_type": "stream",
     "text": [
      "CPU times: user 49.8 s, sys: 5.51 s, total: 55.3 s\n",
      "Wall time: 56.9 s\n"
     ]
    }
   ],
   "source": [
    "%%time\n",
    "df['dayofweek'] = df.DATE.apply(lambda x: x.dayofweek)"
   ]
  },
  {
   "cell_type": "code",
   "execution_count": 30,
   "metadata": {
    "collapsed": false
   },
   "outputs": [
    {
     "name": "stdout",
     "output_type": "stream",
     "text": [
      "CPU times: user 4.08 s, sys: 693 ms, total: 4.77 s\n",
      "Wall time: 5.07 s\n"
     ]
    }
   ],
   "source": [
    "%%time\n",
    "df['ass_hashed'] = df.ASS_ASSIGNMENT.apply(hash)"
   ]
  },
  {
   "cell_type": "code",
   "execution_count": 31,
   "metadata": {
    "collapsed": true
   },
   "outputs": [],
   "source": [
    "# 1 for night, 0 for day"
   ]
  },
  {
   "cell_type": "code",
   "execution_count": 32,
   "metadata": {
    "collapsed": true
   },
   "outputs": [],
   "source": [
    "df.loc[df.TPER_TEAM == 'Nuit', 'TPER_TEAM'] = 0\n",
    "df.loc[df.TPER_TEAM == 'Jours', 'TPER_TEAM'] = 1"
   ]
  },
  {
   "cell_type": "markdown",
   "metadata": {},
   "source": [
    "### deleting all columns but very few"
   ]
  },
  {
   "cell_type": "code",
   "execution_count": 33,
   "metadata": {
    "collapsed": false
   },
   "outputs": [],
   "source": [
    "df = df[['DATE', target, 'ASS_ASSIGNMENT', 'slot', 'dayofweek', 'ass_hashed']]"
   ]
  },
  {
   "cell_type": "code",
   "execution_count": 51,
   "metadata": {
    "collapsed": false
   },
   "outputs": [
    {
     "data": {
      "text/html": [
       "<div>\n",
       "<table border=\"1\" class=\"dataframe\">\n",
       "  <thead>\n",
       "    <tr style=\"text-align: right;\">\n",
       "      <th></th>\n",
       "      <th>DATE</th>\n",
       "      <th>CSPL_RECEIVED_CALLS</th>\n",
       "      <th>ASS_ASSIGNMENT</th>\n",
       "      <th>slot</th>\n",
       "      <th>dayofweek</th>\n",
       "      <th>ass_hashed</th>\n",
       "    </tr>\n",
       "  </thead>\n",
       "  <tbody>\n",
       "    <tr>\n",
       "      <th>0</th>\n",
       "      <td>2011-04-24 01:30:00</td>\n",
       "      <td>0</td>\n",
       "      <td>Téléphonie</td>\n",
       "      <td>3</td>\n",
       "      <td>6</td>\n",
       "      <td>-1335118869054784524</td>\n",
       "    </tr>\n",
       "    <tr>\n",
       "      <th>1</th>\n",
       "      <td>2011-04-24 01:30:00</td>\n",
       "      <td>0</td>\n",
       "      <td>Téléphonie</td>\n",
       "      <td>3</td>\n",
       "      <td>6</td>\n",
       "      <td>-1335118869054784524</td>\n",
       "    </tr>\n",
       "    <tr>\n",
       "      <th>2</th>\n",
       "      <td>2011-04-24 01:30:00</td>\n",
       "      <td>0</td>\n",
       "      <td>Téléphonie</td>\n",
       "      <td>3</td>\n",
       "      <td>6</td>\n",
       "      <td>-1335118869054784524</td>\n",
       "    </tr>\n",
       "    <tr>\n",
       "      <th>3</th>\n",
       "      <td>2011-04-24 01:30:00</td>\n",
       "      <td>0</td>\n",
       "      <td>Téléphonie</td>\n",
       "      <td>3</td>\n",
       "      <td>6</td>\n",
       "      <td>-1335118869054784524</td>\n",
       "    </tr>\n",
       "    <tr>\n",
       "      <th>4</th>\n",
       "      <td>2011-04-24 01:30:00</td>\n",
       "      <td>1</td>\n",
       "      <td>Téléphonie</td>\n",
       "      <td>3</td>\n",
       "      <td>6</td>\n",
       "      <td>-1335118869054784524</td>\n",
       "    </tr>\n",
       "  </tbody>\n",
       "</table>\n",
       "</div>"
      ],
      "text/plain": [
       "                 DATE  CSPL_RECEIVED_CALLS ASS_ASSIGNMENT  slot  dayofweek  \\\n",
       "0 2011-04-24 01:30:00                    0     Téléphonie     3          6   \n",
       "1 2011-04-24 01:30:00                    0     Téléphonie     3          6   \n",
       "2 2011-04-24 01:30:00                    0     Téléphonie     3          6   \n",
       "3 2011-04-24 01:30:00                    0     Téléphonie     3          6   \n",
       "4 2011-04-24 01:30:00                    1     Téléphonie     3          6   \n",
       "\n",
       "            ass_hashed  \n",
       "0 -1335118869054784524  \n",
       "1 -1335118869054784524  \n",
       "2 -1335118869054784524  \n",
       "3 -1335118869054784524  \n",
       "4 -1335118869054784524  "
      ]
     },
     "execution_count": 51,
     "metadata": {},
     "output_type": "execute_result"
    }
   ],
   "source": [
    "df.head()"
   ]
  },
  {
   "cell_type": "markdown",
   "metadata": {},
   "source": [
    "### simple model : predict constant value per (ASS_ASSIGNMENT, SLOT, DAYOFWEEK) unique tuple"
   ]
  },
  {
   "cell_type": "code",
   "execution_count": 35,
   "metadata": {
    "collapsed": true
   },
   "outputs": [],
   "source": [
    "def best_mean(s):\n",
    "    \"\"\"The constant that minimizes the empirical loss.\n",
    "    For numerical stability, we multiply and divide by the max.\n",
    "    Equal to 1 / alpha * np.log(1 /s.size * np.sum(np.exp(alpha*s)))\"\"\"\n",
    "    s = alpha * s\n",
    "    m = s.max()\n",
    "    s = s - m\n",
    "    return 1 / alpha * (-np.log(s.size) + m + np.log(np.sum(np.exp(s))))"
   ]
  },
  {
   "cell_type": "code",
   "execution_count": 36,
   "metadata": {
    "collapsed": true
   },
   "outputs": [],
   "source": [
    "def get_best_constant(row):\n",
    "    \n",
    "    # selecting corresponding time slots in train set\n",
    "    sub_df = df[(df.ass_hashed == hash(row.ASS_ASSIGNMENT)) & (df.slot == row.slot) & (df.dayofweek == row.dayofweek)]\n",
    "    # sub_df = sub_df[sub_df.slot == row.slot]\n",
    "    # sub_df = sub_df[sub_df.dayofweek == row.dayofweek]\n",
    "    \n",
    "    if sub_df.empty:\n",
    "        print(\"no data for row={}\".format(row))\n",
    "        return 0\n",
    "\n",
    "    # get the best prediction constant for that loss\n",
    "    s = sub_df.reset_index().groupby(\"DATE\")[target].sum()\n",
    "    return best_mean(s)"
   ]
  },
  {
   "cell_type": "code",
   "execution_count": 37,
   "metadata": {
    "collapsed": false
   },
   "outputs": [
    {
     "name": "stdout",
     "output_type": "stream",
     "text": [
      "The slowest run took 9.46 times longer than the fastest. This could mean that an intermediate result is being cached.\n",
      "1 loop, best of 3: 109 ms per loop\n"
     ]
    }
   ],
   "source": [
    "%%timeit\n",
    "get_best_constant(df.iloc[10])"
   ]
  },
  {
   "cell_type": "markdown",
   "metadata": {},
   "source": [
    "# Read submission data"
   ]
  },
  {
   "cell_type": "code",
   "execution_count": 40,
   "metadata": {
    "collapsed": false
   },
   "outputs": [],
   "source": [
    "sub = pd.read_csv('../submission.txt', sep='\\t')"
   ]
  },
  {
   "cell_type": "code",
   "execution_count": 41,
   "metadata": {
    "collapsed": false
   },
   "outputs": [],
   "source": [
    "sub.DATE = pd.to_datetime(sub.DATE)"
   ]
  },
  {
   "cell_type": "code",
   "execution_count": 42,
   "metadata": {
    "collapsed": false
   },
   "outputs": [
    {
     "data": {
      "text/plain": [
       "DatetimeIndex([], dtype='datetime64[ns]', name='DATE', freq=None)"
      ]
     },
     "execution_count": 42,
     "metadata": {},
     "output_type": "execute_result"
    }
   ],
   "source": [
    "# there are no training data for the submission dates!\n",
    "sub_ix = sub.set_index('DATE').index\n",
    "df_ix = df.set_index(\"DATE\").index\n",
    "df_ix.intersection(sub_ix)"
   ]
  },
  {
   "cell_type": "code",
   "execution_count": 43,
   "metadata": {
    "collapsed": false
   },
   "outputs": [
    {
     "data": {
      "text/plain": [
       "(82909, 3)"
      ]
     },
     "execution_count": 43,
     "metadata": {},
     "output_type": "execute_result"
    }
   ],
   "source": [
    "sub.shape"
   ]
  },
  {
   "cell_type": "code",
   "execution_count": 44,
   "metadata": {
    "collapsed": true
   },
   "outputs": [],
   "source": [
    "sub['dayofweek'] = sub.DATE.apply(lambda x: x.dayofweek)\n",
    "sub['slot'] = sub.DATE.apply(get_slot)"
   ]
  },
  {
   "cell_type": "code",
   "execution_count": 45,
   "metadata": {
    "collapsed": false
   },
   "outputs": [
    {
     "name": "stdout",
     "output_type": "stream",
     "text": [
      "CPU times: user 118 ms, sys: 293 ms, total: 411 ms\n",
      "Wall time: 452 ms\n"
     ]
    },
    {
     "data": {
      "text/plain": [
       "3.4230499262386971"
      ]
     },
     "execution_count": 45,
     "metadata": {},
     "output_type": "execute_result"
    }
   ],
   "source": [
    "%%time\n",
    "get_best_constant(sub.iloc[15])"
   ]
  },
  {
   "cell_type": "markdown",
   "metadata": {},
   "source": [
    "### cell below takes ~3 hours to run"
   ]
  },
  {
   "cell_type": "code",
   "execution_count": 85,
   "metadata": {
    "collapsed": false
   },
   "outputs": [
    {
     "name": "stdout",
     "output_type": "stream",
     "text": [
      "0.0 %\n",
      "0.0012061416734009576 %\n",
      "0.002412283346801915 %\n",
      "0.003618425020202873 %\n",
      "0.00482456669360383 %\n",
      "0.006030708367004789 %\n",
      "0.007236850040405746 %\n",
      "0.008442991713806703 %\n",
      "0.00964913338720766 %\n",
      "0.01085527506060862 %\n",
      "0.012061416734009577 %\n",
      "0.013267558407410535 %\n",
      "0.014473700080811492 %\n",
      "0.01567984175421245 %\n",
      "0.016885983427613407 %\n",
      "0.018092125101014364 %\n",
      "0.01929826677441532 %\n",
      "0.02050440844781628 %\n",
      "0.02171055012121724 %\n",
      "0.022916691794618197 %\n",
      "0.024122833468019154 %\n",
      "0.025328975141420112 %\n",
      "0.02653511681482107 %\n",
      "0.027741258488222027 %\n",
      "0.028947400161622984 %\n",
      "0.03015354183502394 %\n",
      "0.0313596835084249 %\n",
      "0.03256582518182586 %\n",
      "0.03377196685522681 %\n",
      "0.034978108528627774 %\n",
      "0.03618425020202873 %\n",
      "0.03739039187542969 %\n",
      "0.03859653354883064 %\n",
      "0.039802675222231604 %\n",
      "0.04100881689563256 %\n",
      "0.04221495856903352 %\n",
      "0.04342110024243448 %\n",
      "0.04462724191583543 %\n",
      "0.045833383589236394 %\n",
      "0.04703952526263735 %\n",
      "0.04824566693603831 %\n",
      "0.04945180860943926 %\n",
      "0.050657950282840224 %\n",
      "0.05186409195624118 %\n",
      "0.05307023362964214 %\n",
      "0.05427637530304309 %\n",
      "0.05548251697644405 %\n",
      "0.056688658649845014 %\n",
      "0.05789480032324597 %\n",
      "0.05910094199664693 %\n",
      "0.06030708367004788 %\n",
      "0.061513225343448844 %\n",
      "0.0627193670168498 %\n",
      "0.06392550869025075 %\n",
      "0.06513165036365172 %\n",
      "0.06633779203705267 %\n",
      "0.06754393371045363 %\n",
      "0.06875007538385458 %\n",
      "0.06995621705725555 %\n",
      "0.0711623587306565 %\n",
      "0.07236850040405746 %\n",
      "0.07357464207745842 %\n",
      "0.07478078375085938 %\n",
      "0.07598692542426033 %\n",
      "0.07719306709766129 %\n",
      "0.07839920877106225 %\n",
      "0.07960535044446321 %\n",
      "0.08081149211786416 %\n",
      "0.08201763379126512 %\n",
      "0.08322377546466608 %\n",
      "0.08442991713806704 %\n",
      "0.08563605881146799 %\n",
      "0.08684220048486896 %\n",
      "0.08804834215826991 %\n",
      "0.08925448383167087 %\n",
      "0.09046062550507182 %\n",
      "0.09166676717847279 %\n",
      "0.09287290885187374 %\n",
      "0.0940790505252747 %\n",
      "0.09528519219867565 %\n",
      "0.09649133387207662 %\n",
      "0.09769747554547757 %\n",
      "0.09890361721887853 %\n",
      "0.1001097588922795 %\n",
      "0.10131590056568045 %\n",
      "0.1025220422390814 %\n",
      "0.10372818391248236 %\n",
      "0.10493432558588332 %\n",
      "0.10614046725928428 %\n",
      "0.10734660893268523 %\n",
      "0.10855275060608618 %\n",
      "0.10975889227948715 %\n",
      "0.1109650339528881 %\n",
      "0.11217117562628906 %\n",
      "0.11337731729969003 %\n",
      "0.11458345897309098 %\n",
      "0.11578960064649194 %\n",
      "0.11699574231989289 %\n",
      "0.11820188399329386 %\n",
      "0.11940802566669481 %\n",
      "0.12061416734009577 %\n",
      "0.12182030901349672 %\n",
      "0.12302645068689769 %\n",
      "0.12423259236029864 %\n",
      "0.1254387340336996 %\n",
      "0.12664487570710056 %\n",
      "0.1278510173805015 %\n",
      "0.12905715905390247 %\n",
      "0.13026330072730344 %\n",
      "0.13146944240070438 %\n",
      "0.13267558407410535 %\n",
      "0.1338817257475063 %\n",
      "0.13508786742090725 %\n",
      "0.13629400909430822 %\n",
      "0.13750015076770916 %\n",
      "0.13870629244111013 %\n",
      "0.1399124341145111 %\n",
      "0.14111857578791204 %\n",
      "0.142324717461313 %\n",
      "0.14353085913471397 %\n",
      "0.1447370008081149 %\n",
      "0.14594314248151588 %\n",
      "0.14714928415491685 %\n",
      "0.1483554258283178 %\n",
      "0.14956156750171876 %\n",
      "0.1507677091751197 %\n",
      "0.15197385084852066 %\n",
      "0.15317999252192163 %\n",
      "0.15438613419532257 %\n",
      "0.15559227586872354 %\n",
      "0.1567984175421245 %\n",
      "0.15800455921552545 %\n",
      "0.15921070088892642 %\n",
      "0.16041684256232738 %\n",
      "0.16162298423572832 %\n",
      "0.1628291259091293 %\n",
      "0.16403526758253023 %\n",
      "0.1652414092559312 %\n",
      "0.16644755092933217 %\n",
      "0.1676536926027331 %\n",
      "0.16885983427613407 %\n",
      "0.17006597594953504 %\n",
      "0.17127211762293598 %\n",
      "0.17247825929633695 %\n",
      "0.17368440096973792 %\n",
      "0.17489054264313886 %\n",
      "0.17609668431653983 %\n",
      "0.17730282598994077 %\n",
      "0.17850896766334173 %\n",
      "0.1797151093367427 %\n",
      "0.18092125101014364 %\n",
      "0.1821273926835446 %\n",
      "0.18333353435694558 %\n",
      "0.18453967603034652 %\n",
      "0.18574581770374748 %\n",
      "0.18695195937714845 %\n",
      "0.1881581010505494 %\n",
      "0.18936424272395036 %\n",
      "0.1905703843973513 %\n",
      "0.19177652607075227 %\n",
      "0.19298266774415324 %\n",
      "0.19418880941755418 %\n",
      "0.19539495109095514 %\n",
      "0.1966010927643561 %\n",
      "0.19780723443775705 %\n",
      "0.19901337611115802 %\n",
      "0.200219517784559 %\n",
      "0.20142565945795993 %\n",
      "0.2026318011313609 %\n",
      "0.20383794280476183 %\n",
      "0.2050440844781628 %\n",
      "0.20625022615156377 %\n",
      "0.2074563678249647 %\n",
      "0.20866250949836568 %\n",
      "0.20986865117176665 %\n",
      "0.21107479284516759 %\n",
      "0.21228093451856855 %\n",
      "0.21348707619196952 %\n",
      "0.21469321786537046 %\n",
      "0.21589935953877143 %\n",
      "0.21710550121217237 %\n",
      "0.21831164288557334 %\n",
      "0.2195177845589743 %\n",
      "0.22072392623237524 %\n",
      "0.2219300679057762 %\n",
      "0.22313620957917718 %\n",
      "0.22434235125257812 %\n",
      "0.2255484929259791 %\n",
      "0.22675463459938006 %\n",
      "0.227960776272781 %\n",
      "0.22916691794618196 %\n",
      "0.2303730596195829 %\n",
      "0.23157920129298387 %\n",
      "0.23278534296638484 %\n",
      "0.23399148463978578 %\n",
      "0.23519762631318675 %\n",
      "0.23640376798658772 %\n",
      "0.23760990965998866 %\n",
      "0.23881605133338962 %\n",
      "0.2400221930067906 %\n",
      "0.24122833468019153 %\n",
      "0.2424344763535925 %\n",
      "0.24364061802699344 %\n",
      "0.2448467597003944 %\n",
      "0.24605290137379537 %\n",
      "0.24725904304719631 %\n",
      "0.24846518472059728 %\n",
      "0.24967132639399825 %\n",
      "0.2508774680673992 %\n",
      "0.25208360974080013 %\n",
      "0.2532897514142011 %\n",
      "0.25449589308760207 %\n",
      "0.255702034761003 %\n",
      "0.256908176434404 %\n",
      "0.25811431810780494 %\n",
      "0.2593204597812059 %\n",
      "0.2605266014546069 %\n",
      "0.2617327431280078 %\n",
      "0.26293888480140876 %\n",
      "0.26414502647480975 %\n",
      "0.2653511681482107 %\n",
      "0.26655730982161163 %\n",
      "0.2677634514950126 %\n",
      "0.26896959316841357 %\n",
      "0.2701757348418145 %\n",
      "0.2713818765152155 %\n",
      "0.27258801818861644 %\n",
      "0.2737941598620174 %\n",
      "0.2750003015354183 %\n",
      "0.2762064432088193 %\n",
      "0.27741258488222026 %\n",
      "0.2786187265556212 %\n",
      "0.2798248682290222 %\n",
      "0.28103100990242313 %\n",
      "0.2822371515758241 %\n",
      "0.28344329324922507 %\n",
      "0.284649434922626 %\n",
      "0.28585557659602695 %\n",
      "0.28706171826942795 %\n",
      "0.2882678599428289 %\n",
      "0.2894740016162298 %\n",
      "0.2906801432896308 %\n",
      "0.29188628496303176 %\n",
      "0.2930924266364327 %\n",
      "0.2942985683098337 %\n",
      "0.29550470998323464 %\n",
      "0.2967108516566356 %\n",
      "0.2979169933300366 %\n",
      "0.2991231350034375 %\n",
      "0.30032927667683845 %\n",
      "0.3015354183502394 %\n",
      "0.3027415600236404 %\n",
      "0.30394770169704133 %\n",
      "0.30515384337044227 %\n",
      "0.30635998504384326 %\n",
      "0.3075661267172442 %\n",
      "0.30877226839064514 %\n",
      "0.30997841006404614 %\n",
      "0.3111845517374471 %\n",
      "0.312390693410848 %\n",
      "0.313596835084249 %\n",
      "0.31480297675764995 %\n",
      "0.3160091184310509 %\n",
      "0.3172152601044519 %\n",
      "0.31842140177785283 %\n",
      "0.31962754345125377 %\n",
      "0.32083368512465477 %\n",
      "0.3220398267980557 %\n",
      "0.32324596847145665 %\n",
      "0.32445211014485764 %\n",
      "0.3256582518182586 %\n",
      "0.3268643934916595 %\n",
      "0.32807053516506046 %\n",
      "0.32927667683846146 %\n",
      "0.3304828185118624 %\n",
      "0.33168896018526334 %\n",
      "0.33289510185866433 %\n",
      "0.3341012435320653 %\n",
      "0.3353073852054662 %\n",
      "0.3365135268788672 %\n",
      "0.33771966855226815 %\n",
      "0.3389258102256691 %\n",
      "0.3401319518990701 %\n",
      "0.341338093572471 %\n",
      "0.34254423524587196 %\n",
      "0.34375037691927296 %\n",
      "0.3449565185926739 %\n",
      "0.34616266026607484 %\n",
      "0.34736880193947584 %\n",
      "0.3485749436128768 %\n",
      "0.3497810852862777 %\n",
      "0.3509872269596787 %\n",
      "0.35219336863307965 %\n",
      "0.3533995103064806 %\n",
      "0.35460565197988153 %\n",
      "0.3558117936532825 %\n",
      "0.35701793532668347 %\n",
      "0.3582240770000844 %\n",
      "0.3594302186734854 %\n",
      "0.36063636034688634 %\n",
      "0.3618425020202873 %\n",
      "0.3630486436936883 %\n",
      "0.3642547853670892 %\n",
      "0.36546092704049016 %\n",
      "0.36666706871389115 %\n",
      "0.3678732103872921 %\n",
      "0.36907935206069303 %\n",
      "0.37028549373409403 %\n",
      "0.37149163540749497 %\n",
      "0.3726977770808959 %\n",
      "0.3739039187542969 %\n",
      "0.37511006042769784 %\n",
      "0.3763162021010988 %\n",
      "0.3775223437744998 %\n",
      "0.3787284854479007 %\n",
      "0.37993462712130166 %\n",
      "0.3811407687947026 %\n",
      "0.3823469104681036 %\n",
      "0.38355305214150454 %\n",
      "0.3847591938149055 %\n",
      "0.38596533548830647 %\n",
      "0.3871714771617074 %\n",
      "0.38837761883510835 %\n",
      "0.38958376050850935 %\n",
      "0.3907899021819103 %\n",
      "0.3919960438553112 %\n",
      "0.3932021855287122 %\n",
      "0.39440832720211316 %\n",
      "0.3956144688755141 %\n",
      "0.3968206105489151 %\n",
      "0.39802675222231604 %\n",
      "0.399232893895717 %\n",
      "0.400439035569118 %\n",
      "0.4016451772425189 %\n",
      "0.40285131891591985 %\n",
      "0.40405746058932085 %\n",
      "0.4052636022627218 %\n",
      "0.40646974393612273 %\n",
      "0.40767588560952367 %\n",
      "0.40888202728292466 %\n",
      "0.4100881689563256 %\n",
      "0.41129431062972654 %\n",
      "0.41250045230312754 %\n",
      "0.4137065939765285 %\n",
      "0.4149127356499294 %\n",
      "0.4161188773233304 %\n",
      "0.41732501899673136 %\n",
      "0.4185311606701323 %\n",
      "0.4197373023435333 %\n",
      "0.42094344401693423 %\n",
      "0.42214958569033517 %\n",
      "0.42335572736373617 %\n",
      "0.4245618690371371 %\n",
      "0.42576801071053805 %\n",
      "0.42697415238393904 %\n",
      "0.42818029405734 %\n",
      "0.4293864357307409 %\n",
      "0.43059257740414186 %\n",
      "0.43179871907754286 %\n",
      "0.4330048607509438 %\n",
      "0.43421100242434474 %\n",
      "0.43541714409774573 %\n",
      "0.4366232857711467 %\n",
      "0.4378294274445476 %\n",
      "0.4390355691179486 %\n",
      "0.44024171079134955 %\n",
      "0.4414478524647505 %\n",
      "0.4426539941381515 %\n",
      "0.4438601358115524 %\n",
      "0.44506627748495337 %\n",
      "0.44627241915835436 %\n",
      "0.4474785608317553 %\n",
      "0.44868470250515624 %\n",
      "0.44989084417855724 %\n",
      "0.4510969858519582 %\n",
      "0.4523031275253591 %\n",
      "0.4535092691987601 %\n",
      "0.45471541087216105 %\n",
      "0.455921552545562 %\n",
      "0.45712769421896293 %\n",
      "0.4583338358923639 %\n",
      "0.45953997756576487 %\n",
      "0.4607461192391658 %\n",
      "0.4619522609125668 %\n",
      "0.46315840258596774 %\n",
      "0.4643645442593687 %\n",
      "0.4655706859327697 %\n",
      "0.4667768276061706 %\n",
      "0.46798296927957156 %\n",
      "0.46918911095297255 %\n",
      "0.4703952526263735 %\n",
      "0.47160139429977443 %\n",
      "0.47280753597317543 %\n",
      "0.47401367764657637 %\n",
      "0.4752198193199773 %\n",
      "0.4764259609933783 %\n",
      "0.47763210266677925 %\n",
      "0.4788382443401802 %\n",
      "0.4800443860135812 %\n",
      "0.4812505276869821 %\n",
      "0.48245666936038306 %\n",
      "0.483662811033784 %\n",
      "0.484868952707185 %\n",
      "0.48607509438058594 %\n",
      "0.4872812360539869 %\n",
      "0.4884873777273879 %\n",
      "0.4896935194007888 %\n",
      "0.49089966107418975 %\n",
      "0.49210580274759075 %\n",
      "0.4933119444209917 %\n",
      "0.49451808609439263 %\n",
      "0.4957242277677936 %\n",
      "0.49693036944119456 %\n",
      "0.4981365111145955 %\n",
      "0.4993426527879965 %\n",
      "0.5005487944613974 %\n",
      "0.5017549361347984 %\n",
      "0.5029610778081993 %\n",
      "0.5041672194816003 %\n",
      "0.5053733611550013 %\n",
      "0.5065795028284023 %\n",
      "0.5077856445018032 %\n",
      "0.5089917861752041 %\n",
      "0.5101979278486051 %\n",
      "0.511404069522006 %\n",
      "0.5126102111954071 %\n",
      "0.513816352868808 %\n",
      "0.5150224945422089 %\n",
      "0.5162286362156099 %\n",
      "0.5174347778890108 %\n",
      "0.5186409195624118 %\n",
      "0.5198470612358128 %\n",
      "0.5210532029092138 %\n",
      "0.5222593445826147 %\n",
      "0.5234654862560156 %\n",
      "0.5246716279294166 %\n",
      "0.5258777696028175 %\n",
      "0.5270839112762185 %\n",
      "0.5282900529496195 %\n",
      "0.5294961946230204 %\n",
      "0.5307023362964214 %\n",
      "0.5319084779698223 %\n",
      "0.5331146196432233 %\n",
      "0.5343207613166242 %\n",
      "0.5355269029900253 %\n",
      "0.5367330446634262 %\n",
      "0.5379391863368271 %\n",
      "0.5391453280102281 %\n",
      "0.540351469683629 %\n",
      "0.54155761135703 %\n",
      "0.542763753030431 %\n",
      "0.543969894703832 %\n",
      "0.5451760363772329 %\n",
      "0.5463821780506338 %\n",
      "0.5475883197240348 %\n",
      "0.5487944613974357 %\n",
      "0.5500006030708366 %\n",
      "0.5512067447442377 %\n",
      "0.5524128864176386 %\n",
      "0.5536190280910396 %\n",
      "0.5548251697644405 %\n",
      "0.5560313114378415 %\n",
      "0.5572374531112424 %\n",
      "0.5584435947846434 %\n",
      "0.5596497364580444 %\n",
      "0.5608558781314453 %\n",
      "0.5620620198048463 %\n",
      "0.5632681614782472 %\n",
      "0.5644743031516481 %\n",
      "0.5656804448250492 %\n",
      "0.5668865864984501 %\n",
      "0.5680927281718511 %\n",
      "0.569298869845252 %\n",
      "0.570505011518653 %\n",
      "0.5717111531920539 %\n",
      "0.572917294865455 %\n",
      "0.5741234365388559 %\n",
      "0.5753295782122568 %\n",
      "0.5765357198856578 %\n",
      "0.5777418615590587 %\n",
      "0.5789480032324597 %\n",
      "0.5801541449058606 %\n",
      "0.5813602865792616 %\n",
      "0.5825664282526626 %\n",
      "0.5837725699260635 %\n",
      "0.5849787115994645 %\n",
      "0.5861848532728654 %\n",
      "0.5873909949462663 %\n",
      "0.5885971366196674 %\n",
      "0.5898032782930683 %\n",
      "0.5910094199664693 %\n",
      "0.5922155616398702 %\n",
      "0.5934217033132712 %\n",
      "0.5946278449866721 %\n",
      "0.5958339866600731 %\n",
      "0.5970401283334741 %\n",
      "0.598246270006875 %\n",
      "0.599452411680276 %\n",
      "0.6006585533536769 %\n",
      "0.6018646950270778 %\n",
      "0.6030708367004788 %\n",
      "0.6042769783738798 %\n",
      "0.6054831200472808 %\n",
      "0.6066892617206817 %\n",
      "0.6078954033940827 %\n",
      "0.6091015450674836 %\n",
      "0.6103076867408845 %\n",
      "0.6115138284142856 %\n",
      "0.6127199700876865 %\n",
      "0.6139261117610875 %\n",
      "0.6151322534344884 %\n",
      "0.6163383951078893 %\n",
      "0.6175445367812903 %\n",
      "0.6187506784546913 %\n",
      "0.6199568201280923 %\n",
      "0.6211629618014932 %\n",
      "0.6223691034748942 %\n",
      "0.6235752451482951 %\n",
      "0.624781386821696 %\n",
      "0.625987528495097 %\n",
      "0.627193670168498 %\n",
      "0.628399811841899 %\n",
      "0.6296059535152999 %\n",
      "0.6308120951887008 %\n",
      "0.6320182368621018 %\n",
      "0.6332243785355027 %\n",
      "0.6344305202089038 %\n",
      "0.6356366618823047 %\n",
      "0.6368428035557057 %\n",
      "0.6380489452291066 %\n",
      "0.6392550869025075 %\n",
      "0.6404612285759085 %\n",
      "0.6416673702493095 %\n",
      "0.6428735119227105 %\n",
      "0.6440796535961114 %\n",
      "0.6452857952695124 %\n",
      "0.6464919369429133 %\n",
      "0.6476980786163142 %\n",
      "0.6489042202897153 %\n",
      "0.6501103619631162 %\n",
      "0.6513165036365172 %\n",
      "0.6525226453099181 %\n",
      "0.653728786983319 %\n",
      "0.65493492865672 %\n",
      "0.6561410703301209 %\n",
      "0.657347212003522 %\n",
      "0.6585533536769229 %\n",
      "0.6597594953503239 %\n",
      "0.6609656370237248 %\n",
      "0.6621717786971257 %\n",
      "0.6633779203705267 %\n",
      "0.6645840620439277 %\n",
      "0.6657902037173287 %\n",
      "0.6669963453907296 %\n",
      "0.6682024870641305 %\n",
      "0.6694086287375315 %\n",
      "0.6706147704109324 %\n",
      "0.6718209120843335 %\n",
      "0.6730270537577344 %\n",
      "0.6742331954311354 %\n",
      "0.6754393371045363 %\n",
      "0.6766454787779372 %\n",
      "0.6778516204513382 %\n",
      "0.6790577621247391 %\n",
      "0.6802639037981402 %\n",
      "0.6814700454715411 %\n",
      "0.682676187144942 %\n",
      "0.683882328818343 %\n",
      "0.6850884704917439 %\n",
      "0.6862946121651449 %\n",
      "0.6875007538385459 %\n",
      "0.6887068955119469 %\n",
      "0.6899130371853478 %\n",
      "0.6911191788587487 %\n",
      "0.6923253205321497 %\n",
      "0.6935314622055506 %\n",
      "0.6947376038789517 %\n",
      "0.6959437455523526 %\n",
      "0.6971498872257536 %\n",
      "0.6983560288991545 %\n",
      "0.6995621705725554 %\n",
      "0.7007683122459564 %\n",
      "0.7019744539193574 %\n",
      "0.7031805955927584 %\n",
      "0.7043867372661593 %\n",
      "0.7055928789395602 %\n",
      "0.7067990206129612 %\n",
      "0.7080051622863621 %\n",
      "0.7092113039597631 %\n",
      "0.7104174456331641 %\n",
      "0.711623587306565 %\n",
      "0.712829728979966 %\n",
      "0.7140358706533669 %\n",
      "0.7152420123267679 %\n",
      "0.7164481540001688 %\n",
      "0.7176542956735699 %\n",
      "0.7188604373469708 %\n",
      "0.7200665790203717 %\n",
      "0.7212727206937727 %\n",
      "0.7224788623671736 %\n",
      "0.7236850040405746 %\n",
      "0.7248911457139756 %\n",
      "0.7260972873873766 %\n",
      "0.7273034290607775 %\n",
      "0.7285095707341784 %\n",
      "0.7297157124075794 %\n",
      "0.7309218540809803 %\n",
      "0.7321279957543813 %\n",
      "0.7333341374277823 %\n",
      "0.7345402791011832 %\n",
      "0.7357464207745842 %\n",
      "0.7369525624479851 %\n",
      "0.7381587041213861 %\n",
      "0.739364845794787 %\n",
      "0.7405709874681881 %\n",
      "0.741777129141589 %\n",
      "0.7429832708149899 %\n",
      "0.7441894124883909 %\n",
      "0.7453955541617918 %\n",
      "0.7466016958351928 %\n",
      "0.7478078375085938 %\n",
      "0.7490139791819947 %\n",
      "0.7502201208553957 %\n",
      "0.7514262625287966 %\n",
      "0.7526324042021976 %\n",
      "0.7538385458755985 %\n",
      "0.7550446875489996 %\n",
      "0.7562508292224005 %\n",
      "0.7574569708958014 %\n",
      "0.7586631125692024 %\n",
      "0.7598692542426033 %\n",
      "0.7610753959160043 %\n",
      "0.7622815375894052 %\n",
      "0.7634876792628063 %\n",
      "0.7646938209362072 %\n",
      "0.7658999626096081 %\n",
      "0.7671061042830091 %\n",
      "0.76831224595641 %\n",
      "0.769518387629811 %\n",
      "0.770724529303212 %\n",
      "0.7719306709766129 %\n",
      "0.7731368126500139 %\n",
      "0.7743429543234148 %\n",
      "0.7755490959968158 %\n",
      "0.7767552376702167 %\n",
      "0.7779613793436178 %\n",
      "0.7791675210170187 %\n",
      "0.7803736626904196 %\n",
      "0.7815798043638206 %\n",
      "0.7827859460372215 %\n",
      "0.7839920877106225 %\n",
      "0.7851982293840234 %\n",
      "0.7864043710574244 %\n",
      "0.7876105127308254 %\n",
      "0.7888166544042263 %\n",
      "0.7900227960776273 %\n",
      "0.7912289377510282 %\n",
      "0.7924350794244291 %\n",
      "0.7936412210978302 %\n",
      "0.7948473627712311 %\n",
      "0.7960535044446321 %\n",
      "0.797259646118033 %\n",
      "0.798465787791434 %\n",
      "0.7996719294648349 %\n",
      "0.800878071138236 %\n",
      "0.8020842128116369 %\n",
      "0.8032903544850378 %\n",
      "0.8044964961584388 %\n",
      "0.8057026378318397 %\n",
      "0.8069087795052406 %\n",
      "0.8081149211786417 %\n",
      "0.8093210628520426 %\n",
      "0.8105272045254436 %\n",
      "0.8117333461988445 %\n",
      "0.8129394878722455 %\n",
      "0.8141456295456464 %\n",
      "0.8153517712190473 %\n",
      "0.8165579128924484 %\n",
      "0.8177640545658493 %\n",
      "0.8189701962392503 %\n",
      "0.8201763379126512 %\n",
      "0.8213824795860521 %\n",
      "0.8225886212594531 %\n",
      "0.8237947629328541 %\n",
      "0.8250009046062551 %\n",
      "0.826207046279656 %\n",
      "0.827413187953057 %\n",
      "0.8286193296264579 %\n",
      "0.8298254712998588 %\n",
      "0.8310316129732599 %\n",
      "0.8322377546466608 %\n",
      "0.8334438963200618 %\n",
      "0.8346500379934627 %\n",
      "0.8358561796668637 %\n",
      "0.8370623213402646 %\n",
      "0.8382684630136655 %\n",
      "0.8394746046870666 %\n",
      "0.8406807463604675 %\n",
      "0.8418868880338685 %\n",
      "0.8430930297072694 %\n",
      "0.8442991713806703 %\n",
      "0.8455053130540713 %\n",
      "0.8467114547274723 %\n",
      "0.8479175964008733 %\n",
      "0.8491237380742742 %\n",
      "0.8503298797476752 %\n",
      "0.8515360214210761 %\n",
      "0.852742163094477 %\n",
      "0.8539483047678781 %\n",
      "0.855154446441279 %\n",
      "0.85636058811468 %\n",
      "0.8575667297880809 %\n",
      "0.8587728714614818 %\n",
      "0.8599790131348828 %\n",
      "0.8611851548082837 %\n",
      "0.8623912964816848 %\n",
      "0.8635974381550857 %\n",
      "0.8648035798284867 %\n",
      "0.8660097215018876 %\n",
      "0.8672158631752885 %\n",
      "0.8684220048486895 %\n",
      "0.8696281465220905 %\n",
      "0.8708342881954915 %\n",
      "0.8720404298688924 %\n",
      "0.8732465715422933 %\n",
      "0.8744527132156943 %\n",
      "0.8756588548890952 %\n",
      "0.8768649965624963 %\n",
      "0.8780711382358972 %\n",
      "0.8792772799092982 %\n",
      "0.8804834215826991 %\n",
      "0.8816895632561 %\n",
      "0.882895704929501 %\n",
      "0.884101846602902 %\n",
      "0.885307988276303 %\n",
      "0.8865141299497039 %\n",
      "0.8877202716231049 %\n",
      "0.8889264132965058 %\n",
      "0.8901325549699067 %\n",
      "0.8913386966433077 %\n",
      "0.8925448383167087 %\n",
      "0.8937509799901097 %\n",
      "0.8949571216635106 %\n",
      "0.8961632633369115 %\n",
      "0.8973694050103125 %\n",
      "0.8985755466837134 %\n",
      "0.8997816883571145 %\n",
      "0.9009878300305154 %\n",
      "0.9021939717039164 %\n",
      "0.9034001133773173 %\n",
      "0.9046062550507182 %\n",
      "0.9058123967241192 %\n",
      "0.9070185383975202 %\n",
      "0.9082246800709212 %\n",
      "0.9094308217443221 %\n",
      "0.910636963417723 %\n",
      "0.911843105091124 %\n",
      "0.9130492467645249 %\n",
      "0.9142553884379259 %\n",
      "0.9154615301113269 %\n",
      "0.9166676717847279 %\n",
      "0.9178738134581288 %\n",
      "0.9190799551315297 %\n",
      "0.9202860968049307 %\n",
      "0.9214922384783316 %\n",
      "0.9226983801517327 %\n",
      "0.9239045218251336 %\n",
      "0.9251106634985345 %\n",
      "0.9263168051719355 %\n",
      "0.9275229468453364 %\n",
      "0.9287290885187374 %\n",
      "0.9299352301921384 %\n",
      "0.9311413718655394 %\n",
      "0.9323475135389403 %\n",
      "0.9335536552123412 %\n",
      "0.9347597968857422 %\n",
      "0.9359659385591431 %\n",
      "0.9371720802325442 %\n",
      "0.9383782219059451 %\n",
      "0.939584363579346 %\n",
      "0.940790505252747 %\n",
      "0.9419966469261479 %\n",
      "0.9432027885995489 %\n",
      "0.9444089302729498 %\n",
      "0.9456150719463509 %\n",
      "0.9468212136197518 %\n",
      "0.9480273552931527 %\n",
      "0.9492334969665537 %\n",
      "0.9504396386399546 %\n",
      "0.9516457803133556 %\n",
      "0.9528519219867566 %\n",
      "0.9540580636601576 %\n",
      "0.9552642053335585 %\n",
      "0.9564703470069594 %\n",
      "0.9576764886803604 %\n",
      "0.9588826303537613 %\n",
      "0.9600887720271624 %\n",
      "0.9612949137005633 %\n",
      "0.9625010553739642 %\n",
      "0.9637071970473652 %\n",
      "0.9649133387207661 %\n",
      "0.9661194803941671 %\n",
      "0.967325622067568 %\n",
      "0.968531763740969 %\n",
      "0.96973790541437 %\n",
      "0.9709440470877709 %\n",
      "0.9721501887611719 %\n",
      "0.9733563304345728 %\n",
      "0.9745624721079738 %\n",
      "0.9757686137813748 %\n",
      "0.9769747554547757 %\n",
      "0.9781808971281767 %\n",
      "0.9793870388015776 %\n",
      "0.9805931804749786 %\n",
      "0.9817993221483795 %\n",
      "0.9830054638217806 %\n",
      "0.9842116054951815 %\n",
      "0.9854177471685824 %\n",
      "0.9866238888419834 %\n",
      "0.9878300305153843 %\n",
      "0.9890361721887853 %\n",
      "0.9902423138621863 %\n",
      "0.9914484555355872 %\n",
      "0.9926545972089882 %\n",
      "0.9938607388823891 %\n",
      "0.9950668805557901 %\n",
      "0.996273022229191 %\n",
      "0.997479163902592 %\n",
      "0.998685305575993 %\n",
      "0.9998914472493939 %\n"
     ]
    }
   ],
   "source": [
    "for i in range(sub.shape[0]):\n",
    "    if not i % 100:\n",
    "        print(\"{} %\".format(100 * i / sub.shape[0]))\n",
    "    sub.loc[i, 'prediction'] = get_best_constant(sub.iloc[i])"
   ]
  },
  {
   "cell_type": "code",
   "execution_count": 86,
   "metadata": {
    "collapsed": false
   },
   "outputs": [
    {
     "data": {
      "text/plain": [
       "count    8.290900e+04\n",
       "mean              inf\n",
       "std               NaN\n",
       "min     -1.110223e-16\n",
       "25%      0.000000e+00\n",
       "50%      9.135438e-01\n",
       "75%      1.521440e+01\n",
       "max               inf\n",
       "Name: prediction, dtype: float64"
      ]
     },
     "execution_count": 86,
     "metadata": {},
     "output_type": "execute_result"
    }
   ],
   "source": [
    "sub.prediction.describe()"
   ]
  },
  {
   "cell_type": "code",
   "execution_count": 142,
   "metadata": {
    "collapsed": false
   },
   "outputs": [
    {
     "data": {
      "text/html": [
       "<div>\n",
       "<table border=\"1\" class=\"dataframe\">\n",
       "  <thead>\n",
       "    <tr style=\"text-align: right;\">\n",
       "      <th></th>\n",
       "      <th>DATE</th>\n",
       "      <th>ASS_ASSIGNMENT</th>\n",
       "      <th>prediction</th>\n",
       "      <th>dayofweek</th>\n",
       "      <th>slot</th>\n",
       "    </tr>\n",
       "  </thead>\n",
       "  <tbody>\n",
       "    <tr>\n",
       "      <th>0</th>\n",
       "      <td>2012-12-28</td>\n",
       "      <td>CMS</td>\n",
       "      <td>0.000000</td>\n",
       "      <td>4</td>\n",
       "      <td>0</td>\n",
       "    </tr>\n",
       "    <tr>\n",
       "      <th>1</th>\n",
       "      <td>2012-12-28</td>\n",
       "      <td>Crises</td>\n",
       "      <td>0.000000</td>\n",
       "      <td>4</td>\n",
       "      <td>0</td>\n",
       "    </tr>\n",
       "    <tr>\n",
       "      <th>2</th>\n",
       "      <td>2012-12-28</td>\n",
       "      <td>Domicile</td>\n",
       "      <td>0.299646</td>\n",
       "      <td>4</td>\n",
       "      <td>0</td>\n",
       "    </tr>\n",
       "    <tr>\n",
       "      <th>3</th>\n",
       "      <td>2012-12-28</td>\n",
       "      <td>Gestion</td>\n",
       "      <td>0.000000</td>\n",
       "      <td>4</td>\n",
       "      <td>0</td>\n",
       "    </tr>\n",
       "    <tr>\n",
       "      <th>4</th>\n",
       "      <td>2012-12-28</td>\n",
       "      <td>Gestion - Accueil Telephonique</td>\n",
       "      <td>0.045581</td>\n",
       "      <td>4</td>\n",
       "      <td>0</td>\n",
       "    </tr>\n",
       "  </tbody>\n",
       "</table>\n",
       "</div>"
      ],
      "text/plain": [
       "        DATE                  ASS_ASSIGNMENT  prediction  dayofweek  slot\n",
       "0 2012-12-28                             CMS    0.000000          4     0\n",
       "1 2012-12-28                          Crises    0.000000          4     0\n",
       "2 2012-12-28                        Domicile    0.299646          4     0\n",
       "3 2012-12-28                         Gestion    0.000000          4     0\n",
       "4 2012-12-28  Gestion - Accueil Telephonique    0.045581          4     0"
      ]
     },
     "execution_count": 142,
     "metadata": {},
     "output_type": "execute_result"
    }
   ],
   "source": [
    "sub.head()"
   ]
  },
  {
   "cell_type": "code",
   "execution_count": 143,
   "metadata": {
    "collapsed": true
   },
   "outputs": [],
   "source": [
    "real_sub = sub.iloc[:, :3]"
   ]
  },
  {
   "cell_type": "code",
   "execution_count": 144,
   "metadata": {
    "collapsed": false,
    "scrolled": true
   },
   "outputs": [
    {
     "data": {
      "text/html": [
       "<div>\n",
       "<table border=\"1\" class=\"dataframe\">\n",
       "  <thead>\n",
       "    <tr style=\"text-align: right;\">\n",
       "      <th></th>\n",
       "      <th>DATE</th>\n",
       "      <th>ASS_ASSIGNMENT</th>\n",
       "      <th>prediction</th>\n",
       "    </tr>\n",
       "  </thead>\n",
       "  <tbody>\n",
       "    <tr>\n",
       "      <th>0</th>\n",
       "      <td>2012-12-28</td>\n",
       "      <td>CMS</td>\n",
       "      <td>0.000000</td>\n",
       "    </tr>\n",
       "    <tr>\n",
       "      <th>1</th>\n",
       "      <td>2012-12-28</td>\n",
       "      <td>Crises</td>\n",
       "      <td>0.000000</td>\n",
       "    </tr>\n",
       "    <tr>\n",
       "      <th>2</th>\n",
       "      <td>2012-12-28</td>\n",
       "      <td>Domicile</td>\n",
       "      <td>0.299646</td>\n",
       "    </tr>\n",
       "    <tr>\n",
       "      <th>3</th>\n",
       "      <td>2012-12-28</td>\n",
       "      <td>Gestion</td>\n",
       "      <td>0.000000</td>\n",
       "    </tr>\n",
       "    <tr>\n",
       "      <th>4</th>\n",
       "      <td>2012-12-28</td>\n",
       "      <td>Gestion - Accueil Telephonique</td>\n",
       "      <td>0.045581</td>\n",
       "    </tr>\n",
       "  </tbody>\n",
       "</table>\n",
       "</div>"
      ],
      "text/plain": [
       "        DATE                  ASS_ASSIGNMENT  prediction\n",
       "0 2012-12-28                             CMS    0.000000\n",
       "1 2012-12-28                          Crises    0.000000\n",
       "2 2012-12-28                        Domicile    0.299646\n",
       "3 2012-12-28                         Gestion    0.000000\n",
       "4 2012-12-28  Gestion - Accueil Telephonique    0.045581"
      ]
     },
     "execution_count": 144,
     "metadata": {},
     "output_type": "execute_result"
    }
   ],
   "source": [
    "real_sub.head()"
   ]
  },
  {
   "cell_type": "code",
   "execution_count": 145,
   "metadata": {
    "collapsed": false
   },
   "outputs": [],
   "source": [
    "real_sub.DATE = real_sub.DATE.astype(str) + \".000\""
   ]
  },
  {
   "cell_type": "code",
   "execution_count": 146,
   "metadata": {
    "collapsed": true
   },
   "outputs": [],
   "source": [
    "real_sub.to_csv('data/sub3.txt', sep='\\t', index=None)"
   ]
  },
  {
   "cell_type": "code",
   "execution_count": 163,
   "metadata": {
    "collapsed": true
   },
   "outputs": [],
   "source": [
    "# real_sub.prediction = real_sub.prediction.astype(np.int64)"
   ]
  },
  {
   "cell_type": "markdown",
   "metadata": {
    "collapsed": true
   },
   "source": [
    "### Now we add the variable month and consider a constant prediction for each (ASS_ASSIGNMENT, SLOT, DAYOFWEEK, MONTH) "
   ]
  },
  {
   "cell_type": "code",
   "execution_count": 53,
   "metadata": {
    "collapsed": false
   },
   "outputs": [
    {
     "name": "stderr",
     "output_type": "stream",
     "text": [
      "<string>:2: DtypeWarning: Columns (17) have mixed types. Specify dtype option on import or set low_memory=False.\n"
     ]
    },
    {
     "name": "stdout",
     "output_type": "stream",
     "text": [
      "CPU times: user 2min 43s, sys: 32.3 s, total: 3min 15s\n",
      "Wall time: 3min 35s\n"
     ]
    }
   ],
   "source": [
    "%%time\n",
    "df = pd.read_csv('../train_2011_2012_2013.csv', sep=\";\", nrows=1e10)"
   ]
  },
  {
   "cell_type": "code",
   "execution_count": 55,
   "metadata": {
    "collapsed": false,
    "scrolled": true
   },
   "outputs": [],
   "source": [
    "df.DATE = pd.to_datetime(df.DATE)"
   ]
  },
  {
   "cell_type": "code",
   "execution_count": 56,
   "metadata": {
    "collapsed": false
   },
   "outputs": [
    {
     "data": {
      "text/plain": [
       "DATE                     datetime64[ns]\n",
       "DAY_OFF                           int64\n",
       "DAY_DS                          float64\n",
       "WEEK_END                          int64\n",
       "DAY_WE_DS                        object\n",
       "TPER_TEAM                        object\n",
       "TPER_HOUR                         int64\n",
       "SPLIT_COD                         int64\n",
       "ACD_COD                           int64\n",
       "ACD_LIB                          object\n",
       "ASS_SOC_MERE                     object\n",
       "ASS_DIRECTORSHIP                 object\n",
       "ASS_ASSIGNMENT                   object\n",
       "ASS_PARTNER                      object\n",
       "ASS_POLE                         object\n",
       "ASS_BEGIN                        object\n",
       "ASS_END                          object\n",
       "ASS_COMENT                       object\n",
       "CSPL_I_STAFFTIME                  int64\n",
       "CSPL_I_AVAILTIME                  int64\n",
       "CSPL_I_ACDTIME                    int64\n",
       "CSPL_I_ACWTIME                    int64\n",
       "CSPL_I_ACWOUTTIME                 int64\n",
       "CSPL_I_ACWINTIME                  int64\n",
       "CSPL_I_AUXOUTTIME                 int64\n",
       "CSPL_I_AUXINTIME                  int64\n",
       "CSPL_I_OTHERTIME                  int64\n",
       "CSPL_ACWINCALLS                   int64\n",
       "CSPL_ACWINTIME                    int64\n",
       "CSPL_AUXINCALLS                   int64\n",
       "                              ...      \n",
       "CSPL_ABNCALLS8                    int64\n",
       "CSPL_ABNCALLS9                    int64\n",
       "CSPL_ABNCALLS10                   int64\n",
       "CSPL_OUTFLOWCALLS                 int64\n",
       "CSPL_OUTFLOWTIME                  int64\n",
       "CSPL_MAXINQUEUE                   int64\n",
       "CSPL_CALLSOFFERED                 int64\n",
       "CSPL_I_RINGTIME                   int64\n",
       "CSPL_RINGTIME                     int64\n",
       "CSPL_RINGCALLS                    int64\n",
       "CSPL_NOANSREDIR                   int64\n",
       "CSPL_MAXSTAFFED                   int64\n",
       "CSPL_ACWOUTADJCALLS               int64\n",
       "CSPL_AUXOUTADJCALLS               int64\n",
       "CSPL_DEQUECALLS                   int64\n",
       "CSPL_DEQUETIME                    int64\n",
       "CSPL_DISCCALLS                    int64\n",
       "CSPL_DISCTIME                     int64\n",
       "CSPL_INTRVL                       int64\n",
       "CSPL_INCOMPLETE                   int64\n",
       "CSPL_ACCEPTABLE                   int64\n",
       "CSPL_SERVICELEVEL                 int64\n",
       "CSPL_ACDAUXOUTCALLS               int64\n",
       "CSPL_SLVLABNS                     int64\n",
       "CSPL_SLVLOUTFLOWS                 int64\n",
       "CSPL_RECEIVED_CALLS               int64\n",
       "CSPL_ABANDONNED_CALLS             int64\n",
       "CSPL_CALLS                        int64\n",
       "CSPL_ACWTIME                      int64\n",
       "CSPL_ACDTIME                      int64\n",
       "dtype: object"
      ]
     },
     "execution_count": 56,
     "metadata": {},
     "output_type": "execute_result"
    }
   ],
   "source": [
    "df.dtypes"
   ]
  },
  {
   "cell_type": "code",
   "execution_count": 58,
   "metadata": {
    "collapsed": false
   },
   "outputs": [
    {
     "data": {
      "text/plain": [
       "968183830"
      ]
     },
     "execution_count": 58,
     "metadata": {},
     "output_type": "execute_result"
    }
   ],
   "source": [
    "df.size"
   ]
  },
  {
   "cell_type": "code",
   "execution_count": 57,
   "metadata": {
    "collapsed": false
   },
   "outputs": [
    {
     "name": "stdout",
     "output_type": "stream",
     "text": [
      "CPU times: user 1min 37s, sys: 10.8 s, total: 1min 48s\n",
      "Wall time: 1min 52s\n"
     ]
    }
   ],
   "source": [
    "%%time\n",
    "df['slot'] = df.DATE.apply(get_slot)\n",
    "df['dayofweek'] = df.DATE.apply(lambda x: x.dayofweek)\n",
    "df['ass_hashed'] = df.ASS_ASSIGNMENT.apply(hash)"
   ]
  },
  {
   "cell_type": "code",
   "execution_count": 168,
   "metadata": {
    "collapsed": false
   },
   "outputs": [
    {
     "name": "stdout",
     "output_type": "stream",
     "text": [
      "CPU times: user 47.6 s, sys: 14.2 s, total: 1min 1s\n",
      "Wall time: 1min 8s\n"
     ]
    }
   ],
   "source": [
    "%%time\n",
    "df['month'] = df.DATE.apply(lambda x: x.month in [4,5,6,7,8,9,10]) "
   ]
  },
  {
   "cell_type": "code",
   "execution_count": 170,
   "metadata": {
    "collapsed": false
   },
   "outputs": [],
   "source": [
    "df_trim = df[['DATE', 'ASS_ASSIGNMENT','ass_hashed', 'month', 'dayofweek', 'slot', target]]"
   ]
  },
  {
   "cell_type": "code",
   "execution_count": 131,
   "metadata": {
    "collapsed": false
   },
   "outputs": [
    {
     "data": {
      "text/plain": [
       "979062300"
      ]
     },
     "execution_count": 131,
     "metadata": {},
     "output_type": "execute_result"
    }
   ],
   "source": [
    "df.size"
   ]
  },
  {
   "cell_type": "code",
   "execution_count": 132,
   "metadata": {
    "collapsed": false
   },
   "outputs": [
    {
     "data": {
      "text/html": [
       "<div>\n",
       "<table border=\"1\" class=\"dataframe\">\n",
       "  <thead>\n",
       "    <tr style=\"text-align: right;\">\n",
       "      <th></th>\n",
       "      <th>DATE</th>\n",
       "      <th>ASS_ASSIGNMENT</th>\n",
       "      <th>ass_hashed</th>\n",
       "      <th>month</th>\n",
       "      <th>dayofweek</th>\n",
       "      <th>slot</th>\n",
       "      <th>CSPL_RECEIVED_CALLS</th>\n",
       "    </tr>\n",
       "  </thead>\n",
       "  <tbody>\n",
       "    <tr>\n",
       "      <th>0</th>\n",
       "      <td>2011-04-24 01:30:00</td>\n",
       "      <td>Téléphonie</td>\n",
       "      <td>-1335118869054784524</td>\n",
       "      <td>False</td>\n",
       "      <td>6</td>\n",
       "      <td>3</td>\n",
       "      <td>0</td>\n",
       "    </tr>\n",
       "    <tr>\n",
       "      <th>1</th>\n",
       "      <td>2011-04-24 01:30:00</td>\n",
       "      <td>Téléphonie</td>\n",
       "      <td>-1335118869054784524</td>\n",
       "      <td>False</td>\n",
       "      <td>6</td>\n",
       "      <td>3</td>\n",
       "      <td>0</td>\n",
       "    </tr>\n",
       "    <tr>\n",
       "      <th>2</th>\n",
       "      <td>2011-04-24 01:30:00</td>\n",
       "      <td>Téléphonie</td>\n",
       "      <td>-1335118869054784524</td>\n",
       "      <td>False</td>\n",
       "      <td>6</td>\n",
       "      <td>3</td>\n",
       "      <td>0</td>\n",
       "    </tr>\n",
       "    <tr>\n",
       "      <th>3</th>\n",
       "      <td>2011-04-24 01:30:00</td>\n",
       "      <td>Téléphonie</td>\n",
       "      <td>-1335118869054784524</td>\n",
       "      <td>False</td>\n",
       "      <td>6</td>\n",
       "      <td>3</td>\n",
       "      <td>0</td>\n",
       "    </tr>\n",
       "    <tr>\n",
       "      <th>4</th>\n",
       "      <td>2011-04-24 01:30:00</td>\n",
       "      <td>Téléphonie</td>\n",
       "      <td>-1335118869054784524</td>\n",
       "      <td>False</td>\n",
       "      <td>6</td>\n",
       "      <td>3</td>\n",
       "      <td>1</td>\n",
       "    </tr>\n",
       "  </tbody>\n",
       "</table>\n",
       "</div>"
      ],
      "text/plain": [
       "                 DATE ASS_ASSIGNMENT           ass_hashed  month  dayofweek  \\\n",
       "0 2011-04-24 01:30:00     Téléphonie -1335118869054784524  False          6   \n",
       "1 2011-04-24 01:30:00     Téléphonie -1335118869054784524  False          6   \n",
       "2 2011-04-24 01:30:00     Téléphonie -1335118869054784524  False          6   \n",
       "3 2011-04-24 01:30:00     Téléphonie -1335118869054784524  False          6   \n",
       "4 2011-04-24 01:30:00     Téléphonie -1335118869054784524  False          6   \n",
       "\n",
       "   slot  CSPL_RECEIVED_CALLS  \n",
       "0     3                    0  \n",
       "1     3                    0  \n",
       "2     3                    0  \n",
       "3     3                    0  \n",
       "4     3                    1  "
      ]
     },
     "execution_count": 132,
     "metadata": {},
     "output_type": "execute_result"
    }
   ],
   "source": [
    "df_trim.head()"
   ]
  },
  {
   "cell_type": "code",
   "execution_count": 174,
   "metadata": {
    "collapsed": false
   },
   "outputs": [],
   "source": [
    "df_trim_grouped = df_trim.groupby(['DATE', 'ASS_ASSIGNMENT','ass_hashed', 'month', 'dayofweek', 'slot'],sort=False)"
   ]
  },
  {
   "cell_type": "code",
   "execution_count": 175,
   "metadata": {
    "collapsed": false
   },
   "outputs": [
    {
     "name": "stdout",
     "output_type": "stream",
     "text": [
      "CPU times: user 2.76 s, sys: 2.48 s, total: 5.24 s\n",
      "Wall time: 6.34 s\n"
     ]
    }
   ],
   "source": [
    "%%time\n",
    "df_final = df_trim_grouped.aggregate(np.sum)"
   ]
  },
  {
   "cell_type": "code",
   "execution_count": 176,
   "metadata": {
    "collapsed": false
   },
   "outputs": [
    {
     "data": {
      "text/plain": [
       "1030829"
      ]
     },
     "execution_count": 176,
     "metadata": {},
     "output_type": "execute_result"
    }
   ],
   "source": [
    "df_final.size"
   ]
  },
  {
   "cell_type": "code",
   "execution_count": 177,
   "metadata": {
    "collapsed": false
   },
   "outputs": [],
   "source": [
    "df_final = df_final.reset_index()"
   ]
  },
  {
   "cell_type": "code",
   "execution_count": 178,
   "metadata": {
    "collapsed": false
   },
   "outputs": [
    {
     "data": {
      "text/html": [
       "<div>\n",
       "<table border=\"1\" class=\"dataframe\">\n",
       "  <thead>\n",
       "    <tr style=\"text-align: right;\">\n",
       "      <th></th>\n",
       "      <th>DATE</th>\n",
       "      <th>ASS_ASSIGNMENT</th>\n",
       "      <th>ass_hashed</th>\n",
       "      <th>month</th>\n",
       "      <th>dayofweek</th>\n",
       "      <th>slot</th>\n",
       "      <th>CSPL_RECEIVED_CALLS</th>\n",
       "    </tr>\n",
       "  </thead>\n",
       "  <tbody>\n",
       "    <tr>\n",
       "      <th>0</th>\n",
       "      <td>2011-04-24 01:30:00</td>\n",
       "      <td>Téléphonie</td>\n",
       "      <td>-1335118869054784524</td>\n",
       "      <td>True</td>\n",
       "      <td>6</td>\n",
       "      <td>3</td>\n",
       "      <td>1</td>\n",
       "    </tr>\n",
       "    <tr>\n",
       "      <th>1</th>\n",
       "      <td>2011-04-25 01:30:00</td>\n",
       "      <td>RTC</td>\n",
       "      <td>807632227978787840</td>\n",
       "      <td>True</td>\n",
       "      <td>0</td>\n",
       "      <td>3</td>\n",
       "      <td>0</td>\n",
       "    </tr>\n",
       "    <tr>\n",
       "      <th>2</th>\n",
       "      <td>2011-04-25 01:30:00</td>\n",
       "      <td>Gestion Renault</td>\n",
       "      <td>3088124507760553434</td>\n",
       "      <td>True</td>\n",
       "      <td>0</td>\n",
       "      <td>3</td>\n",
       "      <td>0</td>\n",
       "    </tr>\n",
       "    <tr>\n",
       "      <th>3</th>\n",
       "      <td>2011-04-25 01:30:00</td>\n",
       "      <td>Nuit</td>\n",
       "      <td>8134045459266871357</td>\n",
       "      <td>True</td>\n",
       "      <td>0</td>\n",
       "      <td>3</td>\n",
       "      <td>5</td>\n",
       "    </tr>\n",
       "    <tr>\n",
       "      <th>4</th>\n",
       "      <td>2011-04-25 01:30:00</td>\n",
       "      <td>Gestion - Accueil Telephonique</td>\n",
       "      <td>-3142854348689543258</td>\n",
       "      <td>True</td>\n",
       "      <td>0</td>\n",
       "      <td>3</td>\n",
       "      <td>0</td>\n",
       "    </tr>\n",
       "  </tbody>\n",
       "</table>\n",
       "</div>"
      ],
      "text/plain": [
       "                 DATE                  ASS_ASSIGNMENT           ass_hashed  \\\n",
       "0 2011-04-24 01:30:00                      Téléphonie -1335118869054784524   \n",
       "1 2011-04-25 01:30:00                             RTC   807632227978787840   \n",
       "2 2011-04-25 01:30:00                 Gestion Renault  3088124507760553434   \n",
       "3 2011-04-25 01:30:00                            Nuit  8134045459266871357   \n",
       "4 2011-04-25 01:30:00  Gestion - Accueil Telephonique -3142854348689543258   \n",
       "\n",
       "  month  dayofweek  slot  CSPL_RECEIVED_CALLS  \n",
       "0  True          6     3                    1  \n",
       "1  True          0     3                    0  \n",
       "2  True          0     3                    0  \n",
       "3  True          0     3                    5  \n",
       "4  True          0     3                    0  "
      ]
     },
     "execution_count": 178,
     "metadata": {},
     "output_type": "execute_result"
    }
   ],
   "source": [
    "df_final.head()"
   ]
  },
  {
   "cell_type": "code",
   "execution_count": 179,
   "metadata": {
    "collapsed": false
   },
   "outputs": [
    {
     "name": "stdout",
     "output_type": "stream",
     "text": [
      "CPU times: user 10.4 s, sys: 180 ms, total: 10.6 s\n",
      "Wall time: 10.8 s\n"
     ]
    }
   ],
   "source": [
    "%%time\n",
    "predict_table = df_final[['ass_hashed', 'month', 'dayofweek', 'slot', target]].\\\n",
    "                groupby(['ass_hashed', 'month', 'dayofweek', 'slot'],sort=False).aggregate(best_mean)"
   ]
  },
  {
   "cell_type": "code",
   "execution_count": 180,
   "metadata": {
    "collapsed": false
   },
   "outputs": [
    {
     "data": {
      "text/plain": [
       "18333"
      ]
     },
     "execution_count": 180,
     "metadata": {},
     "output_type": "execute_result"
    }
   ],
   "source": [
    "predict_table.size"
   ]
  },
  {
   "cell_type": "code",
   "execution_count": 181,
   "metadata": {
    "collapsed": false
   },
   "outputs": [
    {
     "data": {
      "text/html": [
       "<div>\n",
       "<table border=\"1\" class=\"dataframe\">\n",
       "  <thead>\n",
       "    <tr style=\"text-align: right;\">\n",
       "      <th></th>\n",
       "      <th></th>\n",
       "      <th></th>\n",
       "      <th></th>\n",
       "      <th>CSPL_RECEIVED_CALLS</th>\n",
       "    </tr>\n",
       "    <tr>\n",
       "      <th>ass_hashed</th>\n",
       "      <th>month</th>\n",
       "      <th>dayofweek</th>\n",
       "      <th>slot</th>\n",
       "      <th></th>\n",
       "    </tr>\n",
       "  </thead>\n",
       "  <tbody>\n",
       "    <tr>\n",
       "      <th>-1335118869054784524</th>\n",
       "      <th>True</th>\n",
       "      <th>6</th>\n",
       "      <th>3</th>\n",
       "      <td>23.182951</td>\n",
       "    </tr>\n",
       "    <tr>\n",
       "      <th>807632227978787840</th>\n",
       "      <th>True</th>\n",
       "      <th>0</th>\n",
       "      <th>3</th>\n",
       "      <td>0.000000</td>\n",
       "    </tr>\n",
       "    <tr>\n",
       "      <th>3088124507760553434</th>\n",
       "      <th>True</th>\n",
       "      <th>0</th>\n",
       "      <th>3</th>\n",
       "      <td>0.000000</td>\n",
       "    </tr>\n",
       "    <tr>\n",
       "      <th>8134045459266871357</th>\n",
       "      <th>True</th>\n",
       "      <th>0</th>\n",
       "      <th>3</th>\n",
       "      <td>9.352036</td>\n",
       "    </tr>\n",
       "    <tr>\n",
       "      <th>-3142854348689543258</th>\n",
       "      <th>True</th>\n",
       "      <th>0</th>\n",
       "      <th>3</th>\n",
       "      <td>0.000000</td>\n",
       "    </tr>\n",
       "  </tbody>\n",
       "</table>\n",
       "</div>"
      ],
      "text/plain": [
       "                                           CSPL_RECEIVED_CALLS\n",
       "ass_hashed           month dayofweek slot                     \n",
       "-1335118869054784524 True  6         3               23.182951\n",
       " 807632227978787840  True  0         3                0.000000\n",
       " 3088124507760553434 True  0         3                0.000000\n",
       " 8134045459266871357 True  0         3                9.352036\n",
       "-3142854348689543258 True  0         3                0.000000"
      ]
     },
     "execution_count": 181,
     "metadata": {},
     "output_type": "execute_result"
    }
   ],
   "source": [
    "predict_table.head()"
   ]
  },
  {
   "cell_type": "code",
   "execution_count": 95,
   "metadata": {
    "collapsed": false
   },
   "outputs": [],
   "source": [
    "sub = pd.read_csv('../submission.txt', sep='\\t')"
   ]
  },
  {
   "cell_type": "code",
   "execution_count": 97,
   "metadata": {
    "collapsed": false
   },
   "outputs": [],
   "source": [
    "sub.DATE = pd.to_datetime(sub.DATE)"
   ]
  },
  {
   "cell_type": "code",
   "execution_count": 98,
   "metadata": {
    "collapsed": true
   },
   "outputs": [],
   "source": [
    "mysub = sub.copy()"
   ]
  },
  {
   "cell_type": "code",
   "execution_count": 142,
   "metadata": {
    "collapsed": false
   },
   "outputs": [
    {
     "name": "stdout",
     "output_type": "stream",
     "text": [
      "CPU times: user 1 s, sys: 51.1 ms, total: 1.05 s\n",
      "Wall time: 1.13 s\n"
     ]
    }
   ],
   "source": [
    "%%time\n",
    "mysub['dayofweek'] = mysub.DATE.apply(lambda x: x.dayofweek)\n",
    "mysub['slot'] = mysub.DATE.apply(get_slot)"
   ]
  },
  {
   "cell_type": "code",
   "execution_count": 182,
   "metadata": {
    "collapsed": true
   },
   "outputs": [],
   "source": [
    "mysub['month'] = mysub.DATE.apply(lambda x: x.month in [4,5,6,7,8,9,10])"
   ]
  },
  {
   "cell_type": "code",
   "execution_count": 183,
   "metadata": {
    "collapsed": false
   },
   "outputs": [
    {
     "data": {
      "text/html": [
       "<div>\n",
       "<table border=\"1\" class=\"dataframe\">\n",
       "  <thead>\n",
       "    <tr style=\"text-align: right;\">\n",
       "      <th></th>\n",
       "      <th>DATE</th>\n",
       "      <th>ASS_ASSIGNMENT</th>\n",
       "      <th>prediction</th>\n",
       "      <th>dayofweek</th>\n",
       "      <th>slot</th>\n",
       "      <th>month</th>\n",
       "    </tr>\n",
       "  </thead>\n",
       "  <tbody>\n",
       "    <tr>\n",
       "      <th>0</th>\n",
       "      <td>2012-12-28</td>\n",
       "      <td>CMS</td>\n",
       "      <td>0.000000</td>\n",
       "      <td>4</td>\n",
       "      <td>0</td>\n",
       "      <td>False</td>\n",
       "    </tr>\n",
       "    <tr>\n",
       "      <th>1</th>\n",
       "      <td>2012-12-28</td>\n",
       "      <td>Crises</td>\n",
       "      <td>0.000000</td>\n",
       "      <td>4</td>\n",
       "      <td>0</td>\n",
       "      <td>False</td>\n",
       "    </tr>\n",
       "    <tr>\n",
       "      <th>2</th>\n",
       "      <td>2012-12-28</td>\n",
       "      <td>Domicile</td>\n",
       "      <td>0.058122</td>\n",
       "      <td>4</td>\n",
       "      <td>0</td>\n",
       "      <td>False</td>\n",
       "    </tr>\n",
       "    <tr>\n",
       "      <th>3</th>\n",
       "      <td>2012-12-28</td>\n",
       "      <td>Gestion</td>\n",
       "      <td>0.000000</td>\n",
       "      <td>4</td>\n",
       "      <td>0</td>\n",
       "      <td>False</td>\n",
       "    </tr>\n",
       "    <tr>\n",
       "      <th>4</th>\n",
       "      <td>2012-12-28</td>\n",
       "      <td>Gestion - Accueil Telephonique</td>\n",
       "      <td>0.000000</td>\n",
       "      <td>4</td>\n",
       "      <td>0</td>\n",
       "      <td>False</td>\n",
       "    </tr>\n",
       "  </tbody>\n",
       "</table>\n",
       "</div>"
      ],
      "text/plain": [
       "        DATE                  ASS_ASSIGNMENT  prediction  dayofweek  slot  \\\n",
       "0 2012-12-28                             CMS    0.000000          4     0   \n",
       "1 2012-12-28                          Crises    0.000000          4     0   \n",
       "2 2012-12-28                        Domicile    0.058122          4     0   \n",
       "3 2012-12-28                         Gestion    0.000000          4     0   \n",
       "4 2012-12-28  Gestion - Accueil Telephonique    0.000000          4     0   \n",
       "\n",
       "   month  \n",
       "0  False  \n",
       "1  False  \n",
       "2  False  \n",
       "3  False  \n",
       "4  False  "
      ]
     },
     "execution_count": 183,
     "metadata": {},
     "output_type": "execute_result"
    }
   ],
   "source": [
    "mysub.head()"
   ]
  },
  {
   "cell_type": "code",
   "execution_count": 184,
   "metadata": {
    "collapsed": false
   },
   "outputs": [],
   "source": [
    "%%time\n",
    "predict_column = mysub.apply(lambda x: predict_table.loc[(hash(x.ASS_ASSIGNMENT), x.month, x.dayofweek,x.slot),target], axis='columns')"
   ]
  },
  {
   "cell_type": "code",
   "execution_count": 185,
   "metadata": {
    "collapsed": false
   },
   "outputs": [],
   "source": [
    "mysub.prediction = predict_column"
   ]
  },
  {
   "cell_type": "code",
   "execution_count": 186,
   "metadata": {
    "collapsed": false
   },
   "outputs": [
    {
     "data": {
      "text/html": [
       "<div>\n",
       "<table border=\"1\" class=\"dataframe\">\n",
       "  <thead>\n",
       "    <tr style=\"text-align: right;\">\n",
       "      <th></th>\n",
       "      <th>DATE</th>\n",
       "      <th>ASS_ASSIGNMENT</th>\n",
       "      <th>prediction</th>\n",
       "      <th>dayofweek</th>\n",
       "      <th>slot</th>\n",
       "      <th>month</th>\n",
       "    </tr>\n",
       "  </thead>\n",
       "  <tbody>\n",
       "    <tr>\n",
       "      <th>0</th>\n",
       "      <td>2012-12-28</td>\n",
       "      <td>CMS</td>\n",
       "      <td>0.000000</td>\n",
       "      <td>4</td>\n",
       "      <td>0</td>\n",
       "      <td>False</td>\n",
       "    </tr>\n",
       "    <tr>\n",
       "      <th>1</th>\n",
       "      <td>2012-12-28</td>\n",
       "      <td>Crises</td>\n",
       "      <td>0.000000</td>\n",
       "      <td>4</td>\n",
       "      <td>0</td>\n",
       "      <td>False</td>\n",
       "    </tr>\n",
       "    <tr>\n",
       "      <th>2</th>\n",
       "      <td>2012-12-28</td>\n",
       "      <td>Domicile</td>\n",
       "      <td>0.199698</td>\n",
       "      <td>4</td>\n",
       "      <td>0</td>\n",
       "      <td>False</td>\n",
       "    </tr>\n",
       "    <tr>\n",
       "      <th>3</th>\n",
       "      <td>2012-12-28</td>\n",
       "      <td>Gestion</td>\n",
       "      <td>0.000000</td>\n",
       "      <td>4</td>\n",
       "      <td>0</td>\n",
       "      <td>False</td>\n",
       "    </tr>\n",
       "    <tr>\n",
       "      <th>4</th>\n",
       "      <td>2012-12-28</td>\n",
       "      <td>Gestion - Accueil Telephonique</td>\n",
       "      <td>0.000000</td>\n",
       "      <td>4</td>\n",
       "      <td>0</td>\n",
       "      <td>False</td>\n",
       "    </tr>\n",
       "  </tbody>\n",
       "</table>\n",
       "</div>"
      ],
      "text/plain": [
       "        DATE                  ASS_ASSIGNMENT  prediction  dayofweek  slot  \\\n",
       "0 2012-12-28                             CMS    0.000000          4     0   \n",
       "1 2012-12-28                          Crises    0.000000          4     0   \n",
       "2 2012-12-28                        Domicile    0.199698          4     0   \n",
       "3 2012-12-28                         Gestion    0.000000          4     0   \n",
       "4 2012-12-28  Gestion - Accueil Telephonique    0.000000          4     0   \n",
       "\n",
       "   month  \n",
       "0  False  \n",
       "1  False  \n",
       "2  False  \n",
       "3  False  \n",
       "4  False  "
      ]
     },
     "execution_count": 186,
     "metadata": {},
     "output_type": "execute_result"
    }
   ],
   "source": [
    "mysub.head()"
   ]
  },
  {
   "cell_type": "code",
   "execution_count": 187,
   "metadata": {
    "collapsed": false
   },
   "outputs": [
    {
     "data": {
      "text/html": [
       "<div>\n",
       "<table border=\"1\" class=\"dataframe\">\n",
       "  <thead>\n",
       "    <tr style=\"text-align: right;\">\n",
       "      <th></th>\n",
       "      <th>DATE</th>\n",
       "      <th>ASS_ASSIGNMENT</th>\n",
       "      <th>prediction</th>\n",
       "    </tr>\n",
       "  </thead>\n",
       "  <tbody>\n",
       "    <tr>\n",
       "      <th>0</th>\n",
       "      <td>2012-12-28 00:00:00.000</td>\n",
       "      <td>CMS</td>\n",
       "      <td>0.000000</td>\n",
       "    </tr>\n",
       "    <tr>\n",
       "      <th>1</th>\n",
       "      <td>2012-12-28 00:00:00.000</td>\n",
       "      <td>Crises</td>\n",
       "      <td>0.000000</td>\n",
       "    </tr>\n",
       "    <tr>\n",
       "      <th>2</th>\n",
       "      <td>2012-12-28 00:00:00.000</td>\n",
       "      <td>Domicile</td>\n",
       "      <td>0.199698</td>\n",
       "    </tr>\n",
       "    <tr>\n",
       "      <th>3</th>\n",
       "      <td>2012-12-28 00:00:00.000</td>\n",
       "      <td>Gestion</td>\n",
       "      <td>0.000000</td>\n",
       "    </tr>\n",
       "    <tr>\n",
       "      <th>4</th>\n",
       "      <td>2012-12-28 00:00:00.000</td>\n",
       "      <td>Gestion - Accueil Telephonique</td>\n",
       "      <td>0.000000</td>\n",
       "    </tr>\n",
       "  </tbody>\n",
       "</table>\n",
       "</div>"
      ],
      "text/plain": [
       "                      DATE                  ASS_ASSIGNMENT  prediction\n",
       "0  2012-12-28 00:00:00.000                             CMS    0.000000\n",
       "1  2012-12-28 00:00:00.000                          Crises    0.000000\n",
       "2  2012-12-28 00:00:00.000                        Domicile    0.199698\n",
       "3  2012-12-28 00:00:00.000                         Gestion    0.000000\n",
       "4  2012-12-28 00:00:00.000  Gestion - Accueil Telephonique    0.000000"
      ]
     },
     "execution_count": 187,
     "metadata": {},
     "output_type": "execute_result"
    }
   ],
   "source": [
    "real_mysub = mysub.iloc[:, :3]\n",
    "real_mysub.DATE = real_mysub.DATE.astype(str) + \".000\"\n",
    "real_mysub.head()"
   ]
  },
  {
   "cell_type": "code",
   "execution_count": 188,
   "metadata": {
    "collapsed": true
   },
   "outputs": [],
   "source": [
    "real_mysub.to_csv('../mysub3.txt', sep='\\t', index=None)"
   ]
  },
  {
   "cell_type": "markdown",
   "metadata": {},
   "source": [
    "## Approach using classic ML techniques\n",
    "(In another notebook)"
   ]
  }
 ],
 "metadata": {
  "anaconda-cloud": {},
  "kernelspec": {
   "display_name": "Python [default]",
   "language": "python",
   "name": "python3"
  },
  "language_info": {
   "codemirror_mode": {
    "name": "ipython",
    "version": 3
   },
   "file_extension": ".py",
   "mimetype": "text/x-python",
   "name": "python",
   "nbconvert_exporter": "python",
   "pygments_lexer": "ipython3",
   "version": "3.5.2"
  }
 },
 "nbformat": 4,
 "nbformat_minor": 0
}

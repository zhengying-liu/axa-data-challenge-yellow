{
 "cells": [
  {
   "cell_type": "code",
   "execution_count": 43,
   "metadata": {
    "collapsed": false
   },
   "outputs": [],
   "source": [
    "import pandas as pd\n",
    "import numpy as np\n",
    "import matplotlib.pyplot as plt\n",
    "%matplotlib inline"
   ]
  },
  {
   "cell_type": "markdown",
   "metadata": {},
   "source": [
    "## Constants and functions"
   ]
  },
  {
   "cell_type": "code",
   "execution_count": 44,
   "metadata": {
    "collapsed": true
   },
   "outputs": [],
   "source": [
    "alpha = 0.1\n",
    "date = \"DATE\"\n",
    "ass = \"ASS_ASSIGNMENT\"\n",
    "target = \"CSPL_RECEIVED_CALLS\""
   ]
  },
  {
   "cell_type": "code",
   "execution_count": 45,
   "metadata": {
    "collapsed": true
   },
   "outputs": [],
   "source": [
    "def LinEx(y_pred,y_true,average=True):\n",
    "    diff = alpha * (y_true - y_pred)\n",
    "    score = np.exp(diff) - diff - 1\n",
    "    if average:\n",
    "        return np.average(score)\n",
    "    else:\n",
    "        return score"
   ]
  },
  {
   "cell_type": "markdown",
   "metadata": {},
   "source": [
    "## Preprocessing"
   ]
  },
  {
   "cell_type": "code",
   "execution_count": 14,
   "metadata": {
    "collapsed": false
   },
   "outputs": [
    {
     "name": "stderr",
     "output_type": "stream",
     "text": [
      "<string>:2: DtypeWarning: Columns (17) have mixed types. Specify dtype option on import or set low_memory=False.\n"
     ]
    },
    {
     "name": "stdout",
     "output_type": "stream",
     "text": [
      "CPU times: user 2min 38s, sys: 29.3 s, total: 3min 7s\n",
      "Wall time: 3min 22s\n"
     ]
    }
   ],
   "source": [
    "%%time\n",
    "df = pd.read_csv(\"../train_2011_2012_2013.csv\", sep=\";\")"
   ]
  },
  {
   "cell_type": "code",
   "execution_count": 613,
   "metadata": {
    "collapsed": false
   },
   "outputs": [
    {
     "data": {
      "text/plain": [
       "(10878470, 86)"
      ]
     },
     "execution_count": 613,
     "metadata": {},
     "output_type": "execute_result"
    }
   ],
   "source": [
    "df.shape"
   ]
  },
  {
   "cell_type": "code",
   "execution_count": 699,
   "metadata": {
    "collapsed": true
   },
   "outputs": [],
   "source": [
    "df_useful = df[[date,ass,target]]"
   ]
  },
  {
   "cell_type": "code",
   "execution_count": 17,
   "metadata": {
    "collapsed": false
   },
   "outputs": [],
   "source": [
    "df_useful = df_useful.groupby([date, ass]).aggregate(np.sum)"
   ]
  },
  {
   "cell_type": "code",
   "execution_count": 636,
   "metadata": {
    "collapsed": false
   },
   "outputs": [],
   "source": [
    "df_temp = df[[date,ass,target]]"
   ]
  },
  {
   "cell_type": "code",
   "execution_count": 698,
   "metadata": {
    "collapsed": false
   },
   "outputs": [
    {
     "name": "stderr",
     "output_type": "stream",
     "text": [
      "/Users/Evariste/anaconda3/lib/python3.5/site-packages/ipykernel/__main__.py:1: SettingWithCopyWarning: \n",
      "A value is trying to be set on a copy of a slice from a DataFrame.\n",
      "Try using .loc[row_indexer,col_indexer] = value instead\n",
      "\n",
      "See the caveats in the documentation: http://pandas.pydata.org/pandas-docs/stable/indexing.html#indexing-view-versus-copy\n",
      "  if __name__ == '__main__':\n"
     ]
    }
   ],
   "source": [
    "df_temp[date] = pd.to_datetime( df_temp[date])"
   ]
  },
  {
   "cell_type": "code",
   "execution_count": 637,
   "metadata": {
    "collapsed": false
   },
   "outputs": [],
   "source": [
    "df_telephonie  = df_temp[df_temp[ass]=='Téléphonie']"
   ]
  },
  {
   "cell_type": "code",
   "execution_count": 664,
   "metadata": {
    "collapsed": false
   },
   "outputs": [],
   "source": [
    "df_tnn = df_telephonie[df_telephonie[target]>0].groupby([date,ass]).agg('count')"
   ]
  },
  {
   "cell_type": "code",
   "execution_count": 687,
   "metadata": {
    "collapsed": true
   },
   "outputs": [],
   "source": [
    "dt = pd.to_datetime('2013-11-18 11:30:00.000')"
   ]
  },
  {
   "cell_type": "code",
   "execution_count": 697,
   "metadata": {
    "collapsed": false
   },
   "outputs": [
    {
     "data": {
      "text/plain": [
       "DATE                   datetime64[ns]\n",
       "ASS_ASSIGNMENT                 object\n",
       "CSPL_RECEIVED_CALLS             int64\n",
       "dtype: object"
      ]
     },
     "execution_count": 697,
     "metadata": {},
     "output_type": "execute_result"
    }
   ],
   "source": [
    "df_telephonie.dtypes"
   ]
  },
  {
   "cell_type": "code",
   "execution_count": 693,
   "metadata": {
    "collapsed": false
   },
   "outputs": [
    {
     "data": {
      "text/html": [
       "<div>\n",
       "<table border=\"1\" class=\"dataframe\">\n",
       "  <thead>\n",
       "    <tr style=\"text-align: right;\">\n",
       "      <th></th>\n",
       "      <th>DATE</th>\n",
       "      <th>ASS_ASSIGNMENT</th>\n",
       "      <th>CSPL_RECEIVED_CALLS</th>\n",
       "    </tr>\n",
       "  </thead>\n",
       "  <tbody>\n",
       "  </tbody>\n",
       "</table>\n",
       "</div>"
      ],
      "text/plain": [
       "Empty DataFrame\n",
       "Columns: [DATE, ASS_ASSIGNMENT, CSPL_RECEIVED_CALLS]\n",
       "Index: []"
      ]
     },
     "execution_count": 693,
     "metadata": {},
     "output_type": "execute_result"
    }
   ],
   "source": [
    "df_telephonie.loc[df_telephonie[date]==pd.to_datetime('2011-04-24 01:30:00.000')]"
   ]
  },
  {
   "cell_type": "code",
   "execution_count": 19,
   "metadata": {
    "collapsed": true
   },
   "outputs": [],
   "source": [
    "df_useful = df_useful.reset_index()"
   ]
  },
  {
   "cell_type": "code",
   "execution_count": 20,
   "metadata": {
    "collapsed": false
   },
   "outputs": [
    {
     "data": {
      "text/html": [
       "<div>\n",
       "<table border=\"1\" class=\"dataframe\">\n",
       "  <thead>\n",
       "    <tr style=\"text-align: right;\">\n",
       "      <th></th>\n",
       "      <th>DATE</th>\n",
       "      <th>ASS_ASSIGNMENT</th>\n",
       "      <th>CSPL_RECEIVED_CALLS</th>\n",
       "    </tr>\n",
       "  </thead>\n",
       "  <tbody>\n",
       "    <tr>\n",
       "      <th>0</th>\n",
       "      <td>2011-01-01 00:00:00.000</td>\n",
       "      <td>Crises</td>\n",
       "      <td>0</td>\n",
       "    </tr>\n",
       "    <tr>\n",
       "      <th>1</th>\n",
       "      <td>2011-01-01 00:00:00.000</td>\n",
       "      <td>Domicile</td>\n",
       "      <td>0</td>\n",
       "    </tr>\n",
       "    <tr>\n",
       "      <th>2</th>\n",
       "      <td>2011-01-01 00:00:00.000</td>\n",
       "      <td>Gestion</td>\n",
       "      <td>0</td>\n",
       "    </tr>\n",
       "    <tr>\n",
       "      <th>3</th>\n",
       "      <td>2011-01-01 00:00:00.000</td>\n",
       "      <td>Gestion - Accueil Telephonique</td>\n",
       "      <td>0</td>\n",
       "    </tr>\n",
       "    <tr>\n",
       "      <th>4</th>\n",
       "      <td>2011-01-01 00:00:00.000</td>\n",
       "      <td>Gestion Amex</td>\n",
       "      <td>0</td>\n",
       "    </tr>\n",
       "  </tbody>\n",
       "</table>\n",
       "</div>"
      ],
      "text/plain": [
       "                      DATE                  ASS_ASSIGNMENT  \\\n",
       "0  2011-01-01 00:00:00.000                          Crises   \n",
       "1  2011-01-01 00:00:00.000                        Domicile   \n",
       "2  2011-01-01 00:00:00.000                         Gestion   \n",
       "3  2011-01-01 00:00:00.000  Gestion - Accueil Telephonique   \n",
       "4  2011-01-01 00:00:00.000                    Gestion Amex   \n",
       "\n",
       "   CSPL_RECEIVED_CALLS  \n",
       "0                    0  \n",
       "1                    0  \n",
       "2                    0  \n",
       "3                    0  \n",
       "4                    0  "
      ]
     },
     "execution_count": 20,
     "metadata": {},
     "output_type": "execute_result"
    }
   ],
   "source": [
    "df_useful.head()"
   ]
  },
  {
   "cell_type": "code",
   "execution_count": 700,
   "metadata": {
    "collapsed": false
   },
   "outputs": [
    {
     "name": "stderr",
     "output_type": "stream",
     "text": [
      "/Users/Evariste/anaconda3/lib/python3.5/site-packages/ipykernel/__main__.py:1: SettingWithCopyWarning: \n",
      "A value is trying to be set on a copy of a slice from a DataFrame.\n",
      "Try using .loc[row_indexer,col_indexer] = value instead\n",
      "\n",
      "See the caveats in the documentation: http://pandas.pydata.org/pandas-docs/stable/indexing.html#indexing-view-versus-copy\n",
      "  if __name__ == '__main__':\n",
      "/Users/Evariste/anaconda3/lib/python3.5/site-packages/ipykernel/__main__.py:2: SettingWithCopyWarning: \n",
      "A value is trying to be set on a copy of a slice from a DataFrame.\n",
      "Try using .loc[row_indexer,col_indexer] = value instead\n",
      "\n",
      "See the caveats in the documentation: http://pandas.pydata.org/pandas-docs/stable/indexing.html#indexing-view-versus-copy\n",
      "  from ipykernel import kernelapp as app\n"
     ]
    }
   ],
   "source": [
    "df_useful[date] = pd.to_datetime(df_useful[date])\n",
    "df_useful[ass] = df_useful[ass].astype('category')"
   ]
  },
  {
   "cell_type": "code",
   "execution_count": 22,
   "metadata": {
    "collapsed": false
   },
   "outputs": [
    {
     "data": {
      "text/plain": [
       "DATE                   datetime64[ns]\n",
       "ASS_ASSIGNMENT               category\n",
       "CSPL_RECEIVED_CALLS             int64\n",
       "dtype: object"
      ]
     },
     "execution_count": 22,
     "metadata": {},
     "output_type": "execute_result"
    }
   ],
   "source": [
    "df_useful.dtypes"
   ]
  },
  {
   "cell_type": "code",
   "execution_count": 128,
   "metadata": {
    "collapsed": false
   },
   "outputs": [
    {
     "data": {
      "text/plain": [
       "False"
      ]
     },
     "execution_count": 128,
     "metadata": {},
     "output_type": "execute_result"
    }
   ],
   "source": [
    "# Check if df_useful has missing data\n",
    "df_useful.isnull().values.any()"
   ]
  },
  {
   "cell_type": "markdown",
   "metadata": {},
   "source": [
    "## Feature engineering"
   ]
  },
  {
   "cell_type": "code",
   "execution_count": 46,
   "metadata": {
    "collapsed": true
   },
   "outputs": [],
   "source": [
    "def get_slot(timestamp):\n",
    "    assert timestamp.minute in [0, 30]\n",
    "    return 2 * timestamp.hour + (timestamp.minute == 30)"
   ]
  },
  {
   "cell_type": "code",
   "execution_count": 24,
   "metadata": {
    "collapsed": false
   },
   "outputs": [],
   "source": [
    "def extract_feature_from_dataframe(df):\n",
    "    res = pd.DataFrame({'month':df[date].apply(lambda x: x.month),\n",
    "                         'dayofweek': df[date].apply(lambda x: x.dayofweek),\n",
    "                         'time_slot': df[date].apply(get_slot),\n",
    "                         ass: df[ass]\n",
    "                        }, dtype='category')\n",
    "    return res"
   ]
  },
  {
   "cell_type": "code",
   "execution_count": 50,
   "metadata": {
    "collapsed": false
   },
   "outputs": [
    {
     "name": "stdout",
     "output_type": "stream",
     "text": [
      "CPU times: user 12.5 s, sys: 344 ms, total: 12.8 s\n",
      "Wall time: 12.8 s\n"
     ]
    }
   ],
   "source": [
    "%%time\n",
    "feature_df = extract_feature_from_dataframe(df_useful)"
   ]
  },
  {
   "cell_type": "code",
   "execution_count": 51,
   "metadata": {
    "collapsed": false,
    "scrolled": true
   },
   "outputs": [
    {
     "data": {
      "text/plain": [
       "ASS_ASSIGNMENT    category\n",
       "dayofweek         category\n",
       "month             category\n",
       "time_slot         category\n",
       "dtype: object"
      ]
     },
     "execution_count": 51,
     "metadata": {},
     "output_type": "execute_result"
    }
   ],
   "source": [
    "feature_df.dtypes"
   ]
  },
  {
   "cell_type": "code",
   "execution_count": 52,
   "metadata": {
    "collapsed": false,
    "scrolled": true
   },
   "outputs": [
    {
     "data": {
      "text/html": [
       "<div>\n",
       "<table border=\"1\" class=\"dataframe\">\n",
       "  <thead>\n",
       "    <tr style=\"text-align: right;\">\n",
       "      <th></th>\n",
       "      <th>ASS_ASSIGNMENT</th>\n",
       "      <th>dayofweek</th>\n",
       "      <th>month</th>\n",
       "      <th>time_slot</th>\n",
       "    </tr>\n",
       "  </thead>\n",
       "  <tbody>\n",
       "    <tr>\n",
       "      <th>0</th>\n",
       "      <td>Crises</td>\n",
       "      <td>5</td>\n",
       "      <td>1</td>\n",
       "      <td>0</td>\n",
       "    </tr>\n",
       "    <tr>\n",
       "      <th>1</th>\n",
       "      <td>Domicile</td>\n",
       "      <td>5</td>\n",
       "      <td>1</td>\n",
       "      <td>0</td>\n",
       "    </tr>\n",
       "    <tr>\n",
       "      <th>2</th>\n",
       "      <td>Gestion</td>\n",
       "      <td>5</td>\n",
       "      <td>1</td>\n",
       "      <td>0</td>\n",
       "    </tr>\n",
       "    <tr>\n",
       "      <th>3</th>\n",
       "      <td>Gestion - Accueil Telephonique</td>\n",
       "      <td>5</td>\n",
       "      <td>1</td>\n",
       "      <td>0</td>\n",
       "    </tr>\n",
       "    <tr>\n",
       "      <th>4</th>\n",
       "      <td>Gestion Amex</td>\n",
       "      <td>5</td>\n",
       "      <td>1</td>\n",
       "      <td>0</td>\n",
       "    </tr>\n",
       "  </tbody>\n",
       "</table>\n",
       "</div>"
      ],
      "text/plain": [
       "                   ASS_ASSIGNMENT dayofweek month time_slot\n",
       "0                          Crises         5     1         0\n",
       "1                        Domicile         5     1         0\n",
       "2                         Gestion         5     1         0\n",
       "3  Gestion - Accueil Telephonique         5     1         0\n",
       "4                    Gestion Amex         5     1         0"
      ]
     },
     "execution_count": 52,
     "metadata": {},
     "output_type": "execute_result"
    }
   ],
   "source": [
    "feature_df.head()"
   ]
  },
  {
   "cell_type": "markdown",
   "metadata": {},
   "source": [
    "## Feature matrix\n",
    "\n",
    "As `feature_df` has 4 categorical columns, we can construct our feature matrix `X` by using a generalized `get_dummies()` function.\n",
    "\n",
    "As we know, `get_dummies()` function in `pandas` module sends a column of categorical values to $m$ columns of binary values. Each column corresponds to a possible categorical value in the original column (there a $m$ of these in total).\n",
    "\n",
    "Now we have 4 columns of categorical data in `feature_df`. Each column has 28, 7, 12 and 48 possible values respectively. We could simply apply `get_dummies()` to `feature_df` to get a feature matrix of \n",
    "$$\n",
    "28 + 7 +12 + 48 = 95\n",
    "$$\n",
    "columns.\n",
    "\n",
    "However, when we apply linear regression to this matrix, each component acts independently. But this isn't true in our case. Some specific combination of these values could have an important effect while none of its value does separately. So we propose to consider a generalized `get_dummies()` function which send the DataFrame `feature_df` of 4 categorical columns to a feature matrix of \n",
    "$$\n",
    "(28+1)\\times(7+1)\\times(12+1)\\times(48+1) = 147784\n",
    "$$\n",
    "columns.\n",
    "\n",
    "A row having for example `(ASS_ASSIGNMENT, dayofweek, month, time_slot) = (Crises,5,1,0)` will be sent to a row of 147784 binary values where values in the following 16 columns \n",
    "- () (intercept)\n",
    "- (ASS_ASSIGNMENT=Crises)\n",
    "- (dayofweek=5)\n",
    "- (month=1)\n",
    "- (time_slot=0)\n",
    "- (ASS_ASSIGNMENT=Crises, dayofweek=5)\n",
    "- (ASS_ASSIGNMENT=Crises, month=1)\n",
    "- (ASS_ASSIGNMENT=Crises, time_slot=0)\n",
    "- (dayofweek=5, month=1)\n",
    "- (dayofweek=5, time_slot=0)\n",
    "- (month=1, time_slot=0)\n",
    "- (ASS_ASSIGNMENT=Crises, dayofweek=5, month=1)\n",
    "- (ASS_ASSIGNMENT=Crises, dayofweek=5, time_slot=0)\n",
    "- (ASS_ASSIGNMENT=Crises, month=1, time_slot=0)\n",
    "- (dayofweek=5, month=1, time_slot=0)\n",
    "- (ASS_ASSIGNMENT=Crises, dayofweek=5, month=1, time_slot=0)\n",
    "\n",
    "are 1 and 0 elsewhere.\n",
    "\n",
    "The idea is that we consider all the 16 combinations with ASS_ASSIGNMENT=Crises, dayofweek=5, month=1 or time_slot=0.\n",
    "\n",
    "<strong>Thus, our feature matrix will be of shape (1030829, 147784) where each row will only have 16 non-zero terms. We will use `scipy.sparse.csr_matrix` to store this matrix. </strong>"
   ]
  },
  {
   "cell_type": "code",
   "execution_count": 53,
   "metadata": {
    "collapsed": false,
    "scrolled": true
   },
   "outputs": [
    {
     "name": "stdout",
     "output_type": "stream",
     "text": [
      "{'Gestion': 5, 'Gestion Relation Clienteles': 11, 'Téléphonie': 27, 'RTC': 20, 'Gestion Renault': 12, 'Nuit': 17, 'Domicile': 3, 'Japon': 13, 'CAT': 0, 'Services': 23, 'Evenements': 4, 'RENAULT': 19, 'Tech. Total': 26, 'SAP': 22, 'Gestion Clients': 9, 'Tech. Axa': 24, 'Manager': 14, 'Prestataires': 18, 'Gestion Assurances': 8, 'Crises': 2, 'Gestion - Accueil Telephonique': 6, 'Médical': 16, 'CMS': 1, 'Gestion DZ': 10, 'Mécanicien': 15, 'Tech. Inter': 25, 'Regulation Medicale': 21, 'Gestion Amex': 7}\n"
     ]
    }
   ],
   "source": [
    "ass_unique = sorted(feature_df[ass].unique().ravel())\n",
    "ass_indices = {}\n",
    "for i in range(len(ass_unique)):\n",
    "    ass_indices[ass_unique[i]] = i\n",
    "print(ass_indices)"
   ]
  },
  {
   "cell_type": "code",
   "execution_count": 54,
   "metadata": {
    "collapsed": false
   },
   "outputs": [],
   "source": [
    "n_values = {ass:28,'dayofweek':7,'month':12,'time_slot':48}\n",
    "\n",
    "def indices_row(row):\n",
    "    na = n_values[ass] + 1\n",
    "    nd = n_values['dayofweek'] + 1\n",
    "    nm = n_values['month'] + 1\n",
    "    nt = n_values['time_slot'] + 1\n",
    "    \n",
    "    res = []\n",
    "    \n",
    "    i_a = 0\n",
    "    if ass in row:\n",
    "        i_a = ass_indices[row[ass]] + 1\n",
    "    i_d = 0\n",
    "    if 'dayofweek' in row:\n",
    "        i_d = row['dayofweek'] + 1\n",
    "    i_m = 0\n",
    "    if 'month' in row:\n",
    "        i_m = row['month']\n",
    "    i_t = 0\n",
    "    if 'time_slot' in row:\n",
    "        i_t = row['time_slot'] + 1\n",
    "    \n",
    "    for i1 in [0,1]:\n",
    "        for i2 in [0,1]:\n",
    "            for i3 in [0,1]:\n",
    "                for i4 in [0,1]:\n",
    "                    res.append( i1*i_a*nd*nm*nt + i2*i_d*nm*nt + i3*i_m*nt + i4*i_t )\n",
    "    return res\n",
    "\n",
    "def index_to_row(idx):\n",
    "    na = n_values[ass] + 1\n",
    "    nd = n_values['dayofweek'] + 1\n",
    "    nm = n_values['month'] + 1\n",
    "    nt = n_values['time_slot'] + 1\n",
    "    i_a = idx//(nd*nm*nt)\n",
    "    i_d = idx%(nd*nm*nt)//(nm*nt)\n",
    "    i_m = idx%(nm*nt)//nt\n",
    "    i_t = idx%nt\n",
    "    \n",
    "    res = {}\n",
    "    if i_a:\n",
    "        res[ass] = ass_unique[i_a-1]\n",
    "    if i_d:\n",
    "        res['dayofweek'] = i_d - 1\n",
    "    if i_m:\n",
    "        res['month'] = i_m\n",
    "    if i_t:\n",
    "        res['time_slot'] = i_t - 1\n",
    "    \n",
    "    return res\n",
    "\n",
    "def row_to_index(row):\n",
    "    na = n_values[ass] + 1\n",
    "    nd = n_values['dayofweek'] + 1\n",
    "    nm = n_values['month'] + 1\n",
    "    nt = n_values['time_slot'] + 1\n",
    "    \n",
    "    res = []\n",
    "    \n",
    "    i_a = 0\n",
    "    if ass in row:\n",
    "        i_a = ass_indices[row[ass]] + 1\n",
    "    i_d = 0\n",
    "    if 'dayofweek' in row:\n",
    "        i_d = row['dayofweek'] + 1\n",
    "    i_m = 0\n",
    "    if 'month' in row:\n",
    "        i_m = row['month']\n",
    "    i_t = 0\n",
    "    if 'time_slot' in row:\n",
    "        i_t = row['time_slot'] + 1\n",
    "        \n",
    "    return i_a*nd*nm*nt + i_d*nm*nt + i_m*nt + i_t"
   ]
  },
  {
   "cell_type": "code",
   "execution_count": 550,
   "metadata": {
    "collapsed": false,
    "scrolled": false
   },
   "outputs": [
    {
     "name": "stdout",
     "output_type": "stream",
     "text": [
      "3\n"
     ]
    },
    {
     "data": {
      "text/plain": [
       "3"
      ]
     },
     "execution_count": 550,
     "metadata": {},
     "output_type": "execute_result"
    }
   ],
   "source": [
    "idx = np.random.randint(0,29*8*13*49)\n",
    "print(idx)\n",
    "row_to_index(index_to_row(idx))"
   ]
  },
  {
   "cell_type": "code",
   "execution_count": 557,
   "metadata": {
    "collapsed": false
   },
   "outputs": [
    {
     "data": {
      "text/plain": [
       "{'ASS_ASSIGNMENT': 'Tech. Total', 'dayofweek': 2, 'month': 10, 'time_slot': 6}"
      ]
     },
     "execution_count": 557,
     "metadata": {},
     "output_type": "execute_result"
    }
   ],
   "source": [
    "idx = 140000\n",
    "index_to_row(idx)"
   ]
  },
  {
   "cell_type": "code",
   "execution_count": 22,
   "metadata": {
    "collapsed": false
   },
   "outputs": [
    {
     "data": {
      "text/plain": [
       "(1030829, 147784)"
      ]
     },
     "execution_count": 22,
     "metadata": {},
     "output_type": "execute_result"
    }
   ],
   "source": [
    "n = len(feature_df)\n",
    "d = 29*8*13*49\n",
    "n, d"
   ]
  },
  {
   "cell_type": "code",
   "execution_count": 434,
   "metadata": {
    "collapsed": true
   },
   "outputs": [],
   "source": [
    "from scipy.sparse import csr_matrix"
   ]
  },
  {
   "cell_type": "code",
   "execution_count": 23,
   "metadata": {
    "collapsed": false,
    "scrolled": true
   },
   "outputs": [],
   "source": [
    "indptr = np.arange(n+1) * 16"
   ]
  },
  {
   "cell_type": "code",
   "execution_count": 24,
   "metadata": {
    "collapsed": false,
    "scrolled": true
   },
   "outputs": [
    {
     "name": "stdout",
     "output_type": "stream",
     "text": [
      "CPU times: user 1min 33s, sys: 671 ms, total: 1min 33s\n",
      "Wall time: 1min 34s\n"
     ]
    }
   ],
   "source": [
    "%%time\n",
    "X_indices_each_row = feature_df.apply(indices_row, axis=1)"
   ]
  },
  {
   "cell_type": "code",
   "execution_count": 432,
   "metadata": {
    "collapsed": false
   },
   "outputs": [],
   "source": [
    "def sum_list(series,a,b):\n",
    "    le = b-a\n",
    "    if le==1:\n",
    "        return series[a]\n",
    "    else:\n",
    "        return sum_list(series,a,(a+b)//2) + sum_list(series,(a+b)//2,b)"
   ]
  },
  {
   "cell_type": "code",
   "execution_count": 49,
   "metadata": {
    "collapsed": false,
    "scrolled": false
   },
   "outputs": [
    {
     "name": "stdout",
     "output_type": "stream",
     "text": [
      "CPU times: user 28.2 s, sys: 771 ms, total: 29 s\n",
      "Wall time: 29.1 s\n"
     ]
    }
   ],
   "source": [
    "%%time\n",
    "indices = sum_list(X_indices_each_row,0,n)"
   ]
  },
  {
   "cell_type": "code",
   "execution_count": 59,
   "metadata": {
    "collapsed": true
   },
   "outputs": [],
   "source": [
    "data = np.ones(n*16)"
   ]
  },
  {
   "cell_type": "code",
   "execution_count": 55,
   "metadata": {
    "collapsed": false,
    "scrolled": true
   },
   "outputs": [
    {
     "name": "stdout",
     "output_type": "stream",
     "text": [
      "CPU times: user 2.97 s, sys: 797 ms, total: 3.77 s\n",
      "Wall time: 3.86 s\n"
     ]
    }
   ],
   "source": [
    "%%time\n",
    "X = csr_matrix((data,indices,indptr),shape=(n,d))"
   ]
  },
  {
   "cell_type": "code",
   "execution_count": 58,
   "metadata": {
    "collapsed": false
   },
   "outputs": [
    {
     "name": "stdout",
     "output_type": "stream",
     "text": [
      "(1030829, 147784)\n"
     ]
    }
   ],
   "source": [
    "print(X.shape)"
   ]
  },
  {
   "cell_type": "code",
   "execution_count": 60,
   "metadata": {
    "collapsed": true
   },
   "outputs": [],
   "source": [
    "import pickle\n",
    "with open('X_csr_matrix','wb') as f:\n",
    "    pickle.dump(X,f)"
   ]
  },
  {
   "cell_type": "code",
   "execution_count": 72,
   "metadata": {
    "collapsed": true
   },
   "outputs": [],
   "source": [
    "y_sum = df_useful[target].as_matrix()"
   ]
  },
  {
   "cell_type": "code",
   "execution_count": 75,
   "metadata": {
    "collapsed": false
   },
   "outputs": [],
   "source": [
    "with open('y_sum','wb') as f:\n",
    "    pickle.dump(y_sum,f)"
   ]
  },
  {
   "cell_type": "code",
   "execution_count": 8,
   "metadata": {
    "collapsed": false
   },
   "outputs": [],
   "source": [
    "import pickle\n",
    "with open('X_csr_matrix','rb') as f:\n",
    "    X = pickle.load(f)"
   ]
  },
  {
   "cell_type": "code",
   "execution_count": 9,
   "metadata": {
    "collapsed": true
   },
   "outputs": [],
   "source": [
    "with open('y_sum','rb') as f:\n",
    "    y = pickle.load(f)"
   ]
  },
  {
   "cell_type": "code",
   "execution_count": 187,
   "metadata": {
    "collapsed": false
   },
   "outputs": [],
   "source": [
    "with open('theta_init','rb') as f:\n",
    "    theta_init = pickle.load(f)"
   ]
  },
  {
   "cell_type": "code",
   "execution_count": 189,
   "metadata": {
    "collapsed": false
   },
   "outputs": [
    {
     "name": "stdout",
     "output_type": "stream",
     "text": [
      "<class 'scipy.sparse.csr.csr_matrix'> <class 'numpy.ndarray'> <class 'numpy.ndarray'>\n"
     ]
    }
   ],
   "source": [
    "print(type(X),type(y), type(theta_init))"
   ]
  },
  {
   "cell_type": "code",
   "execution_count": 191,
   "metadata": {
    "collapsed": false
   },
   "outputs": [
    {
     "name": "stdout",
     "output_type": "stream",
     "text": [
      "(1030829, 147784) (1030829,) (147784,)\n"
     ]
    }
   ],
   "source": [
    "print(X.shape,y.shape,theta_init.shape)"
   ]
  },
  {
   "cell_type": "markdown",
   "metadata": {},
   "source": [
    "### Linear LinEx regression with ridge penalization\n",
    "We want to minimize\n",
    "$$\n",
    "\\frac 1n \\sum_{i=1}^n \\ell(x_i^\\top \\theta, y_i) + \\frac \\lambda 2 \\|\\theta\\|_2^2\n",
    "$$\n",
    "where\n",
    "- $\\ell(z,y) := LinEx(z, y) := \\exp(\\alpha(y - z)) - \\alpha(y-z) - 1$ (LinEx regression)\n",
    "\n",
    "We write it as a minimization problem of the form\n",
    "$$\n",
    "\\frac 1n \\sum_{i=1}^n f_i(\\theta)\n",
    "$$\n",
    "where\n",
    "$$\n",
    "f_i(\\theta) = \\ell(x_i^\\top \\theta, y_i) + \\frac \\lambda 2 \\|\\theta\\|_2^2.\n",
    "$$\n",
    "\n",
    "Its gradient is\n",
    "\\begin{equation}\n",
    "\\begin{aligned}\n",
    "\\nabla f_i(\\theta) &= \\ell'(x_i^\\top \\theta, y_i) x_i + \\lambda \\theta \\\\\n",
    "&= \\alpha (1 - \\exp(\\alpha(y_i - x_i^\\top \\theta))) x_i + \\lambda \\theta\n",
    "\\end{aligned}\n",
    "\\end{equation}\n",
    "\n",
    "Let $L_i$ denote the Lipschitz constant of $\\nabla f_i$. \n",
    "Around some $\\theta_0$, we have by simple computation\n",
    "$$\n",
    "L_i = \\alpha^2 \\exp(\\alpha (y_i - x_i^\\top \\theta_0)) \\| x_i \\|_2^2 + \\lambda\n",
    "$$\n",
    "We will use two algorithms to solve this problem - BFGS and SVRG. For SVRG algorithm, the step can be taken as\n",
    "$\\eta = 1 / \\max_{i=1,\\ldots,n} L_i$"
   ]
  },
  {
   "cell_type": "code",
   "execution_count": 558,
   "metadata": {
    "collapsed": true
   },
   "outputs": [],
   "source": [
    "class LinExReg(object):\n",
    "    \"\"\"A class for the LinEx regression with\n",
    "    Ridge penalization\"\"\"\n",
    "\n",
    "    def __init__(self, X, y, lbda, alpha=0.1):\n",
    "        self.X = X\n",
    "        self.y = y\n",
    "        self.n, self.d = X.shape\n",
    "        self.lbda = lbda\n",
    "        self.alpha = alpha\n",
    "    \n",
    "    def grad(self, theta):\n",
    "        diff = alpha * (self.y - self.X.dot(theta))\n",
    "        coeff = alpha * (1 - np.exp(diff))\n",
    "        vec = (self.X.T * coeff).T\n",
    "        res = np.sum(vec)/self.n + self.lbda * theta\n",
    "        return res\n",
    "\n",
    "    def loss(self, theta):\n",
    "        diff = alpha * (self.y - self.X.dot(theta))\n",
    "        score = np.exp(diff) - diff - 1\n",
    "        res = np.average(score) + self.lbda * theta.dot(theta) / 2.\n",
    "        return res\n",
    "    \n",
    "    def loss_i(self,i,theta):\n",
    "        x_i = self.X[i]\n",
    "        y_i = self.y[i]\n",
    "        diff = alpha * (y_i - x_i.dot(theta))\n",
    "        score = np.exp(diff) - diff - 1\n",
    "        res = score + self.lbda * theta.dot(theta) / 2.\n",
    "        return res\n",
    "    \n",
    "    def grad_i(self, i, theta):\n",
    "        x_i = self.X[i]\n",
    "        y_i = self.y[i]\n",
    "        diff = alpha * (y_i - x_i.dot(theta))\n",
    "        coeff = alpha * (1 - np.exp(diff))\n",
    "        res = coeff * x_i + self.lbda * theta\n",
    "        return res\n",
    "    \n",
    "    def lipschitz_constant_i(self,i,theta):\n",
    "        \"\"\"Return the Lipschitz constant of f_i\"\"\"\n",
    "        x_i = self.X[i]\n",
    "        y_i = self.y[i]\n",
    "        L_i = alpha**2 * np.exp(alpha * (y_i - x_i.dot(theta))) + self.lbda\n",
    "        return L_i"
   ]
  },
  {
   "cell_type": "code",
   "execution_count": 202,
   "metadata": {
    "collapsed": true
   },
   "outputs": [],
   "source": [
    "from scipy.optimize import check_grad"
   ]
  },
  {
   "cell_type": "code",
   "execution_count": 531,
   "metadata": {
    "collapsed": false
   },
   "outputs": [],
   "source": [
    "n, d = X.shape\n",
    "lbda = 100\n",
    "model = LinExReg(X, y, lbda)"
   ]
  },
  {
   "cell_type": "code",
   "execution_count": 197,
   "metadata": {
    "collapsed": false
   },
   "outputs": [
    {
     "name": "stdout",
     "output_type": "stream",
     "text": [
      "CPU times: user 45 µs, sys: 2 µs, total: 47 µs\n",
      "Wall time: 52 µs\n"
     ]
    }
   ],
   "source": [
    "%%time\n",
    "# Check that the gradient and the loss numerically match\n",
    "i = np.random.randint(0,n)\n",
    "loss_func = lambda x: model.loss_i(i,x)\n",
    "grad_func = lambda x: model.grad_i(i,x)"
   ]
  },
  {
   "cell_type": "code",
   "execution_count": 200,
   "metadata": {
    "collapsed": false,
    "scrolled": true
   },
   "outputs": [
    {
     "data": {
      "text/plain": [
       "8.1439826826734657e-09"
      ]
     },
     "execution_count": 200,
     "metadata": {},
     "output_type": "execute_result"
    }
   ],
   "source": [
    "check_grad(loss_func, grad_func, theta_init)"
   ]
  },
  {
   "cell_type": "markdown",
   "metadata": {},
   "source": [
    "### We first try to obtain a reasonable $\\theta$ as initial value"
   ]
  },
  {
   "cell_type": "code",
   "execution_count": 479,
   "metadata": {
    "collapsed": false
   },
   "outputs": [
    {
     "name": "stdout",
     "output_type": "stream",
     "text": [
      "CPU times: user 11.7 s, sys: 292 ms, total: 12 s\n",
      "Wall time: 12 s\n"
     ]
    }
   ],
   "source": [
    "%%time\n",
    "df_temp = extract_feature_from_dataframe(df_useful)\n",
    "df_temp[target] = df_useful[target]"
   ]
  },
  {
   "cell_type": "code",
   "execution_count": 480,
   "metadata": {
    "collapsed": false
   },
   "outputs": [
    {
     "data": {
      "text/html": [
       "<div>\n",
       "<table border=\"1\" class=\"dataframe\">\n",
       "  <thead>\n",
       "    <tr style=\"text-align: right;\">\n",
       "      <th></th>\n",
       "      <th>ASS_ASSIGNMENT</th>\n",
       "      <th>dayofweek</th>\n",
       "      <th>month</th>\n",
       "      <th>time_slot</th>\n",
       "      <th>CSPL_RECEIVED_CALLS</th>\n",
       "    </tr>\n",
       "  </thead>\n",
       "  <tbody>\n",
       "    <tr>\n",
       "      <th>0</th>\n",
       "      <td>Crises</td>\n",
       "      <td>5</td>\n",
       "      <td>1</td>\n",
       "      <td>0</td>\n",
       "      <td>0</td>\n",
       "    </tr>\n",
       "    <tr>\n",
       "      <th>1</th>\n",
       "      <td>Domicile</td>\n",
       "      <td>5</td>\n",
       "      <td>1</td>\n",
       "      <td>0</td>\n",
       "      <td>0</td>\n",
       "    </tr>\n",
       "    <tr>\n",
       "      <th>2</th>\n",
       "      <td>Gestion</td>\n",
       "      <td>5</td>\n",
       "      <td>1</td>\n",
       "      <td>0</td>\n",
       "      <td>0</td>\n",
       "    </tr>\n",
       "    <tr>\n",
       "      <th>3</th>\n",
       "      <td>Gestion - Accueil Telephonique</td>\n",
       "      <td>5</td>\n",
       "      <td>1</td>\n",
       "      <td>0</td>\n",
       "      <td>0</td>\n",
       "    </tr>\n",
       "    <tr>\n",
       "      <th>4</th>\n",
       "      <td>Gestion Amex</td>\n",
       "      <td>5</td>\n",
       "      <td>1</td>\n",
       "      <td>0</td>\n",
       "      <td>0</td>\n",
       "    </tr>\n",
       "  </tbody>\n",
       "</table>\n",
       "</div>"
      ],
      "text/plain": [
       "                   ASS_ASSIGNMENT dayofweek month time_slot  \\\n",
       "0                          Crises         5     1         0   \n",
       "1                        Domicile         5     1         0   \n",
       "2                         Gestion         5     1         0   \n",
       "3  Gestion - Accueil Telephonique         5     1         0   \n",
       "4                    Gestion Amex         5     1         0   \n",
       "\n",
       "   CSPL_RECEIVED_CALLS  \n",
       "0                    0  \n",
       "1                    0  \n",
       "2                    0  \n",
       "3                    0  \n",
       "4                    0  "
      ]
     },
     "execution_count": 480,
     "metadata": {},
     "output_type": "execute_result"
    }
   ],
   "source": [
    "df_temp.head()"
   ]
  },
  {
   "cell_type": "code",
   "execution_count": 142,
   "metadata": {
    "collapsed": true
   },
   "outputs": [],
   "source": [
    "def best_mean(s):\n",
    "    \"\"\"The constant that minimizes the empirical loss.\n",
    "    For numerical stability, we multiply and divide by the max.\n",
    "    Equal to 1 / alpha * np.log(1 /s.size * np.sum(np.exp(alpha*s)))\"\"\"\n",
    "    if isinstance(s, (int, float, complex)):\n",
    "        print(s)\n",
    "        return s\n",
    "    else:\n",
    "        s = alpha * s\n",
    "        m = s.max()\n",
    "        s = s - m\n",
    "        return 1 / alpha * (-np.log(s.size) + m + np.log(np.sum(np.exp(s))))"
   ]
  },
  {
   "cell_type": "code",
   "execution_count": 501,
   "metadata": {
    "collapsed": false,
    "scrolled": true
   },
   "outputs": [
    {
     "name": "stdout",
     "output_type": "stream",
     "text": [
      "CPU times: user 53.4 s, sys: 211 ms, total: 53.6 s\n",
      "Wall time: 53.7 s\n"
     ]
    }
   ],
   "source": [
    "%%time\n",
    "predict_table = df_temp.groupby([ass, 'month', 'dayofweek', 'time_slot'])[target].aggregate(best_mean)"
   ]
  },
  {
   "cell_type": "code",
   "execution_count": 485,
   "metadata": {
    "collapsed": false
   },
   "outputs": [
    {
     "name": "stdout",
     "output_type": "stream",
     "text": [
      "False\n"
     ]
    },
    {
     "data": {
      "text/html": [
       "<div>\n",
       "<table border=\"1\" class=\"dataframe\">\n",
       "  <thead>\n",
       "    <tr style=\"text-align: right;\">\n",
       "      <th></th>\n",
       "      <th>ASS_ASSIGNMENT</th>\n",
       "      <th>dayofweek</th>\n",
       "      <th>time_slot</th>\n",
       "      <th>CSPL_RECEIVED_CALLS</th>\n",
       "    </tr>\n",
       "  </thead>\n",
       "  <tbody>\n",
       "    <tr>\n",
       "      <th>0</th>\n",
       "      <td>CAT</td>\n",
       "      <td>0</td>\n",
       "      <td>0</td>\n",
       "      <td>0.165227</td>\n",
       "    </tr>\n",
       "    <tr>\n",
       "      <th>1</th>\n",
       "      <td>CAT</td>\n",
       "      <td>0</td>\n",
       "      <td>1</td>\n",
       "      <td>0.231502</td>\n",
       "    </tr>\n",
       "    <tr>\n",
       "      <th>2</th>\n",
       "      <td>CAT</td>\n",
       "      <td>0</td>\n",
       "      <td>2</td>\n",
       "      <td>0.000000</td>\n",
       "    </tr>\n",
       "    <tr>\n",
       "      <th>3</th>\n",
       "      <td>CAT</td>\n",
       "      <td>0</td>\n",
       "      <td>3</td>\n",
       "      <td>0.000000</td>\n",
       "    </tr>\n",
       "    <tr>\n",
       "      <th>4</th>\n",
       "      <td>CAT</td>\n",
       "      <td>0</td>\n",
       "      <td>4</td>\n",
       "      <td>0.000000</td>\n",
       "    </tr>\n",
       "  </tbody>\n",
       "</table>\n",
       "</div>"
      ],
      "text/plain": [
       "  ASS_ASSIGNMENT dayofweek time_slot  CSPL_RECEIVED_CALLS\n",
       "0            CAT         0         0             0.165227\n",
       "1            CAT         0         1             0.231502\n",
       "2            CAT         0         2             0.000000\n",
       "3            CAT         0         3             0.000000\n",
       "4            CAT         0         4             0.000000"
      ]
     },
     "execution_count": 485,
     "metadata": {},
     "output_type": "execute_result"
    }
   ],
   "source": [
    "predict_table_omitting_month = df_temp.groupby([ass, 'dayofweek', 'time_slot'])[target].aggregate(best_mean)\n",
    "print(predict_table_omitting_month.isnull().values.any())\n",
    "predict_table_omitting_month = predict_table_omitting_month.reset_index()\n",
    "predict_table_omitting_month.head()"
   ]
  },
  {
   "cell_type": "code",
   "execution_count": 486,
   "metadata": {
    "collapsed": true
   },
   "outputs": [],
   "source": [
    "def get_theta_from_predict_table(pt):\n",
    "    theta = np.zeros(d)\n",
    "    for i, row in pt.iterrows():\n",
    "        idx = row_to_index(row)\n",
    "        rt = row[target]\n",
    "        theta[idx] = rt\n",
    "    return theta"
   ]
  },
  {
   "cell_type": "code",
   "execution_count": 487,
   "metadata": {
    "collapsed": true
   },
   "outputs": [],
   "source": [
    "theta_omitting_month = get_theta_from_predict_table(predict_table_omitting_month)"
   ]
  },
  {
   "cell_type": "code",
   "execution_count": 482,
   "metadata": {
    "collapsed": false
   },
   "outputs": [
    {
     "data": {
      "text/plain": [
       "False"
      ]
     },
     "execution_count": 482,
     "metadata": {},
     "output_type": "execute_result"
    }
   ],
   "source": [
    "predict_table.isnull().values.any()"
   ]
  },
  {
   "cell_type": "code",
   "execution_count": 177,
   "metadata": {
    "collapsed": false
   },
   "outputs": [],
   "source": [
    "predict_table = predict_table.reset_index()"
   ]
  },
  {
   "cell_type": "code",
   "execution_count": 179,
   "metadata": {
    "collapsed": false
   },
   "outputs": [
    {
     "data": {
      "text/plain": [
       "DATE                   2011-01-01 00:00:00\n",
       "ASS_ASSIGNMENT                      Crises\n",
       "CSPL_RECEIVED_CALLS                      0\n",
       "Name: 0, dtype: object"
      ]
     },
     "execution_count": 179,
     "metadata": {},
     "output_type": "execute_result"
    }
   ],
   "source": [
    "df_useful.loc[(ass=='CAT') & ('month'==3) & ('dayofweek'==0) & ('time_slot'==0)]"
   ]
  },
  {
   "cell_type": "code",
   "execution_count": 461,
   "metadata": {
    "collapsed": false,
    "scrolled": false
   },
   "outputs": [
    {
     "name": "stdout",
     "output_type": "stream",
     "text": [
      "CPU times: user 19.5 s, sys: 75.1 ms, total: 19.6 s\n",
      "Wall time: 19.8 s\n"
     ]
    }
   ],
   "source": [
    "%%time\n",
    "theta_init = np.zeros(d)\n",
    "for i, row in predict_table.iterrows():\n",
    "    idx = row_to_index(row)\n",
    "    rt = row[target]\n",
    "    if not rt==rt:\n",
    "        print(row)\n",
    "    theta_init[idx] = rt"
   ]
  },
  {
   "cell_type": "code",
   "execution_count": 185,
   "metadata": {
    "collapsed": true
   },
   "outputs": [],
   "source": [
    "import pickle\n",
    "with open('theta_init','wb') as f:\n",
    "    pickle.dump(theta_init,f)"
   ]
  },
  {
   "cell_type": "code",
   "execution_count": 199,
   "metadata": {
    "collapsed": false
   },
   "outputs": [
    {
     "data": {
      "text/plain": [
       "2.3315870784954765e+53"
      ]
     },
     "execution_count": 199,
     "metadata": {},
     "output_type": "execute_result"
    }
   ],
   "source": [
    "model.loss(np.zeros(d))"
   ]
  },
  {
   "cell_type": "code",
   "execution_count": 67,
   "metadata": {
    "collapsed": false
   },
   "outputs": [
    {
     "data": {
      "text/plain": [
       "1365"
      ]
     },
     "execution_count": 67,
     "metadata": {},
     "output_type": "execute_result"
    }
   ],
   "source": [
    "df_useful[target].max()"
   ]
  },
  {
   "cell_type": "markdown",
   "metadata": {},
   "source": [
    "# For convenience, start here when restarting the kernel\n",
    "# For convenience, start here when restarting the kernel\n",
    "# For convenience, start here when restarting the kernel"
   ]
  },
  {
   "cell_type": "code",
   "execution_count": 483,
   "metadata": {
    "collapsed": true
   },
   "outputs": [],
   "source": [
    "import pickle\n",
    "with open('X_csr_matrix','rb') as f:\n",
    "    X = pickle.load(f)\n",
    "with open('y_sum','rb') as f:\n",
    "    y = pickle.load(f)\n",
    "with open('theta_init','rb') as f:\n",
    "    theta_init = pickle.load(f)\n",
    "with open('X_pred','rb') as f:\n",
    "    X_pred = pickle.load(f)\n"
   ]
  },
  {
   "cell_type": "code",
   "execution_count": 210,
   "metadata": {
    "collapsed": true
   },
   "outputs": [],
   "source": [
    "class LinExReg(object):\n",
    "    \"\"\"A class for the LinEx regression with\n",
    "    Ridge penalization\"\"\"\n",
    "\n",
    "    def __init__(self, X, y, lbda, alpha=0.1):\n",
    "        self.X = X\n",
    "        self.y = y\n",
    "        self.n, self.d = X.shape\n",
    "        self.lbda = lbda\n",
    "        self.alpha = alpha\n",
    "    \n",
    "    def grad(self, theta):\n",
    "        diff = alpha * (self.y - self.X.dot(theta))\n",
    "        coeff = alpha * (1 - np.exp(diff))\n",
    "        vec = (self.X.T * coeff).T\n",
    "        res = np.sum(vec)/self.n + self.lbda * theta\n",
    "        return res\n",
    "\n",
    "    def loss(self, theta):\n",
    "        diff = alpha * (self.y - self.X.dot(theta))\n",
    "        score = np.exp(diff) - diff - 1\n",
    "        res = np.average(score) + self.lbda * theta.dot(theta) / 2.\n",
    "        return res\n",
    "    \n",
    "    def loss_i(self,i,theta):\n",
    "        x_i = self.X[i]\n",
    "        y_i = self.y[i]\n",
    "        diff = alpha * (y_i - x_i.dot(theta))\n",
    "        score = np.exp(diff) - diff - 1\n",
    "        res = score + self.lbda * theta.dot(theta) / 2.\n",
    "        return res\n",
    "    \n",
    "    def grad_i(self, i, theta):\n",
    "        x_i = self.X[i]\n",
    "        y_i = self.y[i]\n",
    "        diff = alpha * (y_i - x_i.dot(theta))\n",
    "        coeff = alpha * (1 - np.exp(diff))\n",
    "        res = coeff * x_i + self.lbda * theta\n",
    "        return res\n",
    "    \n",
    "    def lipschitz_constant_i(self,i,theta):\n",
    "        \"\"\"Return the Lipschitz constant of f_i\"\"\"\n",
    "        x_i = self.X[i]\n",
    "        y_i = self.y[i]\n",
    "        L_i = alpha**2 * np.exp(alpha * (y_i - x_i.dot(theta))) + self.lbda\n",
    "        return L_i"
   ]
  },
  {
   "cell_type": "code",
   "execution_count": 410,
   "metadata": {
    "collapsed": false
   },
   "outputs": [],
   "source": [
    "n,d = X.shape\n",
    "lbda = 1. / n ** (0.5)\n",
    "model = LinExReg(X,y,lbda)"
   ]
  },
  {
   "cell_type": "markdown",
   "metadata": {
    "collapsed": true
   },
   "source": [
    "## Optimization algorithms"
   ]
  },
  {
   "cell_type": "markdown",
   "metadata": {},
   "source": [
    "### SVRG"
   ]
  },
  {
   "cell_type": "code",
   "execution_count": 604,
   "metadata": {
    "collapsed": true
   },
   "outputs": [],
   "source": [
    "n_iter = 50\n",
    "\n",
    "# generate indices of random samples\n",
    "iis = np.random.randint(0, n, n * n_iter)"
   ]
  },
  {
   "cell_type": "code",
   "execution_count": 609,
   "metadata": {
    "collapsed": false
   },
   "outputs": [],
   "source": [
    "def inspector(loss_fun, verbose=False):\n",
    "    \"\"\"A closure called to update metrics after each iteration.\"\"\"\n",
    "    objectives = []\n",
    "    xs = []\n",
    "    it = [0] # This is a hack to be able to modify 'it' inside the closure.\n",
    "    def inspector_cl(xk):\n",
    "        obj = loss_fun(xk)\n",
    "        objectives.append(obj)\n",
    "        xs.append(xk)\n",
    "        if verbose == True:\n",
    "            if it[0] == 0:\n",
    "                print(' | '.join([name.center(8) for name in [\"it\", \"obj\"]]))\n",
    "            #if it[0] % (n_iter // 100) == 0:\n",
    "            print(' | '.join([(\"%d\" % it[0]).rjust(8), (\"%.2e\" % obj).rjust(8)]))\n",
    "            it[0] += 1\n",
    "    inspector_cl.obj = objectives\n",
    "    inspector_cl.xs = xs\n",
    "    return inspector_cl"
   ]
  },
  {
   "cell_type": "code",
   "execution_count": 597,
   "metadata": {
    "collapsed": true
   },
   "outputs": [],
   "source": [
    "def svrg(x_init, iis, grad, grad_i, n_iter, step, callback=None):\n",
    "    \"\"\"Stochastic variance reduction gradient algorithm.\"\"\"\n",
    "    x = x_init.copy()\n",
    "    x_old = x.copy()\n",
    "    # Old gradients\n",
    "    mu=grad(x_old)\n",
    "    \n",
    "    for idx in range(n_iter):\n",
    "        \n",
    "        i = iis[idx]\n",
    "        x = x - step*(grad_i(i,x) - grad_i(i,x_old) + mu)\n",
    "        \n",
    "        if idx%n ==0:\n",
    "            x_old = x.copy()\n",
    "            mu = grad(x_old)\n",
    "                \n",
    "        # Update metrics after each iteration.\n",
    "        if callback:\n",
    "            callback(x)\n",
    "    return x"
   ]
  },
  {
   "cell_type": "code",
   "execution_count": 599,
   "metadata": {
    "collapsed": false
   },
   "outputs": [
    {
     "name": "stdout",
     "output_type": "stream",
     "text": [
      "[ 100.11812983]\n"
     ]
    }
   ],
   "source": [
    "for i in np.random.randint(0,n,1000):\n",
    "    L_temp = model.lipschitz_constant_i(i,theta_init)\n",
    "    if L_temp > L:\n",
    "        L = L_temp\n",
    "print(L)"
   ]
  },
  {
   "cell_type": "code",
   "execution_count": 602,
   "metadata": {
    "collapsed": true
   },
   "outputs": [],
   "source": [
    "n,d = X.shape\n",
    "lbda = 100\n",
    "model = LinExReg(X,y,lbda)"
   ]
  },
  {
   "cell_type": "code",
   "execution_count": 612,
   "metadata": {
    "collapsed": false
   },
   "outputs": [
    {
     "name": "stderr",
     "output_type": "stream",
     "text": [
      "/Users/Evariste/anaconda3/lib/python3.5/site-packages/ipykernel/__main__.py:14: RuntimeWarning: overflow encountered in exp\n",
      "/Users/Evariste/anaconda3/lib/python3.5/site-packages/ipykernel/__main__.py:21: RuntimeWarning: overflow encountered in exp\n",
      "/Users/Evariste/anaconda3/lib/python3.5/site-packages/ipykernel/__main__.py:37: RuntimeWarning: overflow encountered in exp\n",
      "/Users/Evariste/anaconda3/lib/python3.5/site-packages/ipykernel/__main__.py:11: RuntimeWarning: invalid value encountered in subtract\n"
     ]
    },
    {
     "name": "stdout",
     "output_type": "stream",
     "text": [
      "   it    |   obj   \n",
      "       0 |      inf\n",
      "       1 |      nan\n"
     ]
    },
    {
     "name": "stderr",
     "output_type": "stream",
     "text": [
      "/Users/Evariste/anaconda3/lib/python3.5/site-packages/ipykernel/__main__.py:11: RuntimeWarning: invalid value encountered in add\n"
     ]
    },
    {
     "name": "stdout",
     "output_type": "stream",
     "text": [
      "       2 |      nan\n",
      "       3 |      nan\n",
      "       4 |      nan\n",
      "       5 |      nan\n",
      "       6 |      nan\n",
      "       7 |      nan\n",
      "       8 |      nan\n",
      "       9 |      nan\n",
      "      10 |      nan\n",
      "      11 |      nan\n",
      "      12 |      nan\n",
      "      13 |      nan\n",
      "      14 |      nan\n",
      "      15 |      nan\n",
      "      16 |      nan\n",
      "      17 |      nan\n",
      "      18 |      nan\n",
      "      19 |      nan\n",
      "      20 |      nan\n",
      "      21 |      nan\n",
      "      22 |      nan\n",
      "      23 |      nan\n",
      "      24 |      nan\n",
      "      25 |      nan\n",
      "      26 |      nan\n",
      "      27 |      nan\n",
      "      28 |      nan\n",
      "      29 |      nan\n",
      "      30 |      nan\n",
      "      31 |      nan\n",
      "      32 |      nan\n",
      "      33 |      nan\n",
      "      34 |      nan\n",
      "      35 |      nan\n",
      "      36 |      nan\n",
      "      37 |      nan\n",
      "      38 |      nan\n",
      "      39 |      nan\n",
      "      40 |      nan\n",
      "      41 |      nan\n",
      "      42 |      nan\n",
      "      43 |      nan\n",
      "      44 |      nan\n",
      "      45 |      nan\n",
      "      46 |      nan\n",
      "      47 |      nan\n",
      "      48 |      nan\n",
      "      49 |      nan\n",
      "      50 |      nan\n",
      "      51 |      nan\n",
      "      52 |      nan\n",
      "      53 |      nan\n",
      "      54 |      nan\n",
      "      55 |      nan\n",
      "      56 |      nan\n",
      "      57 |      nan\n",
      "      58 |      nan\n",
      "      59 |      nan\n",
      "      60 |      nan\n",
      "      61 |      nan\n",
      "      62 |      nan\n",
      "      63 |      nan\n",
      "      64 |      nan\n",
      "      65 |      nan\n",
      "      66 |      nan\n",
      "      67 |      nan\n",
      "      68 |      nan\n",
      "      69 |      nan\n",
      "      70 |      nan\n",
      "      71 |      nan\n",
      "      72 |      nan\n"
     ]
    },
    {
     "ename": "KeyboardInterrupt",
     "evalue": "",
     "output_type": "error",
     "traceback": [
      "\u001b[0;31m---------------------------------------------------------------------------\u001b[0m",
      "\u001b[0;31mKeyboardInterrupt\u001b[0m                         Traceback (most recent call last)",
      "\u001b[0;32m<ipython-input-612-9a9e2e72f604>\u001b[0m in \u001b[0;36m<module>\u001b[0;34m()\u001b[0m\n\u001b[1;32m      4\u001b[0m \u001b[0mstep\u001b[0m \u001b[0;34m=\u001b[0m \u001b[0;36m1\u001b[0m\u001b[0;34m/\u001b[0m\u001b[0mL\u001b[0m\u001b[0;34m\u001b[0m\u001b[0m\n\u001b[1;32m      5\u001b[0m \u001b[0msvrg_inspector\u001b[0m \u001b[0;34m=\u001b[0m \u001b[0minspector\u001b[0m\u001b[0;34m(\u001b[0m\u001b[0mmodel\u001b[0m\u001b[0;34m.\u001b[0m\u001b[0mloss\u001b[0m\u001b[0;34m,\u001b[0m \u001b[0mverbose\u001b[0m\u001b[0;34m=\u001b[0m\u001b[0;32mTrue\u001b[0m\u001b[0;34m)\u001b[0m\u001b[0;34m\u001b[0m\u001b[0m\n\u001b[0;32m----> 6\u001b[0;31m \u001b[0mx_svrg\u001b[0m \u001b[0;34m=\u001b[0m \u001b[0msvrg\u001b[0m\u001b[0;34m(\u001b[0m\u001b[0mtheta_init\u001b[0m\u001b[0;34m,\u001b[0m \u001b[0miis\u001b[0m\u001b[0;34m,\u001b[0m \u001b[0mmodel\u001b[0m\u001b[0;34m.\u001b[0m\u001b[0mgrad\u001b[0m\u001b[0;34m,\u001b[0m \u001b[0mmodel\u001b[0m\u001b[0;34m.\u001b[0m\u001b[0mgrad_i\u001b[0m\u001b[0;34m,\u001b[0m \u001b[0mn_iter\u001b[0m\u001b[0;34m*\u001b[0m\u001b[0mn\u001b[0m \u001b[0;34m,\u001b[0m \u001b[0mstep\u001b[0m\u001b[0;34m,\u001b[0m \u001b[0mcallback\u001b[0m\u001b[0;34m=\u001b[0m\u001b[0msvrg_inspector\u001b[0m\u001b[0;34m)\u001b[0m\u001b[0;34m\u001b[0m\u001b[0m\n\u001b[0m",
      "\u001b[0;32m<ipython-input-597-949ee7544dde>\u001b[0m in \u001b[0;36msvrg\u001b[0;34m(x_init, iis, grad, grad_i, n_iter, step, callback)\u001b[0m\n\u001b[1;32m     17\u001b[0m         \u001b[0;31m# Update metrics after each iteration.\u001b[0m\u001b[0;34m\u001b[0m\u001b[0;34m\u001b[0m\u001b[0m\n\u001b[1;32m     18\u001b[0m         \u001b[0;32mif\u001b[0m \u001b[0mcallback\u001b[0m\u001b[0;34m:\u001b[0m\u001b[0;34m\u001b[0m\u001b[0m\n\u001b[0;32m---> 19\u001b[0;31m             \u001b[0mcallback\u001b[0m\u001b[0;34m(\u001b[0m\u001b[0mx\u001b[0m\u001b[0;34m)\u001b[0m\u001b[0;34m\u001b[0m\u001b[0m\n\u001b[0m\u001b[1;32m     20\u001b[0m     \u001b[0;32mreturn\u001b[0m \u001b[0mx\u001b[0m\u001b[0;34m\u001b[0m\u001b[0m\n",
      "\u001b[0;32m<ipython-input-609-f8a1085860b3>\u001b[0m in \u001b[0;36minspector_cl\u001b[0;34m(xk)\u001b[0m\n\u001b[1;32m      5\u001b[0m     \u001b[0mit\u001b[0m \u001b[0;34m=\u001b[0m \u001b[0;34m[\u001b[0m\u001b[0;36m0\u001b[0m\u001b[0;34m]\u001b[0m \u001b[0;31m# This is a hack to be able to modify 'it' inside the closure.\u001b[0m\u001b[0;34m\u001b[0m\u001b[0m\n\u001b[1;32m      6\u001b[0m     \u001b[0;32mdef\u001b[0m \u001b[0minspector_cl\u001b[0m\u001b[0;34m(\u001b[0m\u001b[0mxk\u001b[0m\u001b[0;34m)\u001b[0m\u001b[0;34m:\u001b[0m\u001b[0;34m\u001b[0m\u001b[0m\n\u001b[0;32m----> 7\u001b[0;31m         \u001b[0mobj\u001b[0m \u001b[0;34m=\u001b[0m \u001b[0mloss_fun\u001b[0m\u001b[0;34m(\u001b[0m\u001b[0mxk\u001b[0m\u001b[0;34m)\u001b[0m\u001b[0;34m\u001b[0m\u001b[0m\n\u001b[0m\u001b[1;32m      8\u001b[0m         \u001b[0mobjectives\u001b[0m\u001b[0;34m.\u001b[0m\u001b[0mappend\u001b[0m\u001b[0;34m(\u001b[0m\u001b[0mobj\u001b[0m\u001b[0;34m)\u001b[0m\u001b[0;34m\u001b[0m\u001b[0m\n\u001b[1;32m      9\u001b[0m         \u001b[0mxs\u001b[0m\u001b[0;34m.\u001b[0m\u001b[0mappend\u001b[0m\u001b[0;34m(\u001b[0m\u001b[0mxk\u001b[0m\u001b[0;34m)\u001b[0m\u001b[0;34m\u001b[0m\u001b[0m\n",
      "\u001b[0;32m<ipython-input-558-18444e449089>\u001b[0m in \u001b[0;36mloss\u001b[0;34m(self, theta)\u001b[0m\n\u001b[1;32m     18\u001b[0m \u001b[0;34m\u001b[0m\u001b[0m\n\u001b[1;32m     19\u001b[0m     \u001b[0;32mdef\u001b[0m \u001b[0mloss\u001b[0m\u001b[0;34m(\u001b[0m\u001b[0mself\u001b[0m\u001b[0;34m,\u001b[0m \u001b[0mtheta\u001b[0m\u001b[0;34m)\u001b[0m\u001b[0;34m:\u001b[0m\u001b[0;34m\u001b[0m\u001b[0m\n\u001b[0;32m---> 20\u001b[0;31m         \u001b[0mdiff\u001b[0m \u001b[0;34m=\u001b[0m \u001b[0malpha\u001b[0m \u001b[0;34m*\u001b[0m \u001b[0;34m(\u001b[0m\u001b[0mself\u001b[0m\u001b[0;34m.\u001b[0m\u001b[0my\u001b[0m \u001b[0;34m-\u001b[0m \u001b[0mself\u001b[0m\u001b[0;34m.\u001b[0m\u001b[0mX\u001b[0m\u001b[0;34m.\u001b[0m\u001b[0mdot\u001b[0m\u001b[0;34m(\u001b[0m\u001b[0mtheta\u001b[0m\u001b[0;34m)\u001b[0m\u001b[0;34m)\u001b[0m\u001b[0;34m\u001b[0m\u001b[0m\n\u001b[0m\u001b[1;32m     21\u001b[0m         \u001b[0mscore\u001b[0m \u001b[0;34m=\u001b[0m \u001b[0mnp\u001b[0m\u001b[0;34m.\u001b[0m\u001b[0mexp\u001b[0m\u001b[0;34m(\u001b[0m\u001b[0mdiff\u001b[0m\u001b[0;34m)\u001b[0m \u001b[0;34m-\u001b[0m \u001b[0mdiff\u001b[0m \u001b[0;34m-\u001b[0m \u001b[0;36m1\u001b[0m\u001b[0;34m\u001b[0m\u001b[0m\n\u001b[1;32m     22\u001b[0m         \u001b[0mres\u001b[0m \u001b[0;34m=\u001b[0m \u001b[0mnp\u001b[0m\u001b[0;34m.\u001b[0m\u001b[0maverage\u001b[0m\u001b[0;34m(\u001b[0m\u001b[0mscore\u001b[0m\u001b[0;34m)\u001b[0m \u001b[0;34m+\u001b[0m \u001b[0mself\u001b[0m\u001b[0;34m.\u001b[0m\u001b[0mlbda\u001b[0m \u001b[0;34m*\u001b[0m \u001b[0mtheta\u001b[0m\u001b[0;34m.\u001b[0m\u001b[0mdot\u001b[0m\u001b[0;34m(\u001b[0m\u001b[0mtheta\u001b[0m\u001b[0;34m)\u001b[0m \u001b[0;34m/\u001b[0m \u001b[0;36m2.\u001b[0m\u001b[0;34m\u001b[0m\u001b[0m\n",
      "\u001b[0;32m/Users/Evariste/anaconda3/lib/python3.5/site-packages/scipy/sparse/base.py\u001b[0m in \u001b[0;36mdot\u001b[0;34m(self, other)\u001b[0m\n\u001b[1;32m    285\u001b[0m \u001b[0;34m\u001b[0m\u001b[0m\n\u001b[1;32m    286\u001b[0m         \"\"\"\n\u001b[0;32m--> 287\u001b[0;31m         \u001b[0;32mreturn\u001b[0m \u001b[0mself\u001b[0m \u001b[0;34m*\u001b[0m \u001b[0mother\u001b[0m\u001b[0;34m\u001b[0m\u001b[0m\n\u001b[0m\u001b[1;32m    288\u001b[0m \u001b[0;34m\u001b[0m\u001b[0m\n\u001b[1;32m    289\u001b[0m     \u001b[0;32mdef\u001b[0m \u001b[0mpower\u001b[0m\u001b[0;34m(\u001b[0m\u001b[0mself\u001b[0m\u001b[0;34m,\u001b[0m \u001b[0mn\u001b[0m\u001b[0;34m,\u001b[0m \u001b[0mdtype\u001b[0m\u001b[0;34m=\u001b[0m\u001b[0;32mNone\u001b[0m\u001b[0;34m)\u001b[0m\u001b[0;34m:\u001b[0m\u001b[0;34m\u001b[0m\u001b[0m\n",
      "\u001b[0;32m/Users/Evariste/anaconda3/lib/python3.5/site-packages/scipy/sparse/base.py\u001b[0m in \u001b[0;36m__mul__\u001b[0;34m(self, other)\u001b[0m\n\u001b[1;32m    338\u001b[0m             \u001b[0;31m# Fast path for the most common case\u001b[0m\u001b[0;34m\u001b[0m\u001b[0;34m\u001b[0m\u001b[0m\n\u001b[1;32m    339\u001b[0m             \u001b[0;32mif\u001b[0m \u001b[0mother\u001b[0m\u001b[0;34m.\u001b[0m\u001b[0mshape\u001b[0m \u001b[0;34m==\u001b[0m \u001b[0;34m(\u001b[0m\u001b[0mN\u001b[0m\u001b[0;34m,\u001b[0m\u001b[0;34m)\u001b[0m\u001b[0;34m:\u001b[0m\u001b[0;34m\u001b[0m\u001b[0m\n\u001b[0;32m--> 340\u001b[0;31m                 \u001b[0;32mreturn\u001b[0m \u001b[0mself\u001b[0m\u001b[0;34m.\u001b[0m\u001b[0m_mul_vector\u001b[0m\u001b[0;34m(\u001b[0m\u001b[0mother\u001b[0m\u001b[0;34m)\u001b[0m\u001b[0;34m\u001b[0m\u001b[0m\n\u001b[0m\u001b[1;32m    341\u001b[0m             \u001b[0;32melif\u001b[0m \u001b[0mother\u001b[0m\u001b[0;34m.\u001b[0m\u001b[0mshape\u001b[0m \u001b[0;34m==\u001b[0m \u001b[0;34m(\u001b[0m\u001b[0mN\u001b[0m\u001b[0;34m,\u001b[0m \u001b[0;36m1\u001b[0m\u001b[0;34m)\u001b[0m\u001b[0;34m:\u001b[0m\u001b[0;34m\u001b[0m\u001b[0m\n\u001b[1;32m    342\u001b[0m                 \u001b[0;32mreturn\u001b[0m \u001b[0mself\u001b[0m\u001b[0;34m.\u001b[0m\u001b[0m_mul_vector\u001b[0m\u001b[0;34m(\u001b[0m\u001b[0mother\u001b[0m\u001b[0;34m.\u001b[0m\u001b[0mravel\u001b[0m\u001b[0;34m(\u001b[0m\u001b[0;34m)\u001b[0m\u001b[0;34m)\u001b[0m\u001b[0;34m.\u001b[0m\u001b[0mreshape\u001b[0m\u001b[0;34m(\u001b[0m\u001b[0mM\u001b[0m\u001b[0;34m,\u001b[0m \u001b[0;36m1\u001b[0m\u001b[0;34m)\u001b[0m\u001b[0;34m\u001b[0m\u001b[0m\n",
      "\u001b[0;32m/Users/Evariste/anaconda3/lib/python3.5/site-packages/scipy/sparse/compressed.py\u001b[0m in \u001b[0;36m_mul_vector\u001b[0;34m(self, other)\u001b[0m\n\u001b[1;32m    448\u001b[0m         \u001b[0;31m# output array\u001b[0m\u001b[0;34m\u001b[0m\u001b[0;34m\u001b[0m\u001b[0m\n\u001b[1;32m    449\u001b[0m         result = np.zeros(M, dtype=upcast_char(self.dtype.char,\n\u001b[0;32m--> 450\u001b[0;31m                                                other.dtype.char))\n\u001b[0m\u001b[1;32m    451\u001b[0m \u001b[0;34m\u001b[0m\u001b[0m\n\u001b[1;32m    452\u001b[0m         \u001b[0;31m# csr_matvec or csc_matvec\u001b[0m\u001b[0;34m\u001b[0m\u001b[0;34m\u001b[0m\u001b[0m\n",
      "\u001b[0;31mKeyboardInterrupt\u001b[0m: "
     ]
    }
   ],
   "source": [
    "L = 0.13\n",
    "n_iter = 300\n",
    "iis = np.random.randint(0, n, n_iter*n)\n",
    "step = 1/L\n",
    "svrg_inspector = inspector(model.loss, verbose=True)\n",
    "x_svrg = svrg(theta_init, iis, model.grad, model.grad_i, n_iter*n , step, callback=svrg_inspector)"
   ]
  },
  {
   "cell_type": "code",
   "execution_count": 343,
   "metadata": {
    "collapsed": false
   },
   "outputs": [
    {
     "data": {
      "text/plain": [
       "187648.38348780974"
      ]
     },
     "execution_count": 343,
     "metadata": {},
     "output_type": "execute_result"
    }
   ],
   "source": [
    "model.loss(x_init)"
   ]
  },
  {
   "cell_type": "code",
   "execution_count": 337,
   "metadata": {
    "collapsed": true
   },
   "outputs": [],
   "source": [
    "with open('theta_init_1.88e+05','rb') as f:\n",
    "    x_init = pickle.load(f)"
   ]
  },
  {
   "cell_type": "code",
   "execution_count": 339,
   "metadata": {
    "collapsed": false
   },
   "outputs": [],
   "source": [
    "from scipy.optimize import fmin_l_bfgs_b\n",
    "\n",
    "bfgs_inspector = inspector(model.loss, verbose=True)\n",
    "x_bfgs, _, _ = fmin_l_bfgs_b(model.loss, x_init, model.grad, maxiter=n_iter, callback=bfgs_inspector)"
   ]
  },
  {
   "cell_type": "code",
   "execution_count": null,
   "metadata": {
    "collapsed": true
   },
   "outputs": [],
   "source": [
    "from scipy.optimize import minimize\n",
    "\n",
    "res = minimize(model.loss,x_init,method='BFGS',jac=model.grad)"
   ]
  },
  {
   "cell_type": "code",
   "execution_count": 340,
   "metadata": {
    "collapsed": false
   },
   "outputs": [
    {
     "data": {
      "text/plain": [
       "187648.38348780974"
      ]
     },
     "execution_count": 340,
     "metadata": {},
     "output_type": "execute_result"
    }
   ],
   "source": [
    "model.loss(x_bfgs)"
   ]
  },
  {
   "cell_type": "code",
   "execution_count": 348,
   "metadata": {
    "collapsed": true
   },
   "outputs": [],
   "source": [
    "def sgd(x_init, iis, grad_i, n_iter=100, step=1., callback=None):\n",
    "    \"\"\"Stochastic gradient descent algorithm.\"\"\"\n",
    "    x = x_init.copy()\n",
    "    \n",
    "    for idx in range(n_iter):\n",
    "        i = iis[idx]\n",
    "        \n",
    "        x = x - (step/np.sqrt(idx+1))*grad_i(i,x)\n",
    "        \n",
    "        # Update metrics after each iteration.\n",
    "        if callback:\n",
    "            callback(x)\n",
    "    return x"
   ]
  },
  {
   "cell_type": "markdown",
   "metadata": {},
   "source": [
    "## Prediction"
   ]
  },
  {
   "cell_type": "code",
   "execution_count": 473,
   "metadata": {
    "collapsed": true
   },
   "outputs": [],
   "source": [
    "sub = pd.read_csv('../submission.txt', sep='\\t')"
   ]
  },
  {
   "cell_type": "code",
   "execution_count": 474,
   "metadata": {
    "collapsed": true
   },
   "outputs": [],
   "source": [
    "sub.DATE = pd.to_datetime(sub.DATE)"
   ]
  },
  {
   "cell_type": "code",
   "execution_count": 475,
   "metadata": {
    "collapsed": false
   },
   "outputs": [
    {
     "data": {
      "text/plain": [
       "(82909, 3)"
      ]
     },
     "execution_count": 475,
     "metadata": {},
     "output_type": "execute_result"
    }
   ],
   "source": [
    "sub.shape"
   ]
  },
  {
   "cell_type": "code",
   "execution_count": 430,
   "metadata": {
    "collapsed": true
   },
   "outputs": [],
   "source": [
    "def df_to_X(df):\n",
    "    n = df.shape[0]\n",
    "    feature_matrix = extract_feature_from_dataframe(df)\n",
    "    indices_each_row = feature_matrix.apply(indices_row, axis=1)\n",
    "    indices = sum_list(indices_each_row,0,n)\n",
    "    indptr = np.arange(n+1) * 16\n",
    "    data = np.ones(n*16)\n",
    "    X = csr_matrix((data,indices,indptr),shape=(n,d))\n",
    "    return X"
   ]
  },
  {
   "cell_type": "code",
   "execution_count": 435,
   "metadata": {
    "collapsed": false,
    "scrolled": true
   },
   "outputs": [
    {
     "name": "stdout",
     "output_type": "stream",
     "text": [
      "CPU times: user 9.02 s, sys: 102 ms, total: 9.12 s\n",
      "Wall time: 9.15 s\n"
     ]
    }
   ],
   "source": [
    "%%time\n",
    "X_pred = df_to_X(sub)"
   ]
  },
  {
   "cell_type": "code",
   "execution_count": 466,
   "metadata": {
    "collapsed": true
   },
   "outputs": [],
   "source": [
    "with open('X_pred','wb') as f:\n",
    "    pickle.dump(X_pred,f)"
   ]
  },
  {
   "cell_type": "code",
   "execution_count": 439,
   "metadata": {
    "collapsed": false
   },
   "outputs": [
    {
     "data": {
      "text/plain": [
       "141555.23980653487"
      ]
     },
     "execution_count": 439,
     "metadata": {},
     "output_type": "execute_result"
    }
   ],
   "source": [
    "model.loss(x_init)"
   ]
  },
  {
   "cell_type": "code",
   "execution_count": 452,
   "metadata": {
    "collapsed": false
   },
   "outputs": [],
   "source": [
    "y_pred = X_pred.dot(x_init)"
   ]
  },
  {
   "cell_type": "code",
   "execution_count": 453,
   "metadata": {
    "collapsed": false
   },
   "outputs": [],
   "source": [
    "sub['prediction'] = y_pred"
   ]
  },
  {
   "cell_type": "code",
   "execution_count": 454,
   "metadata": {
    "collapsed": false
   },
   "outputs": [
    {
     "data": {
      "text/html": [
       "<div>\n",
       "<table border=\"1\" class=\"dataframe\">\n",
       "  <thead>\n",
       "    <tr style=\"text-align: right;\">\n",
       "      <th></th>\n",
       "      <th>DATE</th>\n",
       "      <th>ASS_ASSIGNMENT</th>\n",
       "      <th>prediction</th>\n",
       "    </tr>\n",
       "  </thead>\n",
       "  <tbody>\n",
       "    <tr>\n",
       "      <th>0</th>\n",
       "      <td>2012-12-28 00:00:00.000</td>\n",
       "      <td>CMS</td>\n",
       "      <td>113.304497</td>\n",
       "    </tr>\n",
       "    <tr>\n",
       "      <th>1</th>\n",
       "      <td>2012-12-28 00:00:00.000</td>\n",
       "      <td>Crises</td>\n",
       "      <td>113.894426</td>\n",
       "    </tr>\n",
       "    <tr>\n",
       "      <th>2</th>\n",
       "      <td>2012-12-28 00:00:00.000</td>\n",
       "      <td>Domicile</td>\n",
       "      <td>113.252035</td>\n",
       "    </tr>\n",
       "    <tr>\n",
       "      <th>3</th>\n",
       "      <td>2012-12-28 00:00:00.000</td>\n",
       "      <td>Gestion</td>\n",
       "      <td>113.461534</td>\n",
       "    </tr>\n",
       "    <tr>\n",
       "      <th>4</th>\n",
       "      <td>2012-12-28 00:00:00.000</td>\n",
       "      <td>Gestion - Accueil Telephonique</td>\n",
       "      <td>110.423996</td>\n",
       "    </tr>\n",
       "  </tbody>\n",
       "</table>\n",
       "</div>"
      ],
      "text/plain": [
       "                      DATE                  ASS_ASSIGNMENT  prediction\n",
       "0  2012-12-28 00:00:00.000                             CMS  113.304497\n",
       "1  2012-12-28 00:00:00.000                          Crises  113.894426\n",
       "2  2012-12-28 00:00:00.000                        Domicile  113.252035\n",
       "3  2012-12-28 00:00:00.000                         Gestion  113.461534\n",
       "4  2012-12-28 00:00:00.000  Gestion - Accueil Telephonique  110.423996"
      ]
     },
     "execution_count": 454,
     "metadata": {},
     "output_type": "execute_result"
    }
   ],
   "source": [
    "sub.head()"
   ]
  },
  {
   "cell_type": "code",
   "execution_count": 455,
   "metadata": {
    "collapsed": false
   },
   "outputs": [],
   "source": [
    "sub.DATE = sub.DATE.astype(str) + \".000\"\n",
    "sub.to_csv('../mysub5.txt', sep='\\t', index=None)"
   ]
  },
  {
   "cell_type": "code",
   "execution_count": 462,
   "metadata": {
    "collapsed": false
   },
   "outputs": [],
   "source": [
    "theta_analysis = pd.Series(theta_init)"
   ]
  },
  {
   "cell_type": "code",
   "execution_count": 463,
   "metadata": {
    "collapsed": false
   },
   "outputs": [
    {
     "data": {
      "text/plain": [
       "count    147784.000000\n",
       "mean         10.080632\n",
       "std          57.756770\n",
       "min           0.000000\n",
       "25%           0.000000\n",
       "50%           0.000000\n",
       "75%           0.632703\n",
       "max        1341.026051\n",
       "dtype: float64"
      ]
     },
     "execution_count": 463,
     "metadata": {},
     "output_type": "execute_result"
    }
   ],
   "source": [
    "theta_analysis.describe()"
   ]
  },
  {
   "cell_type": "code",
   "execution_count": 464,
   "metadata": {
    "collapsed": false
   },
   "outputs": [
    {
     "data": {
      "text/plain": [
       "<matplotlib.axes._subplots.AxesSubplot at 0x19264f860>"
      ]
     },
     "execution_count": 464,
     "metadata": {},
     "output_type": "execute_result"
    },
    {
     "data": {
      "image/png": "[encoded data removed]",
      "text/plain": [
       "<matplotlib.figure.Figure at 0x116d6f7f0>"
      ]
     },
     "metadata": {},
     "output_type": "display_data"
    }
   ],
   "source": [
    "theta_analysis.plot()"
   ]
  },
  {
   "cell_type": "code",
   "execution_count": 465,
   "metadata": {
    "collapsed": false
   },
   "outputs": [
    {
     "data": {
      "text/plain": [
       "250173.08462489882"
      ]
     },
     "execution_count": 465,
     "metadata": {},
     "output_type": "execute_result"
    }
   ],
   "source": [
    "model.loss(theta_analysis)"
   ]
  },
  {
   "cell_type": "code",
   "execution_count": 476,
   "metadata": {
    "collapsed": true
   },
   "outputs": [],
   "source": [
    "def generate_sub(theta,filename):\n",
    "    y_pred = X_pred.dot(theta)\n",
    "    sub['prediction'] = y_pred\n",
    "    sub.to_csv(filename, sep='\\t', index=None)"
   ]
  },
  {
   "cell_type": "code",
   "execution_count": 477,
   "metadata": {
    "collapsed": true
   },
   "outputs": [],
   "source": [
    "generate_sub(theta_init,'sub_theta_init.txt')"
   ]
  },
  {
   "cell_type": "code",
   "execution_count": 488,
   "metadata": {
    "collapsed": true
   },
   "outputs": [],
   "source": [
    "theta_omitting_month_analysis = pd.Series(theta_omitting_month)"
   ]
  },
  {
   "cell_type": "code",
   "execution_count": 489,
   "metadata": {
    "collapsed": false,
    "scrolled": true
   },
   "outputs": [
    {
     "data": {
      "text/plain": [
       "<matplotlib.axes._subplots.AxesSubplot at 0x1164a9630>"
      ]
     },
     "execution_count": 489,
     "metadata": {},
     "output_type": "execute_result"
    },
    {
     "data": {
      "image/png": "[encoded data removed]",
      "text/plain": [
       "<matplotlib.figure.Figure at 0x112f4cfd0>"
      ]
     },
     "metadata": {},
     "output_type": "display_data"
    }
   ],
   "source": [
    "theta_omitting_month_analysis.plot()"
   ]
  },
  {
   "cell_type": "code",
   "execution_count": 491,
   "metadata": {
    "collapsed": true
   },
   "outputs": [],
   "source": [
    "mysub2 = pd.read_csv('../mysub2_2.7349122015943.txt',sep='\\t')"
   ]
  },
  {
   "cell_type": "code",
   "execution_count": 497,
   "metadata": {
    "collapsed": true
   },
   "outputs": [],
   "source": [
    "tuning_constant = 1.03\n",
    "generate_sub(theta_omitting_month*tuning_constant,'sub_omitting_month_tuning_2.txt')"
   ]
  },
  {
   "cell_type": "code",
   "execution_count": 498,
   "metadata": {
    "collapsed": false,
    "scrolled": true
   },
   "outputs": [
    {
     "data": {
      "text/html": [
       "<div>\n",
       "<table border=\"1\" class=\"dataframe\">\n",
       "  <thead>\n",
       "    <tr style=\"text-align: right;\">\n",
       "      <th></th>\n",
       "      <th>ASS_ASSIGNMENT</th>\n",
       "      <th>dayofweek</th>\n",
       "      <th>time_slot</th>\n",
       "      <th>CSPL_RECEIVED_CALLS</th>\n",
       "    </tr>\n",
       "  </thead>\n",
       "  <tbody>\n",
       "    <tr>\n",
       "      <th>0</th>\n",
       "      <td>CAT</td>\n",
       "      <td>0</td>\n",
       "      <td>0</td>\n",
       "      <td>0.165227</td>\n",
       "    </tr>\n",
       "    <tr>\n",
       "      <th>1</th>\n",
       "      <td>CAT</td>\n",
       "      <td>0</td>\n",
       "      <td>1</td>\n",
       "      <td>0.231502</td>\n",
       "    </tr>\n",
       "    <tr>\n",
       "      <th>2</th>\n",
       "      <td>CAT</td>\n",
       "      <td>0</td>\n",
       "      <td>2</td>\n",
       "      <td>0.000000</td>\n",
       "    </tr>\n",
       "    <tr>\n",
       "      <th>3</th>\n",
       "      <td>CAT</td>\n",
       "      <td>0</td>\n",
       "      <td>3</td>\n",
       "      <td>0.000000</td>\n",
       "    </tr>\n",
       "    <tr>\n",
       "      <th>4</th>\n",
       "      <td>CAT</td>\n",
       "      <td>0</td>\n",
       "      <td>4</td>\n",
       "      <td>0.000000</td>\n",
       "    </tr>\n",
       "  </tbody>\n",
       "</table>\n",
       "</div>"
      ],
      "text/plain": [
       "  ASS_ASSIGNMENT dayofweek time_slot  CSPL_RECEIVED_CALLS\n",
       "0            CAT         0         0             0.165227\n",
       "1            CAT         0         1             0.231502\n",
       "2            CAT         0         2             0.000000\n",
       "3            CAT         0         3             0.000000\n",
       "4            CAT         0         4             0.000000"
      ]
     },
     "execution_count": 498,
     "metadata": {},
     "output_type": "execute_result"
    }
   ],
   "source": [
    "predict_table_omitting_month.head()"
   ]
  },
  {
   "cell_type": "code",
   "execution_count": 505,
   "metadata": {
    "collapsed": false,
    "scrolled": true
   },
   "outputs": [
    {
     "data": {
      "text/html": [
       "<div>\n",
       "<table border=\"1\" class=\"dataframe\">\n",
       "  <thead>\n",
       "    <tr style=\"text-align: right;\">\n",
       "      <th></th>\n",
       "      <th>ASS_ASSIGNMENT</th>\n",
       "      <th>month</th>\n",
       "      <th>dayofweek</th>\n",
       "      <th>time_slot</th>\n",
       "      <th>CSPL_RECEIVED_CALLS</th>\n",
       "    </tr>\n",
       "  </thead>\n",
       "  <tbody>\n",
       "    <tr>\n",
       "      <th>0</th>\n",
       "      <td>CAT</td>\n",
       "      <td>1</td>\n",
       "      <td>0</td>\n",
       "      <td>0</td>\n",
       "      <td>0.676323</td>\n",
       "    </tr>\n",
       "    <tr>\n",
       "      <th>1</th>\n",
       "      <td>CAT</td>\n",
       "      <td>1</td>\n",
       "      <td>0</td>\n",
       "      <td>1</td>\n",
       "      <td>0.938227</td>\n",
       "    </tr>\n",
       "    <tr>\n",
       "      <th>2</th>\n",
       "      <td>CAT</td>\n",
       "      <td>1</td>\n",
       "      <td>0</td>\n",
       "      <td>2</td>\n",
       "      <td>0.000000</td>\n",
       "    </tr>\n",
       "    <tr>\n",
       "      <th>3</th>\n",
       "      <td>CAT</td>\n",
       "      <td>1</td>\n",
       "      <td>0</td>\n",
       "      <td>3</td>\n",
       "      <td>0.000000</td>\n",
       "    </tr>\n",
       "    <tr>\n",
       "      <th>4</th>\n",
       "      <td>CAT</td>\n",
       "      <td>1</td>\n",
       "      <td>0</td>\n",
       "      <td>4</td>\n",
       "      <td>0.000000</td>\n",
       "    </tr>\n",
       "  </tbody>\n",
       "</table>\n",
       "</div>"
      ],
      "text/plain": [
       "  ASS_ASSIGNMENT month dayofweek time_slot  CSPL_RECEIVED_CALLS\n",
       "0            CAT     1         0         0             0.676323\n",
       "1            CAT     1         0         1             0.938227\n",
       "2            CAT     1         0         2             0.000000\n",
       "3            CAT     1         0         3             0.000000\n",
       "4            CAT     1         0         4             0.000000"
      ]
     },
     "execution_count": 505,
     "metadata": {},
     "output_type": "execute_result"
    }
   ],
   "source": [
    "predict_table.reset_index().head()"
   ]
  },
  {
   "cell_type": "code",
   "execution_count": 528,
   "metadata": {
    "collapsed": false
   },
   "outputs": [],
   "source": [
    "mysub3 = pd.read_csv('mysub3_18.883772846977.txt', sep='\\t')"
   ]
  },
  {
   "cell_type": "code",
   "execution_count": 529,
   "metadata": {
    "collapsed": false
   },
   "outputs": [],
   "source": [
    "mysub3['prediction'] *= 1.4"
   ]
  },
  {
   "cell_type": "code",
   "execution_count": 530,
   "metadata": {
    "collapsed": true
   },
   "outputs": [],
   "source": [
    "mysub3.to_csv('../mysub_test', sep='\\t', index=None)"
   ]
  },
  {
   "cell_type": "code",
   "execution_count": 595,
   "metadata": {
    "collapsed": false
   },
   "outputs": [
    {
     "data": {
      "text/plain": [
       "array([  0.        ,   0.        ,   0.        , ...,  60.41253127,\n",
       "        41.59695106,  35.98786848])"
      ]
     },
     "execution_count": 595,
     "metadata": {},
     "output_type": "execute_result"
    }
   ],
   "source": []
  }
 ],
 "metadata": {
  "anaconda-cloud": {},
  "kernelspec": {
   "display_name": "Python [default]",
   "language": "python",
   "name": "python3"
  },
  "language_info": {
   "codemirror_mode": {
    "name": "ipython",
    "version": 3
   },
   "file_extension": ".py",
   "mimetype": "text/x-python",
   "name": "python",
   "nbconvert_exporter": "python",
   "pygments_lexer": "ipython3",
   "version": "3.5.2"
  }
 },
 "nbformat": 4,
 "nbformat_minor": 1
}

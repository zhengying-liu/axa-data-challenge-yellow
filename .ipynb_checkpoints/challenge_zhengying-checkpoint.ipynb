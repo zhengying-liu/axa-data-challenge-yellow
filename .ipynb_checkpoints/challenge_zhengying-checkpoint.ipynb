{
 "cells": [
  {
   "cell_type": "code",
   "execution_count": 43,
   "metadata": {
    "collapsed": false
   },
   "outputs": [],
   "source": [
    "import pandas as pd\n",
    "import numpy as np\n",
    "import matplotlib.pyplot as plt\n",
    "%matplotlib inline"
   ]
  },
  {
   "cell_type": "markdown",
   "metadata": {},
   "source": [
    "## Constants and functions"
   ]
  },
  {
   "cell_type": "code",
   "execution_count": 44,
   "metadata": {
    "collapsed": true
   },
   "outputs": [],
   "source": [
    "alpha = 0.1\n",
    "date = \"DATE\"\n",
    "ass = \"ASS_ASSIGNMENT\"\n",
    "target = \"CSPL_RECEIVED_CALLS\""
   ]
  },
  {
   "cell_type": "code",
   "execution_count": 45,
   "metadata": {
    "collapsed": true
   },
   "outputs": [],
   "source": [
    "def LinEx(y_pred,y_true,average=True):\n",
    "    diff = alpha * (y_true - y_pred)\n",
    "    score = np.exp(diff) - diff - 1\n",
    "    if average:\n",
    "        return np.average(score)\n",
    "    else:\n",
    "        return score"
   ]
  },
  {
   "cell_type": "code",
   "execution_count": 46,
   "metadata": {
    "collapsed": true
   },
   "outputs": [],
   "source": [
    "def get_slot(timestamp):\n",
    "    assert timestamp.minute in [0, 30]\n",
    "    return 2 * timestamp.hour + (timestamp.minute == 30)"
   ]
  },
  {
   "cell_type": "code",
   "execution_count": 142,
   "metadata": {
    "collapsed": true
   },
   "outputs": [],
   "source": [
    "def best_mean(s):\n",
    "    \"\"\"The constant that minimizes the empirical loss.\n",
    "    For numerical stability, we multiply and divide by the max.\n",
    "    Equal to 1 / alpha * np.log(1 /s.size * np.sum(np.exp(alpha*s)))\"\"\"\n",
    "    if isinstance(s, (int, float, complex)):\n",
    "        print(s)\n",
    "        return s\n",
    "    else:\n",
    "        s = alpha * s\n",
    "        m = s.max()\n",
    "        s = s - m\n",
    "        return 1 / alpha * (-np.log(s.size) + m + np.log(np.sum(np.exp(s))))"
   ]
  },
  {
   "cell_type": "markdown",
   "metadata": {},
   "source": [
    "## Preprocessing"
   ]
  },
  {
   "cell_type": "code",
   "execution_count": 14,
   "metadata": {
    "collapsed": false
   },
   "outputs": [
    {
     "name": "stderr",
     "output_type": "stream",
     "text": [
      "<string>:2: DtypeWarning: Columns (17) have mixed types. Specify dtype option on import or set low_memory=False.\n"
     ]
    },
    {
     "name": "stdout",
     "output_type": "stream",
     "text": [
      "CPU times: user 2min 38s, sys: 29.3 s, total: 3min 7s\n",
      "Wall time: 3min 22s\n"
     ]
    }
   ],
   "source": [
    "%%time\n",
    "df = pd.read_csv(\"../train_2011_2012_2013.csv\", sep=\";\")"
   ]
  },
  {
   "cell_type": "code",
   "execution_count": 15,
   "metadata": {
    "collapsed": false
   },
   "outputs": [
    {
     "data": {
      "text/plain": [
       "935548420"
      ]
     },
     "execution_count": 15,
     "metadata": {},
     "output_type": "execute_result"
    }
   ],
   "source": [
    "df.size"
   ]
  },
  {
   "cell_type": "code",
   "execution_count": 16,
   "metadata": {
    "collapsed": true
   },
   "outputs": [],
   "source": [
    "df_useful = df[[date,ass,target]]"
   ]
  },
  {
   "cell_type": "code",
   "execution_count": 17,
   "metadata": {
    "collapsed": false
   },
   "outputs": [],
   "source": [
    "df_useful = df_useful.groupby([date, ass]).aggregate(np.sum)"
   ]
  },
  {
   "cell_type": "code",
   "execution_count": 18,
   "metadata": {
    "collapsed": false
   },
   "outputs": [
    {
     "data": {
      "text/plain": [
       "1030829"
      ]
     },
     "execution_count": 18,
     "metadata": {},
     "output_type": "execute_result"
    }
   ],
   "source": [
    "df_useful.size"
   ]
  },
  {
   "cell_type": "code",
   "execution_count": 19,
   "metadata": {
    "collapsed": true
   },
   "outputs": [],
   "source": [
    "df_useful = df_useful.reset_index()"
   ]
  },
  {
   "cell_type": "code",
   "execution_count": 20,
   "metadata": {
    "collapsed": false
   },
   "outputs": [
    {
     "data": {
      "text/html": [
       "<div>\n",
       "<table border=\"1\" class=\"dataframe\">\n",
       "  <thead>\n",
       "    <tr style=\"text-align: right;\">\n",
       "      <th></th>\n",
       "      <th>DATE</th>\n",
       "      <th>ASS_ASSIGNMENT</th>\n",
       "      <th>CSPL_RECEIVED_CALLS</th>\n",
       "    </tr>\n",
       "  </thead>\n",
       "  <tbody>\n",
       "    <tr>\n",
       "      <th>0</th>\n",
       "      <td>2011-01-01 00:00:00.000</td>\n",
       "      <td>Crises</td>\n",
       "      <td>0</td>\n",
       "    </tr>\n",
       "    <tr>\n",
       "      <th>1</th>\n",
       "      <td>2011-01-01 00:00:00.000</td>\n",
       "      <td>Domicile</td>\n",
       "      <td>0</td>\n",
       "    </tr>\n",
       "    <tr>\n",
       "      <th>2</th>\n",
       "      <td>2011-01-01 00:00:00.000</td>\n",
       "      <td>Gestion</td>\n",
       "      <td>0</td>\n",
       "    </tr>\n",
       "    <tr>\n",
       "      <th>3</th>\n",
       "      <td>2011-01-01 00:00:00.000</td>\n",
       "      <td>Gestion - Accueil Telephonique</td>\n",
       "      <td>0</td>\n",
       "    </tr>\n",
       "    <tr>\n",
       "      <th>4</th>\n",
       "      <td>2011-01-01 00:00:00.000</td>\n",
       "      <td>Gestion Amex</td>\n",
       "      <td>0</td>\n",
       "    </tr>\n",
       "  </tbody>\n",
       "</table>\n",
       "</div>"
      ],
      "text/plain": [
       "                      DATE                  ASS_ASSIGNMENT  \\\n",
       "0  2011-01-01 00:00:00.000                          Crises   \n",
       "1  2011-01-01 00:00:00.000                        Domicile   \n",
       "2  2011-01-01 00:00:00.000                         Gestion   \n",
       "3  2011-01-01 00:00:00.000  Gestion - Accueil Telephonique   \n",
       "4  2011-01-01 00:00:00.000                    Gestion Amex   \n",
       "\n",
       "   CSPL_RECEIVED_CALLS  \n",
       "0                    0  \n",
       "1                    0  \n",
       "2                    0  \n",
       "3                    0  \n",
       "4                    0  "
      ]
     },
     "execution_count": 20,
     "metadata": {},
     "output_type": "execute_result"
    }
   ],
   "source": [
    "df_useful.head()"
   ]
  },
  {
   "cell_type": "code",
   "execution_count": 21,
   "metadata": {
    "collapsed": false
   },
   "outputs": [],
   "source": [
    "df_useful[date] = pd.to_datetime(df_useful[date])\n",
    "df_useful[ass] = df_useful[ass].astype('category')"
   ]
  },
  {
   "cell_type": "code",
   "execution_count": 22,
   "metadata": {
    "collapsed": false
   },
   "outputs": [
    {
     "data": {
      "text/plain": [
       "DATE                   datetime64[ns]\n",
       "ASS_ASSIGNMENT               category\n",
       "CSPL_RECEIVED_CALLS             int64\n",
       "dtype: object"
      ]
     },
     "execution_count": 22,
     "metadata": {},
     "output_type": "execute_result"
    }
   ],
   "source": [
    "df_useful.dtypes"
   ]
  },
  {
   "cell_type": "code",
   "execution_count": 128,
   "metadata": {
    "collapsed": false
   },
   "outputs": [
    {
     "data": {
      "text/plain": [
       "False"
      ]
     },
     "execution_count": 128,
     "metadata": {},
     "output_type": "execute_result"
    }
   ],
   "source": [
    "# Check if df_useful has missing data\n",
    "df_useful.isnull().values.any()"
   ]
  },
  {
   "cell_type": "markdown",
   "metadata": {},
   "source": [
    "## Feature engineering"
   ]
  },
  {
   "cell_type": "code",
   "execution_count": 24,
   "metadata": {
    "collapsed": false
   },
   "outputs": [],
   "source": [
    "def extract_feature_from_dataframe(df):\n",
    "    res = pd.DataFrame({'month':df[date].apply(lambda x: x.month),\n",
    "                         'dayofweek': df[date].apply(lambda x: x.dayofweek),\n",
    "                         'time_slot': df[date].apply(get_slot),\n",
    "                         ass: df[ass]\n",
    "                        }, dtype='category')\n",
    "    return res"
   ]
  },
  {
   "cell_type": "code",
   "execution_count": 50,
   "metadata": {
    "collapsed": false
   },
   "outputs": [
    {
     "name": "stdout",
     "output_type": "stream",
     "text": [
      "CPU times: user 12.5 s, sys: 344 ms, total: 12.8 s\n",
      "Wall time: 12.8 s\n"
     ]
    }
   ],
   "source": [
    "%%time\n",
    "feature_df = extract_feature_from_dataframe(df_useful)"
   ]
  },
  {
   "cell_type": "code",
   "execution_count": 51,
   "metadata": {
    "collapsed": false
   },
   "outputs": [
    {
     "data": {
      "text/plain": [
       "ASS_ASSIGNMENT    category\n",
       "dayofweek         category\n",
       "month             category\n",
       "time_slot         category\n",
       "dtype: object"
      ]
     },
     "execution_count": 51,
     "metadata": {},
     "output_type": "execute_result"
    }
   ],
   "source": [
    "feature_df.dtypes"
   ]
  },
  {
   "cell_type": "code",
   "execution_count": 52,
   "metadata": {
    "collapsed": false
   },
   "outputs": [
    {
     "data": {
      "text/html": [
       "<div>\n",
       "<table border=\"1\" class=\"dataframe\">\n",
       "  <thead>\n",
       "    <tr style=\"text-align: right;\">\n",
       "      <th></th>\n",
       "      <th>ASS_ASSIGNMENT</th>\n",
       "      <th>dayofweek</th>\n",
       "      <th>month</th>\n",
       "      <th>time_slot</th>\n",
       "    </tr>\n",
       "  </thead>\n",
       "  <tbody>\n",
       "    <tr>\n",
       "      <th>0</th>\n",
       "      <td>Crises</td>\n",
       "      <td>5</td>\n",
       "      <td>1</td>\n",
       "      <td>0</td>\n",
       "    </tr>\n",
       "    <tr>\n",
       "      <th>1</th>\n",
       "      <td>Domicile</td>\n",
       "      <td>5</td>\n",
       "      <td>1</td>\n",
       "      <td>0</td>\n",
       "    </tr>\n",
       "    <tr>\n",
       "      <th>2</th>\n",
       "      <td>Gestion</td>\n",
       "      <td>5</td>\n",
       "      <td>1</td>\n",
       "      <td>0</td>\n",
       "    </tr>\n",
       "    <tr>\n",
       "      <th>3</th>\n",
       "      <td>Gestion - Accueil Telephonique</td>\n",
       "      <td>5</td>\n",
       "      <td>1</td>\n",
       "      <td>0</td>\n",
       "    </tr>\n",
       "    <tr>\n",
       "      <th>4</th>\n",
       "      <td>Gestion Amex</td>\n",
       "      <td>5</td>\n",
       "      <td>1</td>\n",
       "      <td>0</td>\n",
       "    </tr>\n",
       "  </tbody>\n",
       "</table>\n",
       "</div>"
      ],
      "text/plain": [
       "                   ASS_ASSIGNMENT dayofweek month time_slot\n",
       "0                          Crises         5     1         0\n",
       "1                        Domicile         5     1         0\n",
       "2                         Gestion         5     1         0\n",
       "3  Gestion - Accueil Telephonique         5     1         0\n",
       "4                    Gestion Amex         5     1         0"
      ]
     },
     "execution_count": 52,
     "metadata": {},
     "output_type": "execute_result"
    }
   ],
   "source": [
    "feature_df.head()"
   ]
  },
  {
   "cell_type": "markdown",
   "metadata": {},
   "source": [
    "## Feature matrix\n",
    "\n",
    "As `feature_df` has 4 categorical columns, we can construct our feature matrix `X` by using a generalized `get_dummies()` function.\n",
    "\n",
    "As we know, `get_dummies()` function in `pandas` module sends a column of categorical values to $m$ columns of binary values. Each column corresponds to a possible categorical value in the original column (there a $m$ of these in total).\n",
    "\n",
    "Now we have 4 columns of categorical data in `feature_df`. Each column has 28, 7, 12 and 48 possible values respectively. We could simply apply `get_dummies()` to `feature_df` to get a feature matrix of \n",
    "$$\n",
    "28 + 7 +12 + 48 = 95\n",
    "$$\n",
    "columns.\n",
    "\n",
    "However, when we apply linear regression to this matrix, each component acts independently. But this isn't true in our case. Some specific combination of these values could have an important effect while none of its value does separately. So we propose to consider a generalized `get_dummies()` function which send the DataFrame `feature_df` of 4 categorical columns to a feature matrix of \n",
    "$$\n",
    "(28+1)\\times(7+1)\\times(12+1)\\times(48+1) = 147784\n",
    "$$\n",
    "columns.\n",
    "\n",
    "A row having for example `(ASS_ASSIGNMENT, dayofweek, month, time_slot) = (Crises,5,1,0)` will be sent to a row of 147784 binary values where values in the following 16 columns \n",
    "- () (intercept)\n",
    "- (ASS_ASSIGNMENT=Crises)\n",
    "- (dayofweek=5)\n",
    "- (month=1)\n",
    "- (time_slot=0)\n",
    "- (ASS_ASSIGNMENT=Crises, dayofweek=5)\n",
    "- (ASS_ASSIGNMENT=Crises, month=1)\n",
    "- (ASS_ASSIGNMENT=Crises, time_slot=0)\n",
    "- (dayofweek=5, month=1)\n",
    "- (dayofweek=5, time_slot=0)\n",
    "- (month=1, time_slot=0)\n",
    "- (ASS_ASSIGNMENT=Crises, dayofweek=5, month=1)\n",
    "- (ASS_ASSIGNMENT=Crises, dayofweek=5, time_slot=0)\n",
    "- (ASS_ASSIGNMENT=Crises, month=1, time_slot=0)\n",
    "- (dayofweek=5, month=1, time_slot=0)\n",
    "- (ASS_ASSIGNMENT=Crises, dayofweek=5, month=1, time_slot=0)\n",
    "\n",
    "are 1 and 0 elsewhere.\n",
    "\n",
    "The idea is that we consider all the 16 combinations with ASS_ASSIGNMENT=Crises, dayofweek=5, month=1 or time_slot=0.\n",
    "\n",
    "<strong>Thus, our feature matrix will be of shape (1030829, 147784) where each row will only have 16 non-zero terms. We will use `scipy.sparse.csr_matrix` to store this matrix. </strong>"
   ]
  },
  {
   "cell_type": "code",
   "execution_count": 53,
   "metadata": {
    "collapsed": false
   },
   "outputs": [
    {
     "name": "stdout",
     "output_type": "stream",
     "text": [
      "{'Gestion': 5, 'Gestion Relation Clienteles': 11, 'Téléphonie': 27, 'RTC': 20, 'Gestion Renault': 12, 'Nuit': 17, 'Domicile': 3, 'Japon': 13, 'CAT': 0, 'Services': 23, 'Evenements': 4, 'RENAULT': 19, 'Tech. Total': 26, 'SAP': 22, 'Gestion Clients': 9, 'Tech. Axa': 24, 'Manager': 14, 'Prestataires': 18, 'Gestion Assurances': 8, 'Crises': 2, 'Gestion - Accueil Telephonique': 6, 'Médical': 16, 'CMS': 1, 'Gestion DZ': 10, 'Mécanicien': 15, 'Tech. Inter': 25, 'Regulation Medicale': 21, 'Gestion Amex': 7}\n"
     ]
    }
   ],
   "source": [
    "ass_unique = sorted(feature_df[ass].unique().ravel())\n",
    "ass_indices = {}\n",
    "for i in range(len(ass_unique)):\n",
    "    ass_indices[ass_unique[i]] = i\n",
    "print(ass_indices)"
   ]
  },
  {
   "cell_type": "code",
   "execution_count": 54,
   "metadata": {
    "collapsed": false
   },
   "outputs": [],
   "source": [
    "n_values = {ass:28,'dayofweek':7,'month':12,'time_slot':48}\n",
    "\n",
    "def indices_row(row):\n",
    "    na = n_values[ass] + 1\n",
    "    nd = n_values['dayofweek'] + 1\n",
    "    nm = n_values['month'] + 1\n",
    "    nt = n_values['time_slot'] + 1\n",
    "    \n",
    "    res = []\n",
    "    \n",
    "    i_a = 0\n",
    "    if ass in row:\n",
    "        i_a = ass_indices[row[ass]] + 1\n",
    "    i_d = 0\n",
    "    if 'dayofweek' in row:\n",
    "        i_d = row['dayofweek'] + 1\n",
    "    i_m = 0\n",
    "    if 'month' in row:\n",
    "        i_m = row['month']\n",
    "    i_t = 0\n",
    "    if 'time_slot' in row:\n",
    "        i_t = row['time_slot'] + 1\n",
    "    \n",
    "    for i1 in [0,1]:\n",
    "        for i2 in [0,1]:\n",
    "            for i3 in [0,1]:\n",
    "                for i4 in [0,1]:\n",
    "                    res.append( i1*i_a*nd*nm*nt + i2*i_d*nm*nt + i3*i_m*nt + i4*i_t )\n",
    "    return res\n",
    "\n",
    "def index_to_row(idx):\n",
    "    na = n_values[ass] + 1\n",
    "    nd = n_values['dayofweek'] + 1\n",
    "    nm = n_values['month'] + 1\n",
    "    nt = n_values['time_slot'] + 1\n",
    "    i_a = idx//(nd*nm*nt)\n",
    "    i_d = idx%(nd*nm*nt)//(nm*nt)\n",
    "    i_m = idx%(nm*nt)//nt\n",
    "    i_t = idx%nt\n",
    "    \n",
    "    res = {}\n",
    "    if i_a:\n",
    "        res[ass] = ass_unique[i_a-1]\n",
    "    if i_d:\n",
    "        res['dayofweek'] = i_d - 1\n",
    "    if i_m:\n",
    "        res['month'] = i_m\n",
    "    if i_t:\n",
    "        res['time_slot'] = i_t - 1\n",
    "    \n",
    "    return res\n",
    "\n",
    "def row_to_index(row):\n",
    "    na = n_values[ass] + 1\n",
    "    nd = n_values['dayofweek'] + 1\n",
    "    nm = n_values['month'] + 1\n",
    "    nt = n_values['time_slot'] + 1\n",
    "    \n",
    "    res = []\n",
    "    \n",
    "    i_a = 0\n",
    "    if ass in row:\n",
    "        i_a = ass_indices[row[ass]] + 1\n",
    "    i_d = 0\n",
    "    if 'dayofweek' in row:\n",
    "        i_d = row['dayofweek'] + 1\n",
    "    i_m = 0\n",
    "    if 'month' in row:\n",
    "        i_m = row['month']\n",
    "    i_t = 0\n",
    "    if 'time_slot' in row:\n",
    "        i_t = row['time_slot'] + 1\n",
    "        \n",
    "    return i_a*nd*nm*nt + i_d*nm*nt + i_m*nt + i_t"
   ]
  },
  {
   "cell_type": "code",
   "execution_count": 55,
   "metadata": {
    "collapsed": false
   },
   "outputs": [
    {
     "name": "stdout",
     "output_type": "stream",
     "text": [
      "135692\n"
     ]
    },
    {
     "data": {
      "text/plain": [
       "135692"
      ]
     },
     "execution_count": 55,
     "metadata": {},
     "output_type": "execute_result"
    }
   ],
   "source": [
    "idx = np.random.randint(0,29*8*13*49)\n",
    "print(idx)\n",
    "row_to_index(index_to_row(idx))"
   ]
  },
  {
   "cell_type": "code",
   "execution_count": 22,
   "metadata": {
    "collapsed": false
   },
   "outputs": [
    {
     "data": {
      "text/plain": [
       "(1030829, 147784)"
      ]
     },
     "execution_count": 22,
     "metadata": {},
     "output_type": "execute_result"
    }
   ],
   "source": [
    "n = len(feature_df)\n",
    "d = 29*8*13*49\n",
    "n, d"
   ]
  },
  {
   "cell_type": "code",
   "execution_count": 23,
   "metadata": {
    "collapsed": false,
    "scrolled": true
   },
   "outputs": [],
   "source": [
    "from scipy.sparse import csr_matrix\n",
    "\n",
    "indptr = np.arange(n+1) * 16"
   ]
  },
  {
   "cell_type": "code",
   "execution_count": 24,
   "metadata": {
    "collapsed": false
   },
   "outputs": [
    {
     "name": "stdout",
     "output_type": "stream",
     "text": [
      "CPU times: user 1min 33s, sys: 671 ms, total: 1min 33s\n",
      "Wall time: 1min 34s\n"
     ]
    }
   ],
   "source": [
    "%%time\n",
    "X_indices_each_row = feature_df.apply(indices_row, axis=1)"
   ]
  },
  {
   "cell_type": "code",
   "execution_count": 38,
   "metadata": {
    "collapsed": false
   },
   "outputs": [],
   "source": [
    "def sum_list(series,a,b):\n",
    "    le = b-a\n",
    "    if le==1:\n",
    "        return series[a]\n",
    "    else:\n",
    "        return sum_list(series,a,(a+b)//2) + sum_list(series,(a+b)//2,b)"
   ]
  },
  {
   "cell_type": "code",
   "execution_count": 49,
   "metadata": {
    "collapsed": false,
    "scrolled": true
   },
   "outputs": [
    {
     "name": "stdout",
     "output_type": "stream",
     "text": [
      "CPU times: user 28.2 s, sys: 771 ms, total: 29 s\n",
      "Wall time: 29.1 s\n"
     ]
    }
   ],
   "source": [
    "%%time\n",
    "indices = sum_list(X_indices_each_row,0,n)"
   ]
  },
  {
   "cell_type": "code",
   "execution_count": 59,
   "metadata": {
    "collapsed": true
   },
   "outputs": [],
   "source": [
    "data = np.ones(n*16)"
   ]
  },
  {
   "cell_type": "code",
   "execution_count": 55,
   "metadata": {
    "collapsed": false
   },
   "outputs": [
    {
     "name": "stdout",
     "output_type": "stream",
     "text": [
      "CPU times: user 2.97 s, sys: 797 ms, total: 3.77 s\n",
      "Wall time: 3.86 s\n"
     ]
    }
   ],
   "source": [
    "%%time\n",
    "X = csr_matrix((data,indices,indptr),shape=(n,d))"
   ]
  },
  {
   "cell_type": "code",
   "execution_count": 58,
   "metadata": {
    "collapsed": false
   },
   "outputs": [
    {
     "name": "stdout",
     "output_type": "stream",
     "text": [
      "(1030829, 147784)\n"
     ]
    }
   ],
   "source": [
    "print(X.shape)"
   ]
  },
  {
   "cell_type": "code",
   "execution_count": 60,
   "metadata": {
    "collapsed": true
   },
   "outputs": [],
   "source": [
    "import pickle\n",
    "with open('X_csr_matrix','wb') as f:\n",
    "    pickle.dump(X,f)"
   ]
  },
  {
   "cell_type": "code",
   "execution_count": 72,
   "metadata": {
    "collapsed": true
   },
   "outputs": [],
   "source": [
    "y_sum = df_useful[target].as_matrix()"
   ]
  },
  {
   "cell_type": "code",
   "execution_count": 75,
   "metadata": {
    "collapsed": false
   },
   "outputs": [],
   "source": [
    "with open('y_sum','wb') as f:\n",
    "    pickle.dump(y_sum,f)"
   ]
  },
  {
   "cell_type": "markdown",
   "metadata": {},
   "source": [
    "# For convenience, start here when restarting the kernel"
   ]
  },
  {
   "cell_type": "code",
   "execution_count": 8,
   "metadata": {
    "collapsed": false
   },
   "outputs": [],
   "source": [
    "import pickle\n",
    "with open('X_csr_matrix','rb') as f:\n",
    "    X = pickle.load(f)"
   ]
  },
  {
   "cell_type": "code",
   "execution_count": 9,
   "metadata": {
    "collapsed": true
   },
   "outputs": [],
   "source": [
    "with open('y_sum','rb') as f:\n",
    "    y = pickle.load(f)"
   ]
  },
  {
   "cell_type": "code",
   "execution_count": 187,
   "metadata": {
    "collapsed": false
   },
   "outputs": [],
   "source": [
    "with open('theta_init','rb') as f:\n",
    "    theta_init = pickle.load(f)"
   ]
  },
  {
   "cell_type": "code",
   "execution_count": 189,
   "metadata": {
    "collapsed": false
   },
   "outputs": [
    {
     "name": "stdout",
     "output_type": "stream",
     "text": [
      "<class 'scipy.sparse.csr.csr_matrix'> <class 'numpy.ndarray'> <class 'numpy.ndarray'>\n"
     ]
    }
   ],
   "source": [
    "print(type(X),type(y), type(theta_init))"
   ]
  },
  {
   "cell_type": "code",
   "execution_count": 191,
   "metadata": {
    "collapsed": false
   },
   "outputs": [
    {
     "name": "stdout",
     "output_type": "stream",
     "text": [
      "(1030829, 147784) (1030829,) (147784,)\n"
     ]
    }
   ],
   "source": [
    "print(X.shape,y.shape,theta_init.shape)"
   ]
  },
  {
   "cell_type": "markdown",
   "metadata": {},
   "source": [
    "### Linear LinEx regression with ridge penalization\n",
    "We want to minimize\n",
    "$$\n",
    "\\frac 1n \\sum_{i=1}^n \\ell(x_i^\\top \\theta, y_i) + \\frac \\lambda 2 \\|\\theta\\|_2^2\n",
    "$$\n",
    "where\n",
    "- $\\ell(z,y) := LinEx(z, y) := \\exp(\\alpha(y - z)) - \\alpha(y-z) - 1$ (LinEx regression)\n",
    "\n",
    "We write it as a minimization problem of the form\n",
    "$$\n",
    "\\frac 1n \\sum_{i=1}^n f_i(\\theta)\n",
    "$$\n",
    "where\n",
    "$$\n",
    "f_i(\\theta) = \\ell(x_i^\\top \\theta, y_i) + \\frac \\lambda 2 \\|\\theta\\|_2^2.\n",
    "$$\n",
    "\n",
    "Its gradient is\n",
    "\\begin{equation}\n",
    "\\begin{aligned}\n",
    "\\nabla f_i(\\theta) &= \\ell'(x_i^\\top \\theta, y_i) x_i + \\lambda \\theta \\\\\n",
    "&= \\alpha (1 - \\exp(\\alpha(y_i - x_i^\\top \\theta))) x_i + \\lambda \\theta\n",
    "\\end{aligned}\n",
    "\\end{equation}\n",
    "\n",
    "Let $L_i$ denote the Lipschitz constant of $\\nabla f_i$. \n",
    "Around some $\\theta_0$, we have by simple computation\n",
    "$$\n",
    "L_i = \\alpha^2 \\exp(\\alpha (y_i - x_i^\\top \\theta_0)) \\| x_i \\|_2^2 + \\lambda\n",
    "$$\n",
    "We will use two algorithms to solve this problem - BFGS and SVRG. For SVRG algorithm, the step can be taken as\n",
    "$\\eta = 1 / \\max_{i=1,\\ldots,n} L_i$"
   ]
  },
  {
   "cell_type": "code",
   "execution_count": 192,
   "metadata": {
    "collapsed": true
   },
   "outputs": [],
   "source": [
    "class LinExReg(object):\n",
    "    \"\"\"A class for the LinEx regression with\n",
    "    Ridge penalization\"\"\"\n",
    "\n",
    "    def __init__(self, X, y, lbda, alpha=0.1):\n",
    "        self.X = X\n",
    "        self.y = y\n",
    "        self.n, self.d = X.shape\n",
    "        self.lbda = lbda\n",
    "        self.alpha = alpha\n",
    "    \n",
    "    def grad(self, theta):\n",
    "        diff = alpha * (self.y - self.X.dot(theta))\n",
    "        coeff = alpha * (1 - np.exp(diff))\n",
    "        vec = (self.X.T * coeff).T\n",
    "        res = np.sum(vec)/self.n + self.lbda * theta\n",
    "        return res\n",
    "\n",
    "    def loss(self, theta):\n",
    "        diff = alpha * (self.y - self.X.dot(theta))\n",
    "        score = np.exp(diff) - diff - 1\n",
    "        res = np.average(score) + self.lbda * theta.dot(theta) / 2.\n",
    "        return res\n",
    "    \n",
    "    def loss_i(self,i,theta):\n",
    "        x_i = self.X[i]\n",
    "        y_i = self.y[i]\n",
    "        diff = alpha * (y_i - x_i.dot(theta))\n",
    "        score = np.exp(diff) - diff - 1\n",
    "        res = score + self.lbda * theta.dot(theta) / 2.\n",
    "        return res\n",
    "    \n",
    "    def grad_i(self, i, theta):\n",
    "        x_i = self.X[i]\n",
    "        y_i = self.y[i]\n",
    "        diff = alpha * (y_i - x_i.dot(theta))\n",
    "        coeff = alpha * (1 - np.exp(diff))\n",
    "        res = coeff * x_i + self.lbda * theta\n",
    "        return res\n",
    "    \n",
    "    def lipschitz_constant_i(self,i):\n",
    "        \"\"\"Return the Lipschitz constant of f_i\"\"\"\n",
    "        x_i = self.X[i]\n",
    "        y_i = self.y[i]\n",
    "        L_i = alpha**2 * np.exp(alpha * (y_i - x_i.dot(theta))) + self.lbda\n",
    "        return L_i"
   ]
  },
  {
   "cell_type": "code",
   "execution_count": 194,
   "metadata": {
    "collapsed": false
   },
   "outputs": [],
   "source": [
    "from scipy.optimize import check_grad\n",
    "\n",
    "n, d = X.shape\n",
    "lbda = 1. / n ** (0.5)\n",
    "lbda = 0\n",
    "model = LinExReg(X, y, lbda)"
   ]
  },
  {
   "cell_type": "code",
   "execution_count": 197,
   "metadata": {
    "collapsed": false
   },
   "outputs": [
    {
     "name": "stdout",
     "output_type": "stream",
     "text": [
      "CPU times: user 45 µs, sys: 2 µs, total: 47 µs\n",
      "Wall time: 52 µs\n"
     ]
    }
   ],
   "source": [
    "%%time\n",
    "# Check that the gradient and the loss numerically match\n",
    "i = np.random.randint(0,n)\n",
    "loss_func = lambda x: model.loss_i(i,x)\n",
    "grad_func = lambda x: model.grad_i(i,x)"
   ]
  },
  {
   "cell_type": "code",
   "execution_count": null,
   "metadata": {
    "collapsed": false,
    "scrolled": true
   },
   "outputs": [],
   "source": [
    "check_grad(loss_func, grad_func, theta_init)"
   ]
  },
  {
   "cell_type": "markdown",
   "metadata": {},
   "source": [
    "### We first get a reasonable $\\theta$ as initial value"
   ]
  },
  {
   "cell_type": "code",
   "execution_count": 25,
   "metadata": {
    "collapsed": false
   },
   "outputs": [],
   "source": [
    "df_temp = extract_feature_from_dataframe(df_useful)\n",
    "df_temp[target] = df_useful[target]"
   ]
  },
  {
   "cell_type": "code",
   "execution_count": 27,
   "metadata": {
    "collapsed": false
   },
   "outputs": [
    {
     "data": {
      "text/html": [
       "<div>\n",
       "<table border=\"1\" class=\"dataframe\">\n",
       "  <thead>\n",
       "    <tr style=\"text-align: right;\">\n",
       "      <th></th>\n",
       "      <th>ASS_ASSIGNMENT</th>\n",
       "      <th>dayofweek</th>\n",
       "      <th>month</th>\n",
       "      <th>time_slot</th>\n",
       "      <th>CSPL_RECEIVED_CALLS</th>\n",
       "    </tr>\n",
       "  </thead>\n",
       "  <tbody>\n",
       "    <tr>\n",
       "      <th>0</th>\n",
       "      <td>Crises</td>\n",
       "      <td>5</td>\n",
       "      <td>1</td>\n",
       "      <td>0</td>\n",
       "      <td>0</td>\n",
       "    </tr>\n",
       "    <tr>\n",
       "      <th>1</th>\n",
       "      <td>Domicile</td>\n",
       "      <td>5</td>\n",
       "      <td>1</td>\n",
       "      <td>0</td>\n",
       "      <td>0</td>\n",
       "    </tr>\n",
       "    <tr>\n",
       "      <th>2</th>\n",
       "      <td>Gestion</td>\n",
       "      <td>5</td>\n",
       "      <td>1</td>\n",
       "      <td>0</td>\n",
       "      <td>0</td>\n",
       "    </tr>\n",
       "    <tr>\n",
       "      <th>3</th>\n",
       "      <td>Gestion - Accueil Telephonique</td>\n",
       "      <td>5</td>\n",
       "      <td>1</td>\n",
       "      <td>0</td>\n",
       "      <td>0</td>\n",
       "    </tr>\n",
       "    <tr>\n",
       "      <th>4</th>\n",
       "      <td>Gestion Amex</td>\n",
       "      <td>5</td>\n",
       "      <td>1</td>\n",
       "      <td>0</td>\n",
       "      <td>0</td>\n",
       "    </tr>\n",
       "  </tbody>\n",
       "</table>\n",
       "</div>"
      ],
      "text/plain": [
       "                   ASS_ASSIGNMENT dayofweek month time_slot  \\\n",
       "0                          Crises         5     1         0   \n",
       "1                        Domicile         5     1         0   \n",
       "2                         Gestion         5     1         0   \n",
       "3  Gestion - Accueil Telephonique         5     1         0   \n",
       "4                    Gestion Amex         5     1         0   \n",
       "\n",
       "   CSPL_RECEIVED_CALLS  \n",
       "0                    0  \n",
       "1                    0  \n",
       "2                    0  \n",
       "3                    0  \n",
       "4                    0  "
      ]
     },
     "execution_count": 27,
     "metadata": {},
     "output_type": "execute_result"
    }
   ],
   "source": [
    "df_temp.head()"
   ]
  },
  {
   "cell_type": "code",
   "execution_count": 175,
   "metadata": {
    "collapsed": false
   },
   "outputs": [
    {
     "name": "stdout",
     "output_type": "stream",
     "text": [
      "CPU times: user 59.1 s, sys: 422 ms, total: 59.5 s\n",
      "Wall time: 1min\n"
     ]
    }
   ],
   "source": [
    "%%time\n",
    "predict_table = df_temp.groupby([ass, 'month', 'dayofweek', 'time_slot'])[target].aggregate(best_mean)"
   ]
  },
  {
   "cell_type": "code",
   "execution_count": 176,
   "metadata": {
    "collapsed": false
   },
   "outputs": [
    {
     "data": {
      "text/plain": [
       "False"
      ]
     },
     "execution_count": 176,
     "metadata": {},
     "output_type": "execute_result"
    }
   ],
   "source": [
    "predict_table.isnull().values.any()"
   ]
  },
  {
   "cell_type": "code",
   "execution_count": 177,
   "metadata": {
    "collapsed": false
   },
   "outputs": [],
   "source": [
    "predict_table = predict_table.reset_index()"
   ]
  },
  {
   "cell_type": "code",
   "execution_count": 179,
   "metadata": {
    "collapsed": false
   },
   "outputs": [
    {
     "data": {
      "text/plain": [
       "DATE                   2011-01-01 00:00:00\n",
       "ASS_ASSIGNMENT                      Crises\n",
       "CSPL_RECEIVED_CALLS                      0\n",
       "Name: 0, dtype: object"
      ]
     },
     "execution_count": 179,
     "metadata": {},
     "output_type": "execute_result"
    }
   ],
   "source": [
    "df_useful.loc[(ass=='CAT') & ('month'==3) & ('dayofweek'==0) & ('time_slot'==0)]"
   ]
  },
  {
   "cell_type": "code",
   "execution_count": 181,
   "metadata": {
    "collapsed": false,
    "scrolled": false
   },
   "outputs": [
    {
     "name": "stdout",
     "output_type": "stream",
     "text": [
      "CPU times: user 19.2 s, sys: 37.1 ms, total: 19.2 s\n",
      "Wall time: 19.3 s\n"
     ]
    }
   ],
   "source": [
    "%%time\n",
    "theta_init = np.zeros(d)\n",
    "for i, row in predict_table.iterrows():\n",
    "    idx = row_to_index(row)\n",
    "    rt = row[target]\n",
    "    if not rt==rt:\n",
    "        print(row)\n",
    "    theta_init[idx] = rt"
   ]
  },
  {
   "cell_type": "code",
   "execution_count": 185,
   "metadata": {
    "collapsed": true
   },
   "outputs": [],
   "source": [
    "import pickle\n",
    "with open('theta_init','wb') as f:\n",
    "    pickle.dump(theta_init,f)"
   ]
  },
  {
   "cell_type": "code",
   "execution_count": 199,
   "metadata": {
    "collapsed": false
   },
   "outputs": [
    {
     "data": {
      "text/plain": [
       "2.3315870784954765e+53"
      ]
     },
     "execution_count": 199,
     "metadata": {},
     "output_type": "execute_result"
    }
   ],
   "source": [
    "model.loss(np.zeros(d))"
   ]
  },
  {
   "cell_type": "code",
   "execution_count": 67,
   "metadata": {
    "collapsed": false
   },
   "outputs": [
    {
     "data": {
      "text/plain": [
       "1365"
      ]
     },
     "execution_count": 67,
     "metadata": {},
     "output_type": "execute_result"
    }
   ],
   "source": [
    "df_useful[target].max()"
   ]
  },
  {
   "cell_type": "code",
   "execution_count": null,
   "metadata": {
    "collapsed": true
   },
   "outputs": [],
   "source": []
  }
 ],
 "metadata": {
  "anaconda-cloud": {},
  "kernelspec": {
   "display_name": "Python [default]",
   "language": "python",
   "name": "python3"
  },
  "language_info": {
   "codemirror_mode": {
    "name": "ipython",
    "version": 3
   },
   "file_extension": ".py",
   "mimetype": "text/x-python",
   "name": "python",
   "nbconvert_exporter": "python",
   "pygments_lexer": "ipython3",
   "version": "3.5.2"
  }
 },
 "nbformat": 4,
 "nbformat_minor": 1
}

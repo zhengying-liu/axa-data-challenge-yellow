{
 "cells": [
  {
   "cell_type": "code",
   "execution_count": 1,
   "metadata": {
    "collapsed": true
   },
   "outputs": [],
   "source": [
    "import pandas as pd\n",
    "import matplotlib.pyplot as plt\n",
    "%matplotlib inline\n",
    "import numpy as np\n",
    "from scipy.stats import gaussian_kde\n",
    "\n",
    "from sklearn.model_selection import train_test_split"
   ]
  },
  {
   "cell_type": "markdown",
   "metadata": {},
   "source": [
    "# Constants"
   ]
  },
  {
   "cell_type": "code",
   "execution_count": 2,
   "metadata": {
    "collapsed": true
   },
   "outputs": [],
   "source": [
    "alpha = -0.1"
   ]
  },
  {
   "cell_type": "markdown",
   "metadata": {},
   "source": [
    "# Preprocessing"
   ]
  },
  {
   "cell_type": "code",
   "execution_count": 3,
   "metadata": {
    "collapsed": true
   },
   "outputs": [],
   "source": [
    "plt.rcParams[\"figure.figsize\"] = (15, 10)\n",
    "pd.options.display.max_columns = 100"
   ]
  },
  {
   "cell_type": "code",
   "execution_count": 20,
   "metadata": {
    "collapsed": false,
    "scrolled": true
   },
   "outputs": [
    {
     "name": "stdout",
     "output_type": "stream",
     "text": [
      "Wall time: 2min 6s\n"
     ]
    }
   ],
   "source": [
    "%%time\n",
    "df = pd.read_csv('data/train_2011_2012_2013.csv', sep=\";\", nrows=1e10)"
   ]
  },
  {
   "cell_type": "code",
   "execution_count": 21,
   "metadata": {
    "collapsed": false
   },
   "outputs": [
    {
     "data": {
      "text/html": [
       "<div>\n",
       "<table border=\"1\" class=\"dataframe\">\n",
       "  <thead>\n",
       "    <tr style=\"text-align: right;\">\n",
       "      <th></th>\n",
       "      <th>DATE</th>\n",
       "      <th>DAY_OFF</th>\n",
       "      <th>DAY_DS</th>\n",
       "      <th>WEEK_END</th>\n",
       "      <th>DAY_WE_DS</th>\n",
       "      <th>TPER_TEAM</th>\n",
       "      <th>TPER_HOUR</th>\n",
       "      <th>SPLIT_COD</th>\n",
       "      <th>ACD_COD</th>\n",
       "      <th>ACD_LIB</th>\n",
       "      <th>ASS_SOC_MERE</th>\n",
       "      <th>ASS_DIRECTORSHIP</th>\n",
       "      <th>ASS_ASSIGNMENT</th>\n",
       "      <th>ASS_PARTNER</th>\n",
       "      <th>ASS_POLE</th>\n",
       "      <th>ASS_BEGIN</th>\n",
       "      <th>ASS_END</th>\n",
       "      <th>ASS_COMENT</th>\n",
       "      <th>CSPL_I_STAFFTIME</th>\n",
       "      <th>CSPL_I_AVAILTIME</th>\n",
       "      <th>CSPL_I_ACDTIME</th>\n",
       "      <th>CSPL_I_ACWTIME</th>\n",
       "      <th>CSPL_I_ACWOUTTIME</th>\n",
       "      <th>CSPL_I_ACWINTIME</th>\n",
       "      <th>CSPL_I_AUXOUTTIME</th>\n",
       "      <th>CSPL_I_AUXINTIME</th>\n",
       "      <th>CSPL_I_OTHERTIME</th>\n",
       "      <th>CSPL_ACWINCALLS</th>\n",
       "      <th>CSPL_ACWINTIME</th>\n",
       "      <th>CSPL_AUXINCALLS</th>\n",
       "      <th>CSPL_AUXINTIME</th>\n",
       "      <th>CSPL_ACWOUTCALLS</th>\n",
       "      <th>CSPL_ACWOUTIME</th>\n",
       "      <th>CSPL_ACWOUTOFFCALLS</th>\n",
       "      <th>CSPL_ACWOUTOFFTIME</th>\n",
       "      <th>CSPL_AUXOUTCALLS</th>\n",
       "      <th>CSPL_AUXOUTTIME</th>\n",
       "      <th>CSPL_AUXOUTOFFCALLS</th>\n",
       "      <th>CSPL_AUXOUTOFFTIME</th>\n",
       "      <th>CSPL_INFLOWCALLS</th>\n",
       "      <th>CSPL_ACDCALLS</th>\n",
       "      <th>CSPL_ANSTIME</th>\n",
       "      <th>CSPL_HOLDCALLS</th>\n",
       "      <th>CSPL_HOLDTIME</th>\n",
       "      <th>CSPL_HOLDABNCALLS</th>\n",
       "      <th>CSPL_TRANSFERED</th>\n",
       "      <th>CSPL_CONFERENCE</th>\n",
       "      <th>CSPL_ABNCALLS</th>\n",
       "      <th>CSPL_ABNTIME</th>\n",
       "      <th>CSPL_ABNCALLS1</th>\n",
       "      <th>CSPL_ABNCALLS2</th>\n",
       "      <th>CSPL_ABNCALLS3</th>\n",
       "      <th>CSPL_ABNCALLS4</th>\n",
       "      <th>CSPL_ABNCALLS5</th>\n",
       "      <th>CSPL_ABNCALLS6</th>\n",
       "      <th>CSPL_ABNCALLS7</th>\n",
       "      <th>CSPL_ABNCALLS8</th>\n",
       "      <th>CSPL_ABNCALLS9</th>\n",
       "      <th>CSPL_ABNCALLS10</th>\n",
       "      <th>CSPL_OUTFLOWCALLS</th>\n",
       "      <th>CSPL_OUTFLOWTIME</th>\n",
       "      <th>CSPL_MAXINQUEUE</th>\n",
       "      <th>CSPL_CALLSOFFERED</th>\n",
       "      <th>CSPL_I_RINGTIME</th>\n",
       "      <th>CSPL_RINGTIME</th>\n",
       "      <th>CSPL_RINGCALLS</th>\n",
       "      <th>CSPL_NOANSREDIR</th>\n",
       "      <th>CSPL_MAXSTAFFED</th>\n",
       "      <th>CSPL_ACWOUTADJCALLS</th>\n",
       "      <th>CSPL_AUXOUTADJCALLS</th>\n",
       "      <th>CSPL_DEQUECALLS</th>\n",
       "      <th>CSPL_DEQUETIME</th>\n",
       "      <th>CSPL_DISCCALLS</th>\n",
       "      <th>CSPL_DISCTIME</th>\n",
       "      <th>CSPL_INTRVL</th>\n",
       "      <th>CSPL_INCOMPLETE</th>\n",
       "      <th>CSPL_ACCEPTABLE</th>\n",
       "      <th>CSPL_SERVICELEVEL</th>\n",
       "      <th>CSPL_ACDAUXOUTCALLS</th>\n",
       "      <th>CSPL_SLVLABNS</th>\n",
       "      <th>CSPL_SLVLOUTFLOWS</th>\n",
       "      <th>CSPL_RECEIVED_CALLS</th>\n",
       "      <th>CSPL_ABANDONNED_CALLS</th>\n",
       "      <th>CSPL_CALLS</th>\n",
       "      <th>CSPL_ACWTIME</th>\n",
       "      <th>CSPL_ACDTIME</th>\n",
       "    </tr>\n",
       "  </thead>\n",
       "  <tbody>\n",
       "    <tr>\n",
       "      <th>0</th>\n",
       "      <td>2011-04-24 01:30:00.000</td>\n",
       "      <td>0</td>\n",
       "      <td>NaN</td>\n",
       "      <td>1</td>\n",
       "      <td>Dimanche</td>\n",
       "      <td>Nuit</td>\n",
       "      <td>1</td>\n",
       "      <td>855</td>\n",
       "      <td>1</td>\n",
       "      <td>Entity1 G3RV6</td>\n",
       "      <td>Entity1 France</td>\n",
       "      <td>DSIG</td>\n",
       "      <td>Téléphonie</td>\n",
       "      <td>Téléphonie</td>\n",
       "      <td>SUPPORT</td>\n",
       "      <td>2001-01-01 00:00:00.000</td>\n",
       "      <td>9999-12-31 00:00:00.000</td>\n",
       "      <td>NaN</td>\n",
       "      <td>5400</td>\n",
       "      <td>4812</td>\n",
       "      <td>0</td>\n",
       "      <td>0</td>\n",
       "      <td>0</td>\n",
       "      <td>0</td>\n",
       "      <td>0</td>\n",
       "      <td>0</td>\n",
       "      <td>543</td>\n",
       "      <td>0</td>\n",
       "      <td>0</td>\n",
       "      <td>0</td>\n",
       "      <td>0</td>\n",
       "      <td>0</td>\n",
       "      <td>0</td>\n",
       "      <td>0</td>\n",
       "      <td>0</td>\n",
       "      <td>0</td>\n",
       "      <td>0</td>\n",
       "      <td>0</td>\n",
       "      <td>0</td>\n",
       "      <td>0</td>\n",
       "      <td>0</td>\n",
       "      <td>0</td>\n",
       "      <td>0</td>\n",
       "      <td>0</td>\n",
       "      <td>0</td>\n",
       "      <td>0</td>\n",
       "      <td>0</td>\n",
       "      <td>0</td>\n",
       "      <td>0</td>\n",
       "      <td>0</td>\n",
       "      <td>0</td>\n",
       "      <td>0</td>\n",
       "      <td>0</td>\n",
       "      <td>0</td>\n",
       "      <td>0</td>\n",
       "      <td>0</td>\n",
       "      <td>0</td>\n",
       "      <td>0</td>\n",
       "      <td>0</td>\n",
       "      <td>0</td>\n",
       "      <td>0</td>\n",
       "      <td>0</td>\n",
       "      <td>0</td>\n",
       "      <td>0</td>\n",
       "      <td>0</td>\n",
       "      <td>0</td>\n",
       "      <td>0</td>\n",
       "      <td>3</td>\n",
       "      <td>0</td>\n",
       "      <td>0</td>\n",
       "      <td>0</td>\n",
       "      <td>0</td>\n",
       "      <td>0</td>\n",
       "      <td>0</td>\n",
       "      <td>30</td>\n",
       "      <td>0</td>\n",
       "      <td>0</td>\n",
       "      <td>30</td>\n",
       "      <td>0</td>\n",
       "      <td>0</td>\n",
       "      <td>0</td>\n",
       "      <td>0</td>\n",
       "      <td>0</td>\n",
       "      <td>0</td>\n",
       "      <td>0</td>\n",
       "      <td>0</td>\n",
       "    </tr>\n",
       "    <tr>\n",
       "      <th>1</th>\n",
       "      <td>2011-04-24 01:30:00.000</td>\n",
       "      <td>0</td>\n",
       "      <td>NaN</td>\n",
       "      <td>1</td>\n",
       "      <td>Dimanche</td>\n",
       "      <td>Nuit</td>\n",
       "      <td>1</td>\n",
       "      <td>1587</td>\n",
       "      <td>1</td>\n",
       "      <td>Entity1 G3RV6</td>\n",
       "      <td>Entity1 France</td>\n",
       "      <td>DSIG</td>\n",
       "      <td>Téléphonie</td>\n",
       "      <td>Téléphonie</td>\n",
       "      <td>SUPPORT</td>\n",
       "      <td>2001-01-01 00:00:00.000</td>\n",
       "      <td>9999-12-31 00:00:00.000</td>\n",
       "      <td>NaN</td>\n",
       "      <td>12600</td>\n",
       "      <td>2632</td>\n",
       "      <td>0</td>\n",
       "      <td>0</td>\n",
       "      <td>0</td>\n",
       "      <td>0</td>\n",
       "      <td>0</td>\n",
       "      <td>0</td>\n",
       "      <td>498</td>\n",
       "      <td>0</td>\n",
       "      <td>0</td>\n",
       "      <td>0</td>\n",
       "      <td>0</td>\n",
       "      <td>0</td>\n",
       "      <td>0</td>\n",
       "      <td>0</td>\n",
       "      <td>0</td>\n",
       "      <td>0</td>\n",
       "      <td>0</td>\n",
       "      <td>0</td>\n",
       "      <td>0</td>\n",
       "      <td>0</td>\n",
       "      <td>0</td>\n",
       "      <td>0</td>\n",
       "      <td>0</td>\n",
       "      <td>0</td>\n",
       "      <td>0</td>\n",
       "      <td>0</td>\n",
       "      <td>0</td>\n",
       "      <td>0</td>\n",
       "      <td>0</td>\n",
       "      <td>0</td>\n",
       "      <td>0</td>\n",
       "      <td>0</td>\n",
       "      <td>0</td>\n",
       "      <td>0</td>\n",
       "      <td>0</td>\n",
       "      <td>0</td>\n",
       "      <td>0</td>\n",
       "      <td>0</td>\n",
       "      <td>0</td>\n",
       "      <td>0</td>\n",
       "      <td>0</td>\n",
       "      <td>0</td>\n",
       "      <td>0</td>\n",
       "      <td>0</td>\n",
       "      <td>0</td>\n",
       "      <td>0</td>\n",
       "      <td>0</td>\n",
       "      <td>7</td>\n",
       "      <td>0</td>\n",
       "      <td>0</td>\n",
       "      <td>0</td>\n",
       "      <td>0</td>\n",
       "      <td>0</td>\n",
       "      <td>0</td>\n",
       "      <td>30</td>\n",
       "      <td>0</td>\n",
       "      <td>0</td>\n",
       "      <td>15</td>\n",
       "      <td>0</td>\n",
       "      <td>0</td>\n",
       "      <td>0</td>\n",
       "      <td>0</td>\n",
       "      <td>0</td>\n",
       "      <td>0</td>\n",
       "      <td>0</td>\n",
       "      <td>0</td>\n",
       "    </tr>\n",
       "    <tr>\n",
       "      <th>2</th>\n",
       "      <td>2011-04-24 01:30:00.000</td>\n",
       "      <td>0</td>\n",
       "      <td>NaN</td>\n",
       "      <td>1</td>\n",
       "      <td>Dimanche</td>\n",
       "      <td>Nuit</td>\n",
       "      <td>1</td>\n",
       "      <td>1589</td>\n",
       "      <td>1</td>\n",
       "      <td>Entity1 G3RV6</td>\n",
       "      <td>Entity1 France</td>\n",
       "      <td>DSIG</td>\n",
       "      <td>Téléphonie</td>\n",
       "      <td>Téléphonie</td>\n",
       "      <td>SUPPORT</td>\n",
       "      <td>2001-01-01 00:00:00.000</td>\n",
       "      <td>9999-12-31 00:00:00.000</td>\n",
       "      <td>NaN</td>\n",
       "      <td>7200</td>\n",
       "      <td>2632</td>\n",
       "      <td>0</td>\n",
       "      <td>0</td>\n",
       "      <td>0</td>\n",
       "      <td>0</td>\n",
       "      <td>0</td>\n",
       "      <td>0</td>\n",
       "      <td>498</td>\n",
       "      <td>0</td>\n",
       "      <td>0</td>\n",
       "      <td>0</td>\n",
       "      <td>0</td>\n",
       "      <td>0</td>\n",
       "      <td>0</td>\n",
       "      <td>0</td>\n",
       "      <td>0</td>\n",
       "      <td>0</td>\n",
       "      <td>0</td>\n",
       "      <td>0</td>\n",
       "      <td>0</td>\n",
       "      <td>0</td>\n",
       "      <td>0</td>\n",
       "      <td>0</td>\n",
       "      <td>0</td>\n",
       "      <td>0</td>\n",
       "      <td>0</td>\n",
       "      <td>0</td>\n",
       "      <td>0</td>\n",
       "      <td>0</td>\n",
       "      <td>0</td>\n",
       "      <td>0</td>\n",
       "      <td>0</td>\n",
       "      <td>0</td>\n",
       "      <td>0</td>\n",
       "      <td>0</td>\n",
       "      <td>0</td>\n",
       "      <td>0</td>\n",
       "      <td>0</td>\n",
       "      <td>0</td>\n",
       "      <td>0</td>\n",
       "      <td>0</td>\n",
       "      <td>0</td>\n",
       "      <td>0</td>\n",
       "      <td>0</td>\n",
       "      <td>0</td>\n",
       "      <td>0</td>\n",
       "      <td>0</td>\n",
       "      <td>0</td>\n",
       "      <td>4</td>\n",
       "      <td>0</td>\n",
       "      <td>0</td>\n",
       "      <td>0</td>\n",
       "      <td>0</td>\n",
       "      <td>0</td>\n",
       "      <td>0</td>\n",
       "      <td>30</td>\n",
       "      <td>0</td>\n",
       "      <td>0</td>\n",
       "      <td>20</td>\n",
       "      <td>0</td>\n",
       "      <td>0</td>\n",
       "      <td>0</td>\n",
       "      <td>0</td>\n",
       "      <td>0</td>\n",
       "      <td>0</td>\n",
       "      <td>0</td>\n",
       "      <td>0</td>\n",
       "    </tr>\n",
       "    <tr>\n",
       "      <th>3</th>\n",
       "      <td>2011-04-24 01:30:00.000</td>\n",
       "      <td>0</td>\n",
       "      <td>NaN</td>\n",
       "      <td>1</td>\n",
       "      <td>Dimanche</td>\n",
       "      <td>Nuit</td>\n",
       "      <td>1</td>\n",
       "      <td>1591</td>\n",
       "      <td>1</td>\n",
       "      <td>Entity1 G3RV6</td>\n",
       "      <td>Entity1 France</td>\n",
       "      <td>DSIG</td>\n",
       "      <td>Téléphonie</td>\n",
       "      <td>Téléphonie</td>\n",
       "      <td>SUPPORT</td>\n",
       "      <td>2001-01-01 00:00:00.000</td>\n",
       "      <td>9999-12-31 00:00:00.000</td>\n",
       "      <td>NaN</td>\n",
       "      <td>10800</td>\n",
       "      <td>832</td>\n",
       "      <td>0</td>\n",
       "      <td>0</td>\n",
       "      <td>0</td>\n",
       "      <td>0</td>\n",
       "      <td>0</td>\n",
       "      <td>0</td>\n",
       "      <td>498</td>\n",
       "      <td>0</td>\n",
       "      <td>0</td>\n",
       "      <td>0</td>\n",
       "      <td>0</td>\n",
       "      <td>0</td>\n",
       "      <td>0</td>\n",
       "      <td>0</td>\n",
       "      <td>0</td>\n",
       "      <td>0</td>\n",
       "      <td>0</td>\n",
       "      <td>0</td>\n",
       "      <td>0</td>\n",
       "      <td>0</td>\n",
       "      <td>0</td>\n",
       "      <td>0</td>\n",
       "      <td>0</td>\n",
       "      <td>0</td>\n",
       "      <td>0</td>\n",
       "      <td>0</td>\n",
       "      <td>0</td>\n",
       "      <td>0</td>\n",
       "      <td>0</td>\n",
       "      <td>0</td>\n",
       "      <td>0</td>\n",
       "      <td>0</td>\n",
       "      <td>0</td>\n",
       "      <td>0</td>\n",
       "      <td>0</td>\n",
       "      <td>0</td>\n",
       "      <td>0</td>\n",
       "      <td>0</td>\n",
       "      <td>0</td>\n",
       "      <td>0</td>\n",
       "      <td>0</td>\n",
       "      <td>0</td>\n",
       "      <td>0</td>\n",
       "      <td>0</td>\n",
       "      <td>0</td>\n",
       "      <td>0</td>\n",
       "      <td>0</td>\n",
       "      <td>6</td>\n",
       "      <td>0</td>\n",
       "      <td>0</td>\n",
       "      <td>0</td>\n",
       "      <td>0</td>\n",
       "      <td>0</td>\n",
       "      <td>0</td>\n",
       "      <td>30</td>\n",
       "      <td>0</td>\n",
       "      <td>0</td>\n",
       "      <td>0</td>\n",
       "      <td>0</td>\n",
       "      <td>0</td>\n",
       "      <td>0</td>\n",
       "      <td>0</td>\n",
       "      <td>0</td>\n",
       "      <td>0</td>\n",
       "      <td>0</td>\n",
       "      <td>0</td>\n",
       "    </tr>\n",
       "    <tr>\n",
       "      <th>4</th>\n",
       "      <td>2011-04-24 01:30:00.000</td>\n",
       "      <td>0</td>\n",
       "      <td>NaN</td>\n",
       "      <td>1</td>\n",
       "      <td>Dimanche</td>\n",
       "      <td>Nuit</td>\n",
       "      <td>1</td>\n",
       "      <td>1555</td>\n",
       "      <td>1</td>\n",
       "      <td>Entity1 G3RV6</td>\n",
       "      <td>Entity1 France</td>\n",
       "      <td>DSIG</td>\n",
       "      <td>Téléphonie</td>\n",
       "      <td>Téléphonie</td>\n",
       "      <td>SUPPORT</td>\n",
       "      <td>2001-01-01 00:00:00.000</td>\n",
       "      <td>9999-12-31 00:00:00.000</td>\n",
       "      <td>NaN</td>\n",
       "      <td>12600</td>\n",
       "      <td>2632</td>\n",
       "      <td>488</td>\n",
       "      <td>0</td>\n",
       "      <td>0</td>\n",
       "      <td>0</td>\n",
       "      <td>0</td>\n",
       "      <td>0</td>\n",
       "      <td>0</td>\n",
       "      <td>0</td>\n",
       "      <td>0</td>\n",
       "      <td>0</td>\n",
       "      <td>0</td>\n",
       "      <td>0</td>\n",
       "      <td>0</td>\n",
       "      <td>0</td>\n",
       "      <td>0</td>\n",
       "      <td>0</td>\n",
       "      <td>0</td>\n",
       "      <td>0</td>\n",
       "      <td>0</td>\n",
       "      <td>0</td>\n",
       "      <td>1</td>\n",
       "      <td>10</td>\n",
       "      <td>0</td>\n",
       "      <td>0</td>\n",
       "      <td>0</td>\n",
       "      <td>0</td>\n",
       "      <td>0</td>\n",
       "      <td>0</td>\n",
       "      <td>0</td>\n",
       "      <td>0</td>\n",
       "      <td>0</td>\n",
       "      <td>0</td>\n",
       "      <td>0</td>\n",
       "      <td>0</td>\n",
       "      <td>0</td>\n",
       "      <td>0</td>\n",
       "      <td>0</td>\n",
       "      <td>0</td>\n",
       "      <td>0</td>\n",
       "      <td>0</td>\n",
       "      <td>0</td>\n",
       "      <td>1</td>\n",
       "      <td>1</td>\n",
       "      <td>10</td>\n",
       "      <td>10</td>\n",
       "      <td>1</td>\n",
       "      <td>0</td>\n",
       "      <td>7</td>\n",
       "      <td>0</td>\n",
       "      <td>0</td>\n",
       "      <td>0</td>\n",
       "      <td>0</td>\n",
       "      <td>0</td>\n",
       "      <td>0</td>\n",
       "      <td>30</td>\n",
       "      <td>0</td>\n",
       "      <td>1</td>\n",
       "      <td>15</td>\n",
       "      <td>0</td>\n",
       "      <td>0</td>\n",
       "      <td>0</td>\n",
       "      <td>1</td>\n",
       "      <td>0</td>\n",
       "      <td>1</td>\n",
       "      <td>0</td>\n",
       "      <td>488</td>\n",
       "    </tr>\n",
       "  </tbody>\n",
       "</table>\n",
       "</div>"
      ],
      "text/plain": [
       "                      DATE  DAY_OFF  DAY_DS  WEEK_END DAY_WE_DS TPER_TEAM  \\\n",
       "0  2011-04-24 01:30:00.000        0     NaN         1  Dimanche      Nuit   \n",
       "1  2011-04-24 01:30:00.000        0     NaN         1  Dimanche      Nuit   \n",
       "2  2011-04-24 01:30:00.000        0     NaN         1  Dimanche      Nuit   \n",
       "3  2011-04-24 01:30:00.000        0     NaN         1  Dimanche      Nuit   \n",
       "4  2011-04-24 01:30:00.000        0     NaN         1  Dimanche      Nuit   \n",
       "\n",
       "   TPER_HOUR  SPLIT_COD  ACD_COD        ACD_LIB    ASS_SOC_MERE  \\\n",
       "0          1        855        1  Entity1 G3RV6  Entity1 France   \n",
       "1          1       1587        1  Entity1 G3RV6  Entity1 France   \n",
       "2          1       1589        1  Entity1 G3RV6  Entity1 France   \n",
       "3          1       1591        1  Entity1 G3RV6  Entity1 France   \n",
       "4          1       1555        1  Entity1 G3RV6  Entity1 France   \n",
       "\n",
       "  ASS_DIRECTORSHIP ASS_ASSIGNMENT ASS_PARTNER ASS_POLE  \\\n",
       "0             DSIG     Téléphonie  Téléphonie  SUPPORT   \n",
       "1             DSIG     Téléphonie  Téléphonie  SUPPORT   \n",
       "2             DSIG     Téléphonie  Téléphonie  SUPPORT   \n",
       "3             DSIG     Téléphonie  Téléphonie  SUPPORT   \n",
       "4             DSIG     Téléphonie  Téléphonie  SUPPORT   \n",
       "\n",
       "                 ASS_BEGIN                  ASS_END ASS_COMENT  \\\n",
       "0  2001-01-01 00:00:00.000  9999-12-31 00:00:00.000        NaN   \n",
       "1  2001-01-01 00:00:00.000  9999-12-31 00:00:00.000        NaN   \n",
       "2  2001-01-01 00:00:00.000  9999-12-31 00:00:00.000        NaN   \n",
       "3  2001-01-01 00:00:00.000  9999-12-31 00:00:00.000        NaN   \n",
       "4  2001-01-01 00:00:00.000  9999-12-31 00:00:00.000        NaN   \n",
       "\n",
       "   CSPL_I_STAFFTIME  CSPL_I_AVAILTIME  CSPL_I_ACDTIME  CSPL_I_ACWTIME  \\\n",
       "0              5400              4812               0               0   \n",
       "1             12600              2632               0               0   \n",
       "2              7200              2632               0               0   \n",
       "3             10800               832               0               0   \n",
       "4             12600              2632             488               0   \n",
       "\n",
       "   CSPL_I_ACWOUTTIME  CSPL_I_ACWINTIME  CSPL_I_AUXOUTTIME  CSPL_I_AUXINTIME  \\\n",
       "0                  0                 0                  0                 0   \n",
       "1                  0                 0                  0                 0   \n",
       "2                  0                 0                  0                 0   \n",
       "3                  0                 0                  0                 0   \n",
       "4                  0                 0                  0                 0   \n",
       "\n",
       "   CSPL_I_OTHERTIME  CSPL_ACWINCALLS  CSPL_ACWINTIME  CSPL_AUXINCALLS  \\\n",
       "0               543                0               0                0   \n",
       "1               498                0               0                0   \n",
       "2               498                0               0                0   \n",
       "3               498                0               0                0   \n",
       "4                 0                0               0                0   \n",
       "\n",
       "   CSPL_AUXINTIME  CSPL_ACWOUTCALLS  CSPL_ACWOUTIME  CSPL_ACWOUTOFFCALLS  \\\n",
       "0               0                 0               0                    0   \n",
       "1               0                 0               0                    0   \n",
       "2               0                 0               0                    0   \n",
       "3               0                 0               0                    0   \n",
       "4               0                 0               0                    0   \n",
       "\n",
       "   CSPL_ACWOUTOFFTIME  CSPL_AUXOUTCALLS  CSPL_AUXOUTTIME  CSPL_AUXOUTOFFCALLS  \\\n",
       "0                   0                 0                0                    0   \n",
       "1                   0                 0                0                    0   \n",
       "2                   0                 0                0                    0   \n",
       "3                   0                 0                0                    0   \n",
       "4                   0                 0                0                    0   \n",
       "\n",
       "   CSPL_AUXOUTOFFTIME  CSPL_INFLOWCALLS  CSPL_ACDCALLS  CSPL_ANSTIME  \\\n",
       "0                   0                 0              0             0   \n",
       "1                   0                 0              0             0   \n",
       "2                   0                 0              0             0   \n",
       "3                   0                 0              0             0   \n",
       "4                   0                 0              1            10   \n",
       "\n",
       "   CSPL_HOLDCALLS  CSPL_HOLDTIME  CSPL_HOLDABNCALLS  CSPL_TRANSFERED  \\\n",
       "0               0              0                  0                0   \n",
       "1               0              0                  0                0   \n",
       "2               0              0                  0                0   \n",
       "3               0              0                  0                0   \n",
       "4               0              0                  0                0   \n",
       "\n",
       "   CSPL_CONFERENCE  CSPL_ABNCALLS  CSPL_ABNTIME  CSPL_ABNCALLS1  \\\n",
       "0                0              0             0               0   \n",
       "1                0              0             0               0   \n",
       "2                0              0             0               0   \n",
       "3                0              0             0               0   \n",
       "4                0              0             0               0   \n",
       "\n",
       "   CSPL_ABNCALLS2  CSPL_ABNCALLS3  CSPL_ABNCALLS4  CSPL_ABNCALLS5  \\\n",
       "0               0               0               0               0   \n",
       "1               0               0               0               0   \n",
       "2               0               0               0               0   \n",
       "3               0               0               0               0   \n",
       "4               0               0               0               0   \n",
       "\n",
       "   CSPL_ABNCALLS6  CSPL_ABNCALLS7  CSPL_ABNCALLS8  CSPL_ABNCALLS9  \\\n",
       "0               0               0               0               0   \n",
       "1               0               0               0               0   \n",
       "2               0               0               0               0   \n",
       "3               0               0               0               0   \n",
       "4               0               0               0               0   \n",
       "\n",
       "   CSPL_ABNCALLS10  CSPL_OUTFLOWCALLS  CSPL_OUTFLOWTIME  CSPL_MAXINQUEUE  \\\n",
       "0                0                  0                 0                0   \n",
       "1                0                  0                 0                0   \n",
       "2                0                  0                 0                0   \n",
       "3                0                  0                 0                0   \n",
       "4                0                  0                 0                1   \n",
       "\n",
       "   CSPL_CALLSOFFERED  CSPL_I_RINGTIME  CSPL_RINGTIME  CSPL_RINGCALLS  \\\n",
       "0                  0                0              0               0   \n",
       "1                  0                0              0               0   \n",
       "2                  0                0              0               0   \n",
       "3                  0                0              0               0   \n",
       "4                  1               10             10               1   \n",
       "\n",
       "   CSPL_NOANSREDIR  CSPL_MAXSTAFFED  CSPL_ACWOUTADJCALLS  CSPL_AUXOUTADJCALLS  \\\n",
       "0                0                3                    0                    0   \n",
       "1                0                7                    0                    0   \n",
       "2                0                4                    0                    0   \n",
       "3                0                6                    0                    0   \n",
       "4                0                7                    0                    0   \n",
       "\n",
       "   CSPL_DEQUECALLS  CSPL_DEQUETIME  CSPL_DISCCALLS  CSPL_DISCTIME  \\\n",
       "0                0               0               0              0   \n",
       "1                0               0               0              0   \n",
       "2                0               0               0              0   \n",
       "3                0               0               0              0   \n",
       "4                0               0               0              0   \n",
       "\n",
       "   CSPL_INTRVL  CSPL_INCOMPLETE  CSPL_ACCEPTABLE  CSPL_SERVICELEVEL  \\\n",
       "0           30                0                0                 30   \n",
       "1           30                0                0                 15   \n",
       "2           30                0                0                 20   \n",
       "3           30                0                0                  0   \n",
       "4           30                0                1                 15   \n",
       "\n",
       "   CSPL_ACDAUXOUTCALLS  CSPL_SLVLABNS  CSPL_SLVLOUTFLOWS  CSPL_RECEIVED_CALLS  \\\n",
       "0                    0              0                  0                    0   \n",
       "1                    0              0                  0                    0   \n",
       "2                    0              0                  0                    0   \n",
       "3                    0              0                  0                    0   \n",
       "4                    0              0                  0                    1   \n",
       "\n",
       "   CSPL_ABANDONNED_CALLS  CSPL_CALLS  CSPL_ACWTIME  CSPL_ACDTIME  \n",
       "0                      0           0             0             0  \n",
       "1                      0           0             0             0  \n",
       "2                      0           0             0             0  \n",
       "3                      0           0             0             0  \n",
       "4                      0           1             0           488  "
      ]
     },
     "execution_count": 21,
     "metadata": {},
     "output_type": "execute_result"
    }
   ],
   "source": [
    "df.head()"
   ]
  },
  {
   "cell_type": "code",
   "execution_count": 22,
   "metadata": {
    "collapsed": true
   },
   "outputs": [],
   "source": [
    "target = \"CSPL_RECEIVED_CALLS\""
   ]
  },
  {
   "cell_type": "markdown",
   "metadata": {},
   "source": [
    "### deleting all columns but very few"
   ]
  },
  {
   "cell_type": "code",
   "execution_count": 23,
   "metadata": {
    "collapsed": true
   },
   "outputs": [],
   "source": [
    "df = df[['DATE', target, 'ASS_ASSIGNMENT']]"
   ]
  },
  {
   "cell_type": "code",
   "execution_count": 24,
   "metadata": {
    "collapsed": false
   },
   "outputs": [
    {
     "data": {
      "text/html": [
       "<div>\n",
       "<table border=\"1\" class=\"dataframe\">\n",
       "  <thead>\n",
       "    <tr style=\"text-align: right;\">\n",
       "      <th></th>\n",
       "      <th>DATE</th>\n",
       "      <th>CSPL_RECEIVED_CALLS</th>\n",
       "      <th>ASS_ASSIGNMENT</th>\n",
       "    </tr>\n",
       "  </thead>\n",
       "  <tbody>\n",
       "    <tr>\n",
       "      <th>0</th>\n",
       "      <td>2011-04-24 01:30:00.000</td>\n",
       "      <td>0</td>\n",
       "      <td>Téléphonie</td>\n",
       "    </tr>\n",
       "    <tr>\n",
       "      <th>1</th>\n",
       "      <td>2011-04-24 01:30:00.000</td>\n",
       "      <td>0</td>\n",
       "      <td>Téléphonie</td>\n",
       "    </tr>\n",
       "    <tr>\n",
       "      <th>2</th>\n",
       "      <td>2011-04-24 01:30:00.000</td>\n",
       "      <td>0</td>\n",
       "      <td>Téléphonie</td>\n",
       "    </tr>\n",
       "    <tr>\n",
       "      <th>3</th>\n",
       "      <td>2011-04-24 01:30:00.000</td>\n",
       "      <td>0</td>\n",
       "      <td>Téléphonie</td>\n",
       "    </tr>\n",
       "    <tr>\n",
       "      <th>4</th>\n",
       "      <td>2011-04-24 01:30:00.000</td>\n",
       "      <td>1</td>\n",
       "      <td>Téléphonie</td>\n",
       "    </tr>\n",
       "  </tbody>\n",
       "</table>\n",
       "</div>"
      ],
      "text/plain": [
       "                      DATE  CSPL_RECEIVED_CALLS ASS_ASSIGNMENT\n",
       "0  2011-04-24 01:30:00.000                    0     Téléphonie\n",
       "1  2011-04-24 01:30:00.000                    0     Téléphonie\n",
       "2  2011-04-24 01:30:00.000                    0     Téléphonie\n",
       "3  2011-04-24 01:30:00.000                    0     Téléphonie\n",
       "4  2011-04-24 01:30:00.000                    1     Téléphonie"
      ]
     },
     "execution_count": 24,
     "metadata": {},
     "output_type": "execute_result"
    }
   ],
   "source": [
    "df.head()"
   ]
  },
  {
   "cell_type": "code",
   "execution_count": 50,
   "metadata": {
    "collapsed": false
   },
   "outputs": [
    {
     "data": {
      "text/plain": [
       "(10878470, 3)"
      ]
     },
     "execution_count": 50,
     "metadata": {},
     "output_type": "execute_result"
    }
   ],
   "source": [
    "df.shape"
   ]
  },
  {
   "cell_type": "code",
   "execution_count": 54,
   "metadata": {
    "collapsed": false
   },
   "outputs": [],
   "source": [
    "df = pd.DataFrame({target : df.groupby([\"DATE\", \"ASS_ASSIGNMENT\"])[target].sum()}).reset_index()"
   ]
  },
  {
   "cell_type": "code",
   "execution_count": 55,
   "metadata": {
    "collapsed": false
   },
   "outputs": [
    {
     "data": {
      "text/html": [
       "<div>\n",
       "<table border=\"1\" class=\"dataframe\">\n",
       "  <thead>\n",
       "    <tr style=\"text-align: right;\">\n",
       "      <th></th>\n",
       "      <th>DATE</th>\n",
       "      <th>ASS_ASSIGNMENT</th>\n",
       "      <th>CSPL_RECEIVED_CALLS</th>\n",
       "    </tr>\n",
       "  </thead>\n",
       "  <tbody>\n",
       "    <tr>\n",
       "      <th>0</th>\n",
       "      <td>2011-01-01 00:00:00.000</td>\n",
       "      <td>Crises</td>\n",
       "      <td>0</td>\n",
       "    </tr>\n",
       "    <tr>\n",
       "      <th>1</th>\n",
       "      <td>2011-01-01 00:00:00.000</td>\n",
       "      <td>Domicile</td>\n",
       "      <td>0</td>\n",
       "    </tr>\n",
       "    <tr>\n",
       "      <th>2</th>\n",
       "      <td>2011-01-01 00:00:00.000</td>\n",
       "      <td>Gestion</td>\n",
       "      <td>0</td>\n",
       "    </tr>\n",
       "    <tr>\n",
       "      <th>3</th>\n",
       "      <td>2011-01-01 00:00:00.000</td>\n",
       "      <td>Gestion - Accueil Telephonique</td>\n",
       "      <td>0</td>\n",
       "    </tr>\n",
       "    <tr>\n",
       "      <th>4</th>\n",
       "      <td>2011-01-01 00:00:00.000</td>\n",
       "      <td>Gestion Amex</td>\n",
       "      <td>0</td>\n",
       "    </tr>\n",
       "  </tbody>\n",
       "</table>\n",
       "</div>"
      ],
      "text/plain": [
       "                      DATE                  ASS_ASSIGNMENT  \\\n",
       "0  2011-01-01 00:00:00.000                          Crises   \n",
       "1  2011-01-01 00:00:00.000                        Domicile   \n",
       "2  2011-01-01 00:00:00.000                         Gestion   \n",
       "3  2011-01-01 00:00:00.000  Gestion - Accueil Telephonique   \n",
       "4  2011-01-01 00:00:00.000                    Gestion Amex   \n",
       "\n",
       "   CSPL_RECEIVED_CALLS  \n",
       "0                    0  \n",
       "1                    0  \n",
       "2                    0  \n",
       "3                    0  \n",
       "4                    0  "
      ]
     },
     "execution_count": 55,
     "metadata": {},
     "output_type": "execute_result"
    }
   ],
   "source": [
    "df.head()"
   ]
  },
  {
   "cell_type": "code",
   "execution_count": 61,
   "metadata": {
    "collapsed": true
   },
   "outputs": [],
   "source": [
    "df.DATE = pd.to_datetime(df.DATE)"
   ]
  },
  {
   "cell_type": "code",
   "execution_count": 62,
   "metadata": {
    "collapsed": true
   },
   "outputs": [],
   "source": [
    "import datetime"
   ]
  },
  {
   "cell_type": "markdown",
   "metadata": {},
   "source": [
    "get the time slot of the day (0 for 00:00, 1 for 00:30, ... 47 for 23:30)"
   ]
  },
  {
   "cell_type": "code",
   "execution_count": 63,
   "metadata": {
    "collapsed": true
   },
   "outputs": [],
   "source": [
    "def get_slot(timestamp):\n",
    "    assert timestamp.minute in [0, 30]\n",
    "    return 2 * timestamp.hour + (timestamp.minute == 30)"
   ]
  },
  {
   "cell_type": "code",
   "execution_count": 64,
   "metadata": {
    "collapsed": false
   },
   "outputs": [
    {
     "name": "stdout",
     "output_type": "stream",
     "text": [
      "Wall time: 3.12 s\n"
     ]
    }
   ],
   "source": [
    "%%time\n",
    "df['slot'] = df.DATE.apply(get_slot)"
   ]
  },
  {
   "cell_type": "code",
   "execution_count": 65,
   "metadata": {
    "collapsed": false
   },
   "outputs": [
    {
     "name": "stdout",
     "output_type": "stream",
     "text": [
      "Wall time: 3.16 s\n"
     ]
    }
   ],
   "source": [
    "%%time\n",
    "df['dayofweek'] = df.DATE.apply(lambda x: x.dayofweek)"
   ]
  },
  {
   "cell_type": "code",
   "execution_count": 66,
   "metadata": {
    "collapsed": false
   },
   "outputs": [
    {
     "name": "stdout",
     "output_type": "stream",
     "text": [
      "Wall time: 245 ms\n"
     ]
    }
   ],
   "source": [
    "%%time\n",
    "df['ass_hashed'] = df.ASS_ASSIGNMENT.apply(hash)"
   ]
  },
  {
   "cell_type": "code",
   "execution_count": 67,
   "metadata": {
    "collapsed": false
   },
   "outputs": [
    {
     "data": {
      "text/html": [
       "<div>\n",
       "<table border=\"1\" class=\"dataframe\">\n",
       "  <thead>\n",
       "    <tr style=\"text-align: right;\">\n",
       "      <th></th>\n",
       "      <th>DATE</th>\n",
       "      <th>ASS_ASSIGNMENT</th>\n",
       "      <th>CSPL_RECEIVED_CALLS</th>\n",
       "      <th>slot</th>\n",
       "      <th>dayofweek</th>\n",
       "      <th>ass_hashed</th>\n",
       "    </tr>\n",
       "  </thead>\n",
       "  <tbody>\n",
       "    <tr>\n",
       "      <th>0</th>\n",
       "      <td>2011-01-01</td>\n",
       "      <td>Crises</td>\n",
       "      <td>0</td>\n",
       "      <td>0</td>\n",
       "      <td>5</td>\n",
       "      <td>-272063095</td>\n",
       "    </tr>\n",
       "    <tr>\n",
       "      <th>1</th>\n",
       "      <td>2011-01-01</td>\n",
       "      <td>Domicile</td>\n",
       "      <td>0</td>\n",
       "      <td>0</td>\n",
       "      <td>5</td>\n",
       "      <td>-1965427828</td>\n",
       "    </tr>\n",
       "    <tr>\n",
       "      <th>2</th>\n",
       "      <td>2011-01-01</td>\n",
       "      <td>Gestion</td>\n",
       "      <td>0</td>\n",
       "      <td>0</td>\n",
       "      <td>5</td>\n",
       "      <td>822364246</td>\n",
       "    </tr>\n",
       "    <tr>\n",
       "      <th>3</th>\n",
       "      <td>2011-01-01</td>\n",
       "      <td>Gestion - Accueil Telephonique</td>\n",
       "      <td>0</td>\n",
       "      <td>0</td>\n",
       "      <td>5</td>\n",
       "      <td>2096569015</td>\n",
       "    </tr>\n",
       "    <tr>\n",
       "      <th>4</th>\n",
       "      <td>2011-01-01</td>\n",
       "      <td>Gestion Amex</td>\n",
       "      <td>0</td>\n",
       "      <td>0</td>\n",
       "      <td>5</td>\n",
       "      <td>481775818</td>\n",
       "    </tr>\n",
       "  </tbody>\n",
       "</table>\n",
       "</div>"
      ],
      "text/plain": [
       "        DATE                  ASS_ASSIGNMENT  CSPL_RECEIVED_CALLS  slot  \\\n",
       "0 2011-01-01                          Crises                    0     0   \n",
       "1 2011-01-01                        Domicile                    0     0   \n",
       "2 2011-01-01                         Gestion                    0     0   \n",
       "3 2011-01-01  Gestion - Accueil Telephonique                    0     0   \n",
       "4 2011-01-01                    Gestion Amex                    0     0   \n",
       "\n",
       "   dayofweek  ass_hashed  \n",
       "0          5  -272063095  \n",
       "1          5 -1965427828  \n",
       "2          5   822364246  \n",
       "3          5  2096569015  \n",
       "4          5   481775818  "
      ]
     },
     "execution_count": 67,
     "metadata": {},
     "output_type": "execute_result"
    }
   ],
   "source": [
    "df.head()"
   ]
  },
  {
   "cell_type": "code",
   "execution_count": 69,
   "metadata": {
    "collapsed": false
   },
   "outputs": [],
   "source": [
    "X_df = df[['ass_hashed', 'slot', 'dayofweek']]\n",
    "y_df = df[target]"
   ]
  },
  {
   "cell_type": "markdown",
   "metadata": {},
   "source": [
    "# Training"
   ]
  },
  {
   "cell_type": "code",
   "execution_count": 70,
   "metadata": {
    "collapsed": false
   },
   "outputs": [],
   "source": [
    "from sklearn.model_selection import ShuffleSplit\n",
    "\n",
    "skf = ShuffleSplit(n_splits=2, test_size=0.2, random_state=57)\n",
    "skf_is = list(skf.split(X_df))[0]\n",
    "train_is, test_is = skf_is\n",
    "\n",
    "X_train_df = X_df.iloc[train_is].copy()                                  \n",
    "y_train_df = y_df.iloc[train_is].copy()\n",
    "X_test_df = X_df.iloc[test_is].copy()                                    \n",
    "y_test_df = y_df.iloc[test_is].copy() "
   ]
  },
  {
   "cell_type": "code",
   "execution_count": 270,
   "metadata": {
    "collapsed": false
   },
   "outputs": [],
   "source": [
    "from sklearn.ensemble import RandomForestRegressor\n",
    "\n",
    "rf = RandomForestRegressor(max_leaf_nodes=100, n_estimators=10, n_jobs=-1, oob_score=True, random_state=42)"
   ]
  },
  {
   "cell_type": "code",
   "execution_count": 271,
   "metadata": {
    "collapsed": false
   },
   "outputs": [
    {
     "name": "stdout",
     "output_type": "stream",
     "text": [
      "Wall time: 3.4 s\n"
     ]
    },
    {
     "data": {
      "text/plain": [
       "RandomForestRegressor(bootstrap=True, criterion='mse', max_depth=None,\n",
       "           max_features='auto', max_leaf_nodes=100,\n",
       "           min_impurity_split=1e-07, min_samples_leaf=1,\n",
       "           min_samples_split=2, min_weight_fraction_leaf=0.0,\n",
       "           n_estimators=10, n_jobs=-1, oob_score=True, random_state=42,\n",
       "           verbose=0, warm_start=False)"
      ]
     },
     "execution_count": 271,
     "metadata": {},
     "output_type": "execute_result"
    }
   ],
   "source": [
    "%%time\n",
    "rf.fit(X_train_df, y_train_df)"
   ]
  },
  {
   "cell_type": "code",
   "execution_count": 272,
   "metadata": {
    "collapsed": false
   },
   "outputs": [],
   "source": [
    "y_pred_df = rf.predict(X_test_df)"
   ]
  },
  {
   "cell_type": "markdown",
   "metadata": {},
   "source": [
    "# Evaluation"
   ]
  },
  {
   "cell_type": "code",
   "execution_count": 273,
   "metadata": {
    "collapsed": true
   },
   "outputs": [],
   "source": [
    "def lin_ex_scalar(y, y_hat):\n",
    "    return np.exp(alpha * (y - y_hat)) - alpha * (y - y_hat) - 1"
   ]
  },
  {
   "cell_type": "code",
   "execution_count": 274,
   "metadata": {
    "collapsed": true
   },
   "outputs": [],
   "source": [
    "def lin_ex(y_df, y_est_df):\n",
    "    return lin_ex_scalar(y_df, y_est_df)"
   ]
  },
  {
   "cell_type": "code",
   "execution_count": 275,
   "metadata": {
    "collapsed": false
   },
   "outputs": [],
   "source": [
    "error = lin_ex(y_test_df, y_pred_df)"
   ]
  },
  {
   "cell_type": "code",
   "execution_count": 276,
   "metadata": {
    "collapsed": false
   },
   "outputs": [
    {
     "data": {
      "text/plain": [
       "45746014759529.04"
      ]
     },
     "execution_count": 276,
     "metadata": {},
     "output_type": "execute_result"
    }
   ],
   "source": [
    "error.sum()"
   ]
  },
  {
   "cell_type": "markdown",
   "metadata": {},
   "source": [
    "# Read submission data"
   ]
  },
  {
   "cell_type": "code",
   "execution_count": 277,
   "metadata": {
    "collapsed": true
   },
   "outputs": [],
   "source": [
    "sub = pd.read_csv('data/submission.txt', sep='\\t')"
   ]
  },
  {
   "cell_type": "code",
   "execution_count": 278,
   "metadata": {
    "collapsed": false
   },
   "outputs": [
    {
     "data": {
      "text/html": [
       "<div>\n",
       "<table border=\"1\" class=\"dataframe\">\n",
       "  <thead>\n",
       "    <tr style=\"text-align: right;\">\n",
       "      <th></th>\n",
       "      <th>DATE</th>\n",
       "      <th>ASS_ASSIGNMENT</th>\n",
       "      <th>prediction</th>\n",
       "    </tr>\n",
       "  </thead>\n",
       "  <tbody>\n",
       "    <tr>\n",
       "      <th>0</th>\n",
       "      <td>2012-12-28 00:00:00.000</td>\n",
       "      <td>CMS</td>\n",
       "      <td>0</td>\n",
       "    </tr>\n",
       "    <tr>\n",
       "      <th>1</th>\n",
       "      <td>2012-12-28 00:00:00.000</td>\n",
       "      <td>Crises</td>\n",
       "      <td>0</td>\n",
       "    </tr>\n",
       "    <tr>\n",
       "      <th>2</th>\n",
       "      <td>2012-12-28 00:00:00.000</td>\n",
       "      <td>Domicile</td>\n",
       "      <td>0</td>\n",
       "    </tr>\n",
       "    <tr>\n",
       "      <th>3</th>\n",
       "      <td>2012-12-28 00:00:00.000</td>\n",
       "      <td>Gestion</td>\n",
       "      <td>0</td>\n",
       "    </tr>\n",
       "    <tr>\n",
       "      <th>4</th>\n",
       "      <td>2012-12-28 00:00:00.000</td>\n",
       "      <td>Gestion - Accueil Telephonique</td>\n",
       "      <td>0</td>\n",
       "    </tr>\n",
       "  </tbody>\n",
       "</table>\n",
       "</div>"
      ],
      "text/plain": [
       "                      DATE                  ASS_ASSIGNMENT  prediction\n",
       "0  2012-12-28 00:00:00.000                             CMS           0\n",
       "1  2012-12-28 00:00:00.000                          Crises           0\n",
       "2  2012-12-28 00:00:00.000                        Domicile           0\n",
       "3  2012-12-28 00:00:00.000                         Gestion           0\n",
       "4  2012-12-28 00:00:00.000  Gestion - Accueil Telephonique           0"
      ]
     },
     "execution_count": 278,
     "metadata": {},
     "output_type": "execute_result"
    }
   ],
   "source": [
    "sub.head()"
   ]
  },
  {
   "cell_type": "code",
   "execution_count": 279,
   "metadata": {
    "collapsed": false
   },
   "outputs": [],
   "source": [
    "sub.DATE = pd.to_datetime(sub.DATE)"
   ]
  },
  {
   "cell_type": "code",
   "execution_count": 280,
   "metadata": {
    "collapsed": false
   },
   "outputs": [
    {
     "data": {
      "text/html": [
       "<div>\n",
       "<table border=\"1\" class=\"dataframe\">\n",
       "  <thead>\n",
       "    <tr style=\"text-align: right;\">\n",
       "      <th></th>\n",
       "      <th>DATE</th>\n",
       "      <th>ASS_ASSIGNMENT</th>\n",
       "      <th>prediction</th>\n",
       "    </tr>\n",
       "  </thead>\n",
       "  <tbody>\n",
       "    <tr>\n",
       "      <th>0</th>\n",
       "      <td>2012-12-28</td>\n",
       "      <td>CMS</td>\n",
       "      <td>0</td>\n",
       "    </tr>\n",
       "    <tr>\n",
       "      <th>1</th>\n",
       "      <td>2012-12-28</td>\n",
       "      <td>Crises</td>\n",
       "      <td>0</td>\n",
       "    </tr>\n",
       "    <tr>\n",
       "      <th>2</th>\n",
       "      <td>2012-12-28</td>\n",
       "      <td>Domicile</td>\n",
       "      <td>0</td>\n",
       "    </tr>\n",
       "    <tr>\n",
       "      <th>3</th>\n",
       "      <td>2012-12-28</td>\n",
       "      <td>Gestion</td>\n",
       "      <td>0</td>\n",
       "    </tr>\n",
       "    <tr>\n",
       "      <th>4</th>\n",
       "      <td>2012-12-28</td>\n",
       "      <td>Gestion - Accueil Telephonique</td>\n",
       "      <td>0</td>\n",
       "    </tr>\n",
       "  </tbody>\n",
       "</table>\n",
       "</div>"
      ],
      "text/plain": [
       "        DATE                  ASS_ASSIGNMENT  prediction\n",
       "0 2012-12-28                             CMS           0\n",
       "1 2012-12-28                          Crises           0\n",
       "2 2012-12-28                        Domicile           0\n",
       "3 2012-12-28                         Gestion           0\n",
       "4 2012-12-28  Gestion - Accueil Telephonique           0"
      ]
     },
     "execution_count": 280,
     "metadata": {},
     "output_type": "execute_result"
    }
   ],
   "source": [
    "sub.head()"
   ]
  },
  {
   "cell_type": "code",
   "execution_count": 281,
   "metadata": {
    "collapsed": false
   },
   "outputs": [
    {
     "data": {
      "text/plain": [
       "DatetimeIndex([], dtype='datetime64[ns]', name=u'DATE', freq=None)"
      ]
     },
     "execution_count": 281,
     "metadata": {},
     "output_type": "execute_result"
    }
   ],
   "source": [
    "# there are no training data for the submission dates!\n",
    "sub_ix = sub.set_index('DATE').index\n",
    "df_ix = df.set_index(\"DATE\").index\n",
    "df_ix.intersection(sub_ix)"
   ]
  },
  {
   "cell_type": "code",
   "execution_count": 282,
   "metadata": {
    "collapsed": false
   },
   "outputs": [
    {
     "data": {
      "text/plain": [
       "(82909, 3)"
      ]
     },
     "execution_count": 282,
     "metadata": {},
     "output_type": "execute_result"
    }
   ],
   "source": [
    "sub.shape"
   ]
  },
  {
   "cell_type": "code",
   "execution_count": 283,
   "metadata": {
    "collapsed": true
   },
   "outputs": [],
   "source": [
    "sub['dayofweek'] = sub.DATE.apply(lambda x: x.dayofweek)\n",
    "sub['slot'] = sub.DATE.apply(get_slot)"
   ]
  },
  {
   "cell_type": "code",
   "execution_count": 284,
   "metadata": {
    "collapsed": true
   },
   "outputs": [],
   "source": [
    "sub['ass_hashed'] = sub.ASS_ASSIGNMENT.apply(hash)"
   ]
  },
  {
   "cell_type": "code",
   "execution_count": 285,
   "metadata": {
    "collapsed": false
   },
   "outputs": [
    {
     "data": {
      "text/html": [
       "<div>\n",
       "<table border=\"1\" class=\"dataframe\">\n",
       "  <thead>\n",
       "    <tr style=\"text-align: right;\">\n",
       "      <th></th>\n",
       "      <th>DATE</th>\n",
       "      <th>ASS_ASSIGNMENT</th>\n",
       "      <th>prediction</th>\n",
       "      <th>dayofweek</th>\n",
       "      <th>slot</th>\n",
       "      <th>ass_hashed</th>\n",
       "    </tr>\n",
       "  </thead>\n",
       "  <tbody>\n",
       "    <tr>\n",
       "      <th>0</th>\n",
       "      <td>2012-12-28</td>\n",
       "      <td>CMS</td>\n",
       "      <td>0</td>\n",
       "      <td>4</td>\n",
       "      <td>0</td>\n",
       "      <td>-1466160996</td>\n",
       "    </tr>\n",
       "    <tr>\n",
       "      <th>1</th>\n",
       "      <td>2012-12-28</td>\n",
       "      <td>Crises</td>\n",
       "      <td>0</td>\n",
       "      <td>4</td>\n",
       "      <td>0</td>\n",
       "      <td>-272063095</td>\n",
       "    </tr>\n",
       "    <tr>\n",
       "      <th>2</th>\n",
       "      <td>2012-12-28</td>\n",
       "      <td>Domicile</td>\n",
       "      <td>0</td>\n",
       "      <td>4</td>\n",
       "      <td>0</td>\n",
       "      <td>-1965427828</td>\n",
       "    </tr>\n",
       "    <tr>\n",
       "      <th>3</th>\n",
       "      <td>2012-12-28</td>\n",
       "      <td>Gestion</td>\n",
       "      <td>0</td>\n",
       "      <td>4</td>\n",
       "      <td>0</td>\n",
       "      <td>822364246</td>\n",
       "    </tr>\n",
       "    <tr>\n",
       "      <th>4</th>\n",
       "      <td>2012-12-28</td>\n",
       "      <td>Gestion - Accueil Telephonique</td>\n",
       "      <td>0</td>\n",
       "      <td>4</td>\n",
       "      <td>0</td>\n",
       "      <td>2096569015</td>\n",
       "    </tr>\n",
       "  </tbody>\n",
       "</table>\n",
       "</div>"
      ],
      "text/plain": [
       "        DATE                  ASS_ASSIGNMENT  prediction  dayofweek  slot  \\\n",
       "0 2012-12-28                             CMS           0          4     0   \n",
       "1 2012-12-28                          Crises           0          4     0   \n",
       "2 2012-12-28                        Domicile           0          4     0   \n",
       "3 2012-12-28                         Gestion           0          4     0   \n",
       "4 2012-12-28  Gestion - Accueil Telephonique           0          4     0   \n",
       "\n",
       "   ass_hashed  \n",
       "0 -1466160996  \n",
       "1  -272063095  \n",
       "2 -1965427828  \n",
       "3   822364246  \n",
       "4  2096569015  "
      ]
     },
     "execution_count": 285,
     "metadata": {},
     "output_type": "execute_result"
    }
   ],
   "source": [
    "sub.head()"
   ]
  },
  {
   "cell_type": "code",
   "execution_count": 286,
   "metadata": {
    "collapsed": false
   },
   "outputs": [],
   "source": [
    "X_sub = sub[['ass_hashed', 'slot', 'dayofweek']]"
   ]
  },
  {
   "cell_type": "code",
   "execution_count": 287,
   "metadata": {
    "collapsed": false
   },
   "outputs": [],
   "source": [
    "sub['prediction'] = rf.predict(X_sub)"
   ]
  },
  {
   "cell_type": "code",
   "execution_count": 288,
   "metadata": {
    "collapsed": false
   },
   "outputs": [
    {
     "data": {
      "text/html": [
       "<div>\n",
       "<table border=\"1\" class=\"dataframe\">\n",
       "  <thead>\n",
       "    <tr style=\"text-align: right;\">\n",
       "      <th></th>\n",
       "      <th>DATE</th>\n",
       "      <th>ASS_ASSIGNMENT</th>\n",
       "      <th>prediction</th>\n",
       "      <th>dayofweek</th>\n",
       "      <th>slot</th>\n",
       "      <th>ass_hashed</th>\n",
       "    </tr>\n",
       "  </thead>\n",
       "  <tbody>\n",
       "    <tr>\n",
       "      <th>0</th>\n",
       "      <td>2012-12-28</td>\n",
       "      <td>CMS</td>\n",
       "      <td>0.123211</td>\n",
       "      <td>4</td>\n",
       "      <td>0</td>\n",
       "      <td>-1466160996</td>\n",
       "    </tr>\n",
       "    <tr>\n",
       "      <th>1</th>\n",
       "      <td>2012-12-28</td>\n",
       "      <td>Crises</td>\n",
       "      <td>1.562959</td>\n",
       "      <td>4</td>\n",
       "      <td>0</td>\n",
       "      <td>-272063095</td>\n",
       "    </tr>\n",
       "    <tr>\n",
       "      <th>2</th>\n",
       "      <td>2012-12-28</td>\n",
       "      <td>Domicile</td>\n",
       "      <td>0.260716</td>\n",
       "      <td>4</td>\n",
       "      <td>0</td>\n",
       "      <td>-1965427828</td>\n",
       "    </tr>\n",
       "    <tr>\n",
       "      <th>3</th>\n",
       "      <td>2012-12-28</td>\n",
       "      <td>Gestion</td>\n",
       "      <td>0.178383</td>\n",
       "      <td>4</td>\n",
       "      <td>0</td>\n",
       "      <td>822364246</td>\n",
       "    </tr>\n",
       "    <tr>\n",
       "      <th>4</th>\n",
       "      <td>2012-12-28</td>\n",
       "      <td>Gestion - Accueil Telephonique</td>\n",
       "      <td>0.178383</td>\n",
       "      <td>4</td>\n",
       "      <td>0</td>\n",
       "      <td>2096569015</td>\n",
       "    </tr>\n",
       "  </tbody>\n",
       "</table>\n",
       "</div>"
      ],
      "text/plain": [
       "        DATE                  ASS_ASSIGNMENT  prediction  dayofweek  slot  \\\n",
       "0 2012-12-28                             CMS    0.123211          4     0   \n",
       "1 2012-12-28                          Crises    1.562959          4     0   \n",
       "2 2012-12-28                        Domicile    0.260716          4     0   \n",
       "3 2012-12-28                         Gestion    0.178383          4     0   \n",
       "4 2012-12-28  Gestion - Accueil Telephonique    0.178383          4     0   \n",
       "\n",
       "   ass_hashed  \n",
       "0 -1466160996  \n",
       "1  -272063095  \n",
       "2 -1965427828  \n",
       "3   822364246  \n",
       "4  2096569015  "
      ]
     },
     "execution_count": 288,
     "metadata": {},
     "output_type": "execute_result"
    }
   ],
   "source": [
    "sub.head()"
   ]
  },
  {
   "cell_type": "code",
   "execution_count": 289,
   "metadata": {
    "collapsed": false
   },
   "outputs": [
    {
     "data": {
      "text/plain": [
       "count    82909.000000\n",
       "mean        10.205839\n",
       "std         29.707240\n",
       "min          0.002342\n",
       "25%          0.260716\n",
       "50%          0.724023\n",
       "75%          4.163307\n",
       "max        301.943487\n",
       "Name: prediction, dtype: float64"
      ]
     },
     "execution_count": 289,
     "metadata": {},
     "output_type": "execute_result"
    }
   ],
   "source": [
    "sub.prediction.describe()"
   ]
  },
  {
   "cell_type": "code",
   "execution_count": 290,
   "metadata": {
    "collapsed": true
   },
   "outputs": [],
   "source": [
    "real_sub = sub.iloc[:, :3]"
   ]
  },
  {
   "cell_type": "code",
   "execution_count": 291,
   "metadata": {
    "collapsed": false,
    "scrolled": true
   },
   "outputs": [
    {
     "data": {
      "text/html": [
       "<div>\n",
       "<table border=\"1\" class=\"dataframe\">\n",
       "  <thead>\n",
       "    <tr style=\"text-align: right;\">\n",
       "      <th></th>\n",
       "      <th>DATE</th>\n",
       "      <th>ASS_ASSIGNMENT</th>\n",
       "      <th>prediction</th>\n",
       "    </tr>\n",
       "  </thead>\n",
       "  <tbody>\n",
       "    <tr>\n",
       "      <th>0</th>\n",
       "      <td>2012-12-28</td>\n",
       "      <td>CMS</td>\n",
       "      <td>0.123211</td>\n",
       "    </tr>\n",
       "    <tr>\n",
       "      <th>1</th>\n",
       "      <td>2012-12-28</td>\n",
       "      <td>Crises</td>\n",
       "      <td>1.562959</td>\n",
       "    </tr>\n",
       "    <tr>\n",
       "      <th>2</th>\n",
       "      <td>2012-12-28</td>\n",
       "      <td>Domicile</td>\n",
       "      <td>0.260716</td>\n",
       "    </tr>\n",
       "    <tr>\n",
       "      <th>3</th>\n",
       "      <td>2012-12-28</td>\n",
       "      <td>Gestion</td>\n",
       "      <td>0.178383</td>\n",
       "    </tr>\n",
       "    <tr>\n",
       "      <th>4</th>\n",
       "      <td>2012-12-28</td>\n",
       "      <td>Gestion - Accueil Telephonique</td>\n",
       "      <td>0.178383</td>\n",
       "    </tr>\n",
       "  </tbody>\n",
       "</table>\n",
       "</div>"
      ],
      "text/plain": [
       "        DATE                  ASS_ASSIGNMENT  prediction\n",
       "0 2012-12-28                             CMS    0.123211\n",
       "1 2012-12-28                          Crises    1.562959\n",
       "2 2012-12-28                        Domicile    0.260716\n",
       "3 2012-12-28                         Gestion    0.178383\n",
       "4 2012-12-28  Gestion - Accueil Telephonique    0.178383"
      ]
     },
     "execution_count": 291,
     "metadata": {},
     "output_type": "execute_result"
    }
   ],
   "source": [
    "real_sub.head()"
   ]
  },
  {
   "cell_type": "code",
   "execution_count": 292,
   "metadata": {
    "collapsed": false
   },
   "outputs": [],
   "source": [
    "real_sub.DATE = real_sub.DATE.astype(str) + \".000\""
   ]
  },
  {
   "cell_type": "code",
   "execution_count": 293,
   "metadata": {
    "collapsed": true
   },
   "outputs": [],
   "source": [
    "real_sub.to_csv('data/sub_chiaman_3.txt', sep='\\t', index=None)"
   ]
  },
  {
   "cell_type": "code",
   "execution_count": null,
   "metadata": {
    "collapsed": true
   },
   "outputs": [],
   "source": []
  }
 ],
 "metadata": {
  "anaconda-cloud": {},
  "kernelspec": {
   "display_name": "Python [conda root]",
   "language": "python",
   "name": "conda-root-py"
  },
  "language_info": {
   "codemirror_mode": {
    "name": "ipython",
    "version": 2
   },
   "file_extension": ".py",
   "mimetype": "text/x-python",
   "name": "python",
   "nbconvert_exporter": "python",
   "pygments_lexer": "ipython2",
   "version": "2.7.12"
  }
 },
 "nbformat": 4,
 "nbformat_minor": 0
}

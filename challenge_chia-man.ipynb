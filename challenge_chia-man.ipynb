{
 "cells": [
  {
   "cell_type": "code",
   "execution_count": 1,
   "metadata": {
    "collapsed": true
   },
   "outputs": [],
   "source": [
    "import pandas as pd\n",
    "import matplotlib.pyplot as plt\n",
    "%matplotlib inline\n",
    "import numpy as np\n",
    "from scipy.stats import gaussian_kde\n",
    "\n",
    "from sklearn.model_selection import train_test_split"
   ]
  },
  {
   "cell_type": "markdown",
   "metadata": {},
   "source": [
    "# Constants"
   ]
  },
  {
   "cell_type": "code",
   "execution_count": 2,
   "metadata": {
    "collapsed": true
   },
   "outputs": [],
   "source": [
    "alpha = 1.0"
   ]
  },
  {
   "cell_type": "markdown",
   "metadata": {},
   "source": [
    "# Preprocessing"
   ]
  },
  {
   "cell_type": "code",
   "execution_count": 3,
   "metadata": {
    "collapsed": true
   },
   "outputs": [],
   "source": [
    "plt.rcParams[\"figure.figsize\"] = (15, 10)\n",
    "pd.options.display.max_columns = 100"
   ]
  },
  {
   "cell_type": "code",
   "execution_count": 4,
   "metadata": {
    "collapsed": false,
    "scrolled": true
   },
   "outputs": [
    {
     "name": "stderr",
     "output_type": "stream",
     "text": [
      "<string>:2: DtypeWarning: Columns (17) have mixed types. Specify dtype option on import or set low_memory=False.\n"
     ]
    },
    {
     "name": "stdout",
     "output_type": "stream",
     "text": [
      "Wall time: 1min 42s\n"
     ]
    }
   ],
   "source": [
    "%%time\n",
    "df = pd.read_csv('data/train_2011_2012_2013.csv', sep=\";\", nrows=1e10)"
   ]
  },
  {
   "cell_type": "code",
   "execution_count": 6,
   "metadata": {
    "collapsed": false
   },
   "outputs": [
    {
     "data": {
      "text/html": [
       "<div>\n",
       "<table border=\"1\" class=\"dataframe\">\n",
       "  <thead>\n",
       "    <tr style=\"text-align: right;\">\n",
       "      <th></th>\n",
       "      <th>DATE</th>\n",
       "      <th>DAY_OFF</th>\n",
       "      <th>DAY_DS</th>\n",
       "      <th>WEEK_END</th>\n",
       "      <th>DAY_WE_DS</th>\n",
       "      <th>TPER_TEAM</th>\n",
       "      <th>TPER_HOUR</th>\n",
       "      <th>SPLIT_COD</th>\n",
       "      <th>ACD_COD</th>\n",
       "      <th>ACD_LIB</th>\n",
       "      <th>ASS_SOC_MERE</th>\n",
       "      <th>ASS_DIRECTORSHIP</th>\n",
       "      <th>ASS_ASSIGNMENT</th>\n",
       "      <th>ASS_PARTNER</th>\n",
       "      <th>ASS_POLE</th>\n",
       "      <th>ASS_BEGIN</th>\n",
       "      <th>ASS_END</th>\n",
       "      <th>ASS_COMENT</th>\n",
       "      <th>CSPL_I_STAFFTIME</th>\n",
       "      <th>CSPL_I_AVAILTIME</th>\n",
       "      <th>CSPL_I_ACDTIME</th>\n",
       "      <th>CSPL_I_ACWTIME</th>\n",
       "      <th>CSPL_I_ACWOUTTIME</th>\n",
       "      <th>CSPL_I_ACWINTIME</th>\n",
       "      <th>CSPL_I_AUXOUTTIME</th>\n",
       "      <th>CSPL_I_AUXINTIME</th>\n",
       "      <th>CSPL_I_OTHERTIME</th>\n",
       "      <th>CSPL_ACWINCALLS</th>\n",
       "      <th>CSPL_ACWINTIME</th>\n",
       "      <th>CSPL_AUXINCALLS</th>\n",
       "      <th>CSPL_AUXINTIME</th>\n",
       "      <th>CSPL_ACWOUTCALLS</th>\n",
       "      <th>CSPL_ACWOUTIME</th>\n",
       "      <th>CSPL_ACWOUTOFFCALLS</th>\n",
       "      <th>CSPL_ACWOUTOFFTIME</th>\n",
       "      <th>CSPL_AUXOUTCALLS</th>\n",
       "      <th>CSPL_AUXOUTTIME</th>\n",
       "      <th>CSPL_AUXOUTOFFCALLS</th>\n",
       "      <th>CSPL_AUXOUTOFFTIME</th>\n",
       "      <th>CSPL_INFLOWCALLS</th>\n",
       "      <th>CSPL_ACDCALLS</th>\n",
       "      <th>CSPL_ANSTIME</th>\n",
       "      <th>CSPL_HOLDCALLS</th>\n",
       "      <th>CSPL_HOLDTIME</th>\n",
       "      <th>CSPL_HOLDABNCALLS</th>\n",
       "      <th>CSPL_TRANSFERED</th>\n",
       "      <th>CSPL_CONFERENCE</th>\n",
       "      <th>CSPL_ABNCALLS</th>\n",
       "      <th>CSPL_ABNTIME</th>\n",
       "      <th>CSPL_ABNCALLS1</th>\n",
       "      <th>CSPL_ABNCALLS2</th>\n",
       "      <th>CSPL_ABNCALLS3</th>\n",
       "      <th>CSPL_ABNCALLS4</th>\n",
       "      <th>CSPL_ABNCALLS5</th>\n",
       "      <th>CSPL_ABNCALLS6</th>\n",
       "      <th>CSPL_ABNCALLS7</th>\n",
       "      <th>CSPL_ABNCALLS8</th>\n",
       "      <th>CSPL_ABNCALLS9</th>\n",
       "      <th>CSPL_ABNCALLS10</th>\n",
       "      <th>CSPL_OUTFLOWCALLS</th>\n",
       "      <th>CSPL_OUTFLOWTIME</th>\n",
       "      <th>CSPL_MAXINQUEUE</th>\n",
       "      <th>CSPL_CALLSOFFERED</th>\n",
       "      <th>CSPL_I_RINGTIME</th>\n",
       "      <th>CSPL_RINGTIME</th>\n",
       "      <th>CSPL_RINGCALLS</th>\n",
       "      <th>CSPL_NOANSREDIR</th>\n",
       "      <th>CSPL_MAXSTAFFED</th>\n",
       "      <th>CSPL_ACWOUTADJCALLS</th>\n",
       "      <th>CSPL_AUXOUTADJCALLS</th>\n",
       "      <th>CSPL_DEQUECALLS</th>\n",
       "      <th>CSPL_DEQUETIME</th>\n",
       "      <th>CSPL_DISCCALLS</th>\n",
       "      <th>CSPL_DISCTIME</th>\n",
       "      <th>CSPL_INTRVL</th>\n",
       "      <th>CSPL_INCOMPLETE</th>\n",
       "      <th>CSPL_ACCEPTABLE</th>\n",
       "      <th>CSPL_SERVICELEVEL</th>\n",
       "      <th>CSPL_ACDAUXOUTCALLS</th>\n",
       "      <th>CSPL_SLVLABNS</th>\n",
       "      <th>CSPL_SLVLOUTFLOWS</th>\n",
       "      <th>CSPL_RECEIVED_CALLS</th>\n",
       "      <th>CSPL_ABANDONNED_CALLS</th>\n",
       "      <th>CSPL_CALLS</th>\n",
       "      <th>CSPL_ACWTIME</th>\n",
       "      <th>CSPL_ACDTIME</th>\n",
       "    </tr>\n",
       "  </thead>\n",
       "  <tbody>\n",
       "    <tr>\n",
       "      <th>0</th>\n",
       "      <td>2011-04-24 01:30:00.000</td>\n",
       "      <td>0</td>\n",
       "      <td>NaN</td>\n",
       "      <td>1</td>\n",
       "      <td>Dimanche</td>\n",
       "      <td>Nuit</td>\n",
       "      <td>1</td>\n",
       "      <td>855</td>\n",
       "      <td>1</td>\n",
       "      <td>Entity1 G3RV6</td>\n",
       "      <td>Entity1 France</td>\n",
       "      <td>DSIG</td>\n",
       "      <td>Téléphonie</td>\n",
       "      <td>Téléphonie</td>\n",
       "      <td>SUPPORT</td>\n",
       "      <td>2001-01-01 00:00:00.000</td>\n",
       "      <td>9999-12-31 00:00:00.000</td>\n",
       "      <td>NaN</td>\n",
       "      <td>5400</td>\n",
       "      <td>4812</td>\n",
       "      <td>0</td>\n",
       "      <td>0</td>\n",
       "      <td>0</td>\n",
       "      <td>0</td>\n",
       "      <td>0</td>\n",
       "      <td>0</td>\n",
       "      <td>543</td>\n",
       "      <td>0</td>\n",
       "      <td>0</td>\n",
       "      <td>0</td>\n",
       "      <td>0</td>\n",
       "      <td>0</td>\n",
       "      <td>0</td>\n",
       "      <td>0</td>\n",
       "      <td>0</td>\n",
       "      <td>0</td>\n",
       "      <td>0</td>\n",
       "      <td>0</td>\n",
       "      <td>0</td>\n",
       "      <td>0</td>\n",
       "      <td>0</td>\n",
       "      <td>0</td>\n",
       "      <td>0</td>\n",
       "      <td>0</td>\n",
       "      <td>0</td>\n",
       "      <td>0</td>\n",
       "      <td>0</td>\n",
       "      <td>0</td>\n",
       "      <td>0</td>\n",
       "      <td>0</td>\n",
       "      <td>0</td>\n",
       "      <td>0</td>\n",
       "      <td>0</td>\n",
       "      <td>0</td>\n",
       "      <td>0</td>\n",
       "      <td>0</td>\n",
       "      <td>0</td>\n",
       "      <td>0</td>\n",
       "      <td>0</td>\n",
       "      <td>0</td>\n",
       "      <td>0</td>\n",
       "      <td>0</td>\n",
       "      <td>0</td>\n",
       "      <td>0</td>\n",
       "      <td>0</td>\n",
       "      <td>0</td>\n",
       "      <td>0</td>\n",
       "      <td>3</td>\n",
       "      <td>0</td>\n",
       "      <td>0</td>\n",
       "      <td>0</td>\n",
       "      <td>0</td>\n",
       "      <td>0</td>\n",
       "      <td>0</td>\n",
       "      <td>30</td>\n",
       "      <td>0</td>\n",
       "      <td>0</td>\n",
       "      <td>30</td>\n",
       "      <td>0</td>\n",
       "      <td>0</td>\n",
       "      <td>0</td>\n",
       "      <td>0</td>\n",
       "      <td>0</td>\n",
       "      <td>0</td>\n",
       "      <td>0</td>\n",
       "      <td>0</td>\n",
       "    </tr>\n",
       "    <tr>\n",
       "      <th>1</th>\n",
       "      <td>2011-04-24 01:30:00.000</td>\n",
       "      <td>0</td>\n",
       "      <td>NaN</td>\n",
       "      <td>1</td>\n",
       "      <td>Dimanche</td>\n",
       "      <td>Nuit</td>\n",
       "      <td>1</td>\n",
       "      <td>1587</td>\n",
       "      <td>1</td>\n",
       "      <td>Entity1 G3RV6</td>\n",
       "      <td>Entity1 France</td>\n",
       "      <td>DSIG</td>\n",
       "      <td>Téléphonie</td>\n",
       "      <td>Téléphonie</td>\n",
       "      <td>SUPPORT</td>\n",
       "      <td>2001-01-01 00:00:00.000</td>\n",
       "      <td>9999-12-31 00:00:00.000</td>\n",
       "      <td>NaN</td>\n",
       "      <td>12600</td>\n",
       "      <td>2632</td>\n",
       "      <td>0</td>\n",
       "      <td>0</td>\n",
       "      <td>0</td>\n",
       "      <td>0</td>\n",
       "      <td>0</td>\n",
       "      <td>0</td>\n",
       "      <td>498</td>\n",
       "      <td>0</td>\n",
       "      <td>0</td>\n",
       "      <td>0</td>\n",
       "      <td>0</td>\n",
       "      <td>0</td>\n",
       "      <td>0</td>\n",
       "      <td>0</td>\n",
       "      <td>0</td>\n",
       "      <td>0</td>\n",
       "      <td>0</td>\n",
       "      <td>0</td>\n",
       "      <td>0</td>\n",
       "      <td>0</td>\n",
       "      <td>0</td>\n",
       "      <td>0</td>\n",
       "      <td>0</td>\n",
       "      <td>0</td>\n",
       "      <td>0</td>\n",
       "      <td>0</td>\n",
       "      <td>0</td>\n",
       "      <td>0</td>\n",
       "      <td>0</td>\n",
       "      <td>0</td>\n",
       "      <td>0</td>\n",
       "      <td>0</td>\n",
       "      <td>0</td>\n",
       "      <td>0</td>\n",
       "      <td>0</td>\n",
       "      <td>0</td>\n",
       "      <td>0</td>\n",
       "      <td>0</td>\n",
       "      <td>0</td>\n",
       "      <td>0</td>\n",
       "      <td>0</td>\n",
       "      <td>0</td>\n",
       "      <td>0</td>\n",
       "      <td>0</td>\n",
       "      <td>0</td>\n",
       "      <td>0</td>\n",
       "      <td>0</td>\n",
       "      <td>7</td>\n",
       "      <td>0</td>\n",
       "      <td>0</td>\n",
       "      <td>0</td>\n",
       "      <td>0</td>\n",
       "      <td>0</td>\n",
       "      <td>0</td>\n",
       "      <td>30</td>\n",
       "      <td>0</td>\n",
       "      <td>0</td>\n",
       "      <td>15</td>\n",
       "      <td>0</td>\n",
       "      <td>0</td>\n",
       "      <td>0</td>\n",
       "      <td>0</td>\n",
       "      <td>0</td>\n",
       "      <td>0</td>\n",
       "      <td>0</td>\n",
       "      <td>0</td>\n",
       "    </tr>\n",
       "    <tr>\n",
       "      <th>2</th>\n",
       "      <td>2011-04-24 01:30:00.000</td>\n",
       "      <td>0</td>\n",
       "      <td>NaN</td>\n",
       "      <td>1</td>\n",
       "      <td>Dimanche</td>\n",
       "      <td>Nuit</td>\n",
       "      <td>1</td>\n",
       "      <td>1589</td>\n",
       "      <td>1</td>\n",
       "      <td>Entity1 G3RV6</td>\n",
       "      <td>Entity1 France</td>\n",
       "      <td>DSIG</td>\n",
       "      <td>Téléphonie</td>\n",
       "      <td>Téléphonie</td>\n",
       "      <td>SUPPORT</td>\n",
       "      <td>2001-01-01 00:00:00.000</td>\n",
       "      <td>9999-12-31 00:00:00.000</td>\n",
       "      <td>NaN</td>\n",
       "      <td>7200</td>\n",
       "      <td>2632</td>\n",
       "      <td>0</td>\n",
       "      <td>0</td>\n",
       "      <td>0</td>\n",
       "      <td>0</td>\n",
       "      <td>0</td>\n",
       "      <td>0</td>\n",
       "      <td>498</td>\n",
       "      <td>0</td>\n",
       "      <td>0</td>\n",
       "      <td>0</td>\n",
       "      <td>0</td>\n",
       "      <td>0</td>\n",
       "      <td>0</td>\n",
       "      <td>0</td>\n",
       "      <td>0</td>\n",
       "      <td>0</td>\n",
       "      <td>0</td>\n",
       "      <td>0</td>\n",
       "      <td>0</td>\n",
       "      <td>0</td>\n",
       "      <td>0</td>\n",
       "      <td>0</td>\n",
       "      <td>0</td>\n",
       "      <td>0</td>\n",
       "      <td>0</td>\n",
       "      <td>0</td>\n",
       "      <td>0</td>\n",
       "      <td>0</td>\n",
       "      <td>0</td>\n",
       "      <td>0</td>\n",
       "      <td>0</td>\n",
       "      <td>0</td>\n",
       "      <td>0</td>\n",
       "      <td>0</td>\n",
       "      <td>0</td>\n",
       "      <td>0</td>\n",
       "      <td>0</td>\n",
       "      <td>0</td>\n",
       "      <td>0</td>\n",
       "      <td>0</td>\n",
       "      <td>0</td>\n",
       "      <td>0</td>\n",
       "      <td>0</td>\n",
       "      <td>0</td>\n",
       "      <td>0</td>\n",
       "      <td>0</td>\n",
       "      <td>0</td>\n",
       "      <td>4</td>\n",
       "      <td>0</td>\n",
       "      <td>0</td>\n",
       "      <td>0</td>\n",
       "      <td>0</td>\n",
       "      <td>0</td>\n",
       "      <td>0</td>\n",
       "      <td>30</td>\n",
       "      <td>0</td>\n",
       "      <td>0</td>\n",
       "      <td>20</td>\n",
       "      <td>0</td>\n",
       "      <td>0</td>\n",
       "      <td>0</td>\n",
       "      <td>0</td>\n",
       "      <td>0</td>\n",
       "      <td>0</td>\n",
       "      <td>0</td>\n",
       "      <td>0</td>\n",
       "    </tr>\n",
       "    <tr>\n",
       "      <th>3</th>\n",
       "      <td>2011-04-24 01:30:00.000</td>\n",
       "      <td>0</td>\n",
       "      <td>NaN</td>\n",
       "      <td>1</td>\n",
       "      <td>Dimanche</td>\n",
       "      <td>Nuit</td>\n",
       "      <td>1</td>\n",
       "      <td>1591</td>\n",
       "      <td>1</td>\n",
       "      <td>Entity1 G3RV6</td>\n",
       "      <td>Entity1 France</td>\n",
       "      <td>DSIG</td>\n",
       "      <td>Téléphonie</td>\n",
       "      <td>Téléphonie</td>\n",
       "      <td>SUPPORT</td>\n",
       "      <td>2001-01-01 00:00:00.000</td>\n",
       "      <td>9999-12-31 00:00:00.000</td>\n",
       "      <td>NaN</td>\n",
       "      <td>10800</td>\n",
       "      <td>832</td>\n",
       "      <td>0</td>\n",
       "      <td>0</td>\n",
       "      <td>0</td>\n",
       "      <td>0</td>\n",
       "      <td>0</td>\n",
       "      <td>0</td>\n",
       "      <td>498</td>\n",
       "      <td>0</td>\n",
       "      <td>0</td>\n",
       "      <td>0</td>\n",
       "      <td>0</td>\n",
       "      <td>0</td>\n",
       "      <td>0</td>\n",
       "      <td>0</td>\n",
       "      <td>0</td>\n",
       "      <td>0</td>\n",
       "      <td>0</td>\n",
       "      <td>0</td>\n",
       "      <td>0</td>\n",
       "      <td>0</td>\n",
       "      <td>0</td>\n",
       "      <td>0</td>\n",
       "      <td>0</td>\n",
       "      <td>0</td>\n",
       "      <td>0</td>\n",
       "      <td>0</td>\n",
       "      <td>0</td>\n",
       "      <td>0</td>\n",
       "      <td>0</td>\n",
       "      <td>0</td>\n",
       "      <td>0</td>\n",
       "      <td>0</td>\n",
       "      <td>0</td>\n",
       "      <td>0</td>\n",
       "      <td>0</td>\n",
       "      <td>0</td>\n",
       "      <td>0</td>\n",
       "      <td>0</td>\n",
       "      <td>0</td>\n",
       "      <td>0</td>\n",
       "      <td>0</td>\n",
       "      <td>0</td>\n",
       "      <td>0</td>\n",
       "      <td>0</td>\n",
       "      <td>0</td>\n",
       "      <td>0</td>\n",
       "      <td>0</td>\n",
       "      <td>6</td>\n",
       "      <td>0</td>\n",
       "      <td>0</td>\n",
       "      <td>0</td>\n",
       "      <td>0</td>\n",
       "      <td>0</td>\n",
       "      <td>0</td>\n",
       "      <td>30</td>\n",
       "      <td>0</td>\n",
       "      <td>0</td>\n",
       "      <td>0</td>\n",
       "      <td>0</td>\n",
       "      <td>0</td>\n",
       "      <td>0</td>\n",
       "      <td>0</td>\n",
       "      <td>0</td>\n",
       "      <td>0</td>\n",
       "      <td>0</td>\n",
       "      <td>0</td>\n",
       "    </tr>\n",
       "    <tr>\n",
       "      <th>4</th>\n",
       "      <td>2011-04-24 01:30:00.000</td>\n",
       "      <td>0</td>\n",
       "      <td>NaN</td>\n",
       "      <td>1</td>\n",
       "      <td>Dimanche</td>\n",
       "      <td>Nuit</td>\n",
       "      <td>1</td>\n",
       "      <td>1555</td>\n",
       "      <td>1</td>\n",
       "      <td>Entity1 G3RV6</td>\n",
       "      <td>Entity1 France</td>\n",
       "      <td>DSIG</td>\n",
       "      <td>Téléphonie</td>\n",
       "      <td>Téléphonie</td>\n",
       "      <td>SUPPORT</td>\n",
       "      <td>2001-01-01 00:00:00.000</td>\n",
       "      <td>9999-12-31 00:00:00.000</td>\n",
       "      <td>NaN</td>\n",
       "      <td>12600</td>\n",
       "      <td>2632</td>\n",
       "      <td>488</td>\n",
       "      <td>0</td>\n",
       "      <td>0</td>\n",
       "      <td>0</td>\n",
       "      <td>0</td>\n",
       "      <td>0</td>\n",
       "      <td>0</td>\n",
       "      <td>0</td>\n",
       "      <td>0</td>\n",
       "      <td>0</td>\n",
       "      <td>0</td>\n",
       "      <td>0</td>\n",
       "      <td>0</td>\n",
       "      <td>0</td>\n",
       "      <td>0</td>\n",
       "      <td>0</td>\n",
       "      <td>0</td>\n",
       "      <td>0</td>\n",
       "      <td>0</td>\n",
       "      <td>0</td>\n",
       "      <td>1</td>\n",
       "      <td>10</td>\n",
       "      <td>0</td>\n",
       "      <td>0</td>\n",
       "      <td>0</td>\n",
       "      <td>0</td>\n",
       "      <td>0</td>\n",
       "      <td>0</td>\n",
       "      <td>0</td>\n",
       "      <td>0</td>\n",
       "      <td>0</td>\n",
       "      <td>0</td>\n",
       "      <td>0</td>\n",
       "      <td>0</td>\n",
       "      <td>0</td>\n",
       "      <td>0</td>\n",
       "      <td>0</td>\n",
       "      <td>0</td>\n",
       "      <td>0</td>\n",
       "      <td>0</td>\n",
       "      <td>0</td>\n",
       "      <td>1</td>\n",
       "      <td>1</td>\n",
       "      <td>10</td>\n",
       "      <td>10</td>\n",
       "      <td>1</td>\n",
       "      <td>0</td>\n",
       "      <td>7</td>\n",
       "      <td>0</td>\n",
       "      <td>0</td>\n",
       "      <td>0</td>\n",
       "      <td>0</td>\n",
       "      <td>0</td>\n",
       "      <td>0</td>\n",
       "      <td>30</td>\n",
       "      <td>0</td>\n",
       "      <td>1</td>\n",
       "      <td>15</td>\n",
       "      <td>0</td>\n",
       "      <td>0</td>\n",
       "      <td>0</td>\n",
       "      <td>1</td>\n",
       "      <td>0</td>\n",
       "      <td>1</td>\n",
       "      <td>0</td>\n",
       "      <td>488</td>\n",
       "    </tr>\n",
       "  </tbody>\n",
       "</table>\n",
       "</div>"
      ],
      "text/plain": [
       "                      DATE  DAY_OFF  DAY_DS  WEEK_END DAY_WE_DS TPER_TEAM  \\\n",
       "0  2011-04-24 01:30:00.000        0     NaN         1  Dimanche      Nuit   \n",
       "1  2011-04-24 01:30:00.000        0     NaN         1  Dimanche      Nuit   \n",
       "2  2011-04-24 01:30:00.000        0     NaN         1  Dimanche      Nuit   \n",
       "3  2011-04-24 01:30:00.000        0     NaN         1  Dimanche      Nuit   \n",
       "4  2011-04-24 01:30:00.000        0     NaN         1  Dimanche      Nuit   \n",
       "\n",
       "   TPER_HOUR  SPLIT_COD  ACD_COD        ACD_LIB    ASS_SOC_MERE  \\\n",
       "0          1        855        1  Entity1 G3RV6  Entity1 France   \n",
       "1          1       1587        1  Entity1 G3RV6  Entity1 France   \n",
       "2          1       1589        1  Entity1 G3RV6  Entity1 France   \n",
       "3          1       1591        1  Entity1 G3RV6  Entity1 France   \n",
       "4          1       1555        1  Entity1 G3RV6  Entity1 France   \n",
       "\n",
       "  ASS_DIRECTORSHIP ASS_ASSIGNMENT ASS_PARTNER ASS_POLE  \\\n",
       "0             DSIG     Téléphonie  Téléphonie  SUPPORT   \n",
       "1             DSIG     Téléphonie  Téléphonie  SUPPORT   \n",
       "2             DSIG     Téléphonie  Téléphonie  SUPPORT   \n",
       "3             DSIG     Téléphonie  Téléphonie  SUPPORT   \n",
       "4             DSIG     Téléphonie  Téléphonie  SUPPORT   \n",
       "\n",
       "                 ASS_BEGIN                  ASS_END ASS_COMENT  \\\n",
       "0  2001-01-01 00:00:00.000  9999-12-31 00:00:00.000        NaN   \n",
       "1  2001-01-01 00:00:00.000  9999-12-31 00:00:00.000        NaN   \n",
       "2  2001-01-01 00:00:00.000  9999-12-31 00:00:00.000        NaN   \n",
       "3  2001-01-01 00:00:00.000  9999-12-31 00:00:00.000        NaN   \n",
       "4  2001-01-01 00:00:00.000  9999-12-31 00:00:00.000        NaN   \n",
       "\n",
       "   CSPL_I_STAFFTIME  CSPL_I_AVAILTIME  CSPL_I_ACDTIME  CSPL_I_ACWTIME  \\\n",
       "0              5400              4812               0               0   \n",
       "1             12600              2632               0               0   \n",
       "2              7200              2632               0               0   \n",
       "3             10800               832               0               0   \n",
       "4             12600              2632             488               0   \n",
       "\n",
       "   CSPL_I_ACWOUTTIME  CSPL_I_ACWINTIME  CSPL_I_AUXOUTTIME  CSPL_I_AUXINTIME  \\\n",
       "0                  0                 0                  0                 0   \n",
       "1                  0                 0                  0                 0   \n",
       "2                  0                 0                  0                 0   \n",
       "3                  0                 0                  0                 0   \n",
       "4                  0                 0                  0                 0   \n",
       "\n",
       "   CSPL_I_OTHERTIME  CSPL_ACWINCALLS  CSPL_ACWINTIME  CSPL_AUXINCALLS  \\\n",
       "0               543                0               0                0   \n",
       "1               498                0               0                0   \n",
       "2               498                0               0                0   \n",
       "3               498                0               0                0   \n",
       "4                 0                0               0                0   \n",
       "\n",
       "   CSPL_AUXINTIME  CSPL_ACWOUTCALLS  CSPL_ACWOUTIME  CSPL_ACWOUTOFFCALLS  \\\n",
       "0               0                 0               0                    0   \n",
       "1               0                 0               0                    0   \n",
       "2               0                 0               0                    0   \n",
       "3               0                 0               0                    0   \n",
       "4               0                 0               0                    0   \n",
       "\n",
       "   CSPL_ACWOUTOFFTIME  CSPL_AUXOUTCALLS  CSPL_AUXOUTTIME  CSPL_AUXOUTOFFCALLS  \\\n",
       "0                   0                 0                0                    0   \n",
       "1                   0                 0                0                    0   \n",
       "2                   0                 0                0                    0   \n",
       "3                   0                 0                0                    0   \n",
       "4                   0                 0                0                    0   \n",
       "\n",
       "   CSPL_AUXOUTOFFTIME  CSPL_INFLOWCALLS  CSPL_ACDCALLS  CSPL_ANSTIME  \\\n",
       "0                   0                 0              0             0   \n",
       "1                   0                 0              0             0   \n",
       "2                   0                 0              0             0   \n",
       "3                   0                 0              0             0   \n",
       "4                   0                 0              1            10   \n",
       "\n",
       "   CSPL_HOLDCALLS  CSPL_HOLDTIME  CSPL_HOLDABNCALLS  CSPL_TRANSFERED  \\\n",
       "0               0              0                  0                0   \n",
       "1               0              0                  0                0   \n",
       "2               0              0                  0                0   \n",
       "3               0              0                  0                0   \n",
       "4               0              0                  0                0   \n",
       "\n",
       "   CSPL_CONFERENCE  CSPL_ABNCALLS  CSPL_ABNTIME  CSPL_ABNCALLS1  \\\n",
       "0                0              0             0               0   \n",
       "1                0              0             0               0   \n",
       "2                0              0             0               0   \n",
       "3                0              0             0               0   \n",
       "4                0              0             0               0   \n",
       "\n",
       "   CSPL_ABNCALLS2  CSPL_ABNCALLS3  CSPL_ABNCALLS4  CSPL_ABNCALLS5  \\\n",
       "0               0               0               0               0   \n",
       "1               0               0               0               0   \n",
       "2               0               0               0               0   \n",
       "3               0               0               0               0   \n",
       "4               0               0               0               0   \n",
       "\n",
       "   CSPL_ABNCALLS6  CSPL_ABNCALLS7  CSPL_ABNCALLS8  CSPL_ABNCALLS9  \\\n",
       "0               0               0               0               0   \n",
       "1               0               0               0               0   \n",
       "2               0               0               0               0   \n",
       "3               0               0               0               0   \n",
       "4               0               0               0               0   \n",
       "\n",
       "   CSPL_ABNCALLS10  CSPL_OUTFLOWCALLS  CSPL_OUTFLOWTIME  CSPL_MAXINQUEUE  \\\n",
       "0                0                  0                 0                0   \n",
       "1                0                  0                 0                0   \n",
       "2                0                  0                 0                0   \n",
       "3                0                  0                 0                0   \n",
       "4                0                  0                 0                1   \n",
       "\n",
       "   CSPL_CALLSOFFERED  CSPL_I_RINGTIME  CSPL_RINGTIME  CSPL_RINGCALLS  \\\n",
       "0                  0                0              0               0   \n",
       "1                  0                0              0               0   \n",
       "2                  0                0              0               0   \n",
       "3                  0                0              0               0   \n",
       "4                  1               10             10               1   \n",
       "\n",
       "   CSPL_NOANSREDIR  CSPL_MAXSTAFFED  CSPL_ACWOUTADJCALLS  CSPL_AUXOUTADJCALLS  \\\n",
       "0                0                3                    0                    0   \n",
       "1                0                7                    0                    0   \n",
       "2                0                4                    0                    0   \n",
       "3                0                6                    0                    0   \n",
       "4                0                7                    0                    0   \n",
       "\n",
       "   CSPL_DEQUECALLS  CSPL_DEQUETIME  CSPL_DISCCALLS  CSPL_DISCTIME  \\\n",
       "0                0               0               0              0   \n",
       "1                0               0               0              0   \n",
       "2                0               0               0              0   \n",
       "3                0               0               0              0   \n",
       "4                0               0               0              0   \n",
       "\n",
       "   CSPL_INTRVL  CSPL_INCOMPLETE  CSPL_ACCEPTABLE  CSPL_SERVICELEVEL  \\\n",
       "0           30                0                0                 30   \n",
       "1           30                0                0                 15   \n",
       "2           30                0                0                 20   \n",
       "3           30                0                0                  0   \n",
       "4           30                0                1                 15   \n",
       "\n",
       "   CSPL_ACDAUXOUTCALLS  CSPL_SLVLABNS  CSPL_SLVLOUTFLOWS  CSPL_RECEIVED_CALLS  \\\n",
       "0                    0              0                  0                    0   \n",
       "1                    0              0                  0                    0   \n",
       "2                    0              0                  0                    0   \n",
       "3                    0              0                  0                    0   \n",
       "4                    0              0                  0                    1   \n",
       "\n",
       "   CSPL_ABANDONNED_CALLS  CSPL_CALLS  CSPL_ACWTIME  CSPL_ACDTIME  \n",
       "0                      0           0             0             0  \n",
       "1                      0           0             0             0  \n",
       "2                      0           0             0             0  \n",
       "3                      0           0             0             0  \n",
       "4                      0           1             0           488  "
      ]
     },
     "execution_count": 6,
     "metadata": {},
     "output_type": "execute_result"
    }
   ],
   "source": [
    "df.head()"
   ]
  },
  {
   "cell_type": "code",
   "execution_count": 5,
   "metadata": {
    "collapsed": true
   },
   "outputs": [],
   "source": [
    "target = \"CSPL_RECEIVED_CALLS\""
   ]
  },
  {
   "cell_type": "markdown",
   "metadata": {},
   "source": [
    "### deleting all columns but very few"
   ]
  },
  {
   "cell_type": "code",
   "execution_count": 7,
   "metadata": {
    "collapsed": true
   },
   "outputs": [],
   "source": [
    "df = df[['DATE', target, 'ASS_ASSIGNMENT']]"
   ]
  },
  {
   "cell_type": "code",
   "execution_count": 8,
   "metadata": {
    "collapsed": false
   },
   "outputs": [
    {
     "data": {
      "text/html": [
       "<div>\n",
       "<table border=\"1\" class=\"dataframe\">\n",
       "  <thead>\n",
       "    <tr style=\"text-align: right;\">\n",
       "      <th></th>\n",
       "      <th>DATE</th>\n",
       "      <th>CSPL_RECEIVED_CALLS</th>\n",
       "      <th>ASS_ASSIGNMENT</th>\n",
       "    </tr>\n",
       "  </thead>\n",
       "  <tbody>\n",
       "    <tr>\n",
       "      <th>0</th>\n",
       "      <td>2011-04-24 01:30:00.000</td>\n",
       "      <td>0</td>\n",
       "      <td>Téléphonie</td>\n",
       "    </tr>\n",
       "    <tr>\n",
       "      <th>1</th>\n",
       "      <td>2011-04-24 01:30:00.000</td>\n",
       "      <td>0</td>\n",
       "      <td>Téléphonie</td>\n",
       "    </tr>\n",
       "    <tr>\n",
       "      <th>2</th>\n",
       "      <td>2011-04-24 01:30:00.000</td>\n",
       "      <td>0</td>\n",
       "      <td>Téléphonie</td>\n",
       "    </tr>\n",
       "    <tr>\n",
       "      <th>3</th>\n",
       "      <td>2011-04-24 01:30:00.000</td>\n",
       "      <td>0</td>\n",
       "      <td>Téléphonie</td>\n",
       "    </tr>\n",
       "    <tr>\n",
       "      <th>4</th>\n",
       "      <td>2011-04-24 01:30:00.000</td>\n",
       "      <td>1</td>\n",
       "      <td>Téléphonie</td>\n",
       "    </tr>\n",
       "  </tbody>\n",
       "</table>\n",
       "</div>"
      ],
      "text/plain": [
       "                      DATE  CSPL_RECEIVED_CALLS ASS_ASSIGNMENT\n",
       "0  2011-04-24 01:30:00.000                    0     Téléphonie\n",
       "1  2011-04-24 01:30:00.000                    0     Téléphonie\n",
       "2  2011-04-24 01:30:00.000                    0     Téléphonie\n",
       "3  2011-04-24 01:30:00.000                    0     Téléphonie\n",
       "4  2011-04-24 01:30:00.000                    1     Téléphonie"
      ]
     },
     "execution_count": 8,
     "metadata": {},
     "output_type": "execute_result"
    }
   ],
   "source": [
    "df.head()"
   ]
  },
  {
   "cell_type": "code",
   "execution_count": 9,
   "metadata": {
    "collapsed": true
   },
   "outputs": [],
   "source": [
    "df.DATE = pd.to_datetime(df.DATE)"
   ]
  },
  {
   "cell_type": "code",
   "execution_count": 10,
   "metadata": {
    "collapsed": true
   },
   "outputs": [],
   "source": [
    "import datetime"
   ]
  },
  {
   "cell_type": "markdown",
   "metadata": {},
   "source": [
    "get the time slot of the day (0 for 00:00, 1 for 00:30, ... 47 for 23:30)"
   ]
  },
  {
   "cell_type": "code",
   "execution_count": 11,
   "metadata": {
    "collapsed": true
   },
   "outputs": [],
   "source": [
    "def get_slot(timestamp):\n",
    "    assert timestamp.minute in [0, 30]\n",
    "    return 2 * timestamp.hour + (timestamp.minute == 30)"
   ]
  },
  {
   "cell_type": "code",
   "execution_count": 12,
   "metadata": {
    "collapsed": false
   },
   "outputs": [
    {
     "name": "stdout",
     "output_type": "stream",
     "text": [
      "Wall time: 30.8 s\n"
     ]
    }
   ],
   "source": [
    "%%time\n",
    "df['slot'] = df.DATE.apply(get_slot)"
   ]
  },
  {
   "cell_type": "code",
   "execution_count": 13,
   "metadata": {
    "collapsed": false
   },
   "outputs": [
    {
     "name": "stdout",
     "output_type": "stream",
     "text": [
      "Wall time: 30.7 s\n"
     ]
    }
   ],
   "source": [
    "%%time\n",
    "df['dayofweek'] = df.DATE.apply(lambda x: x.dayofweek)"
   ]
  },
  {
   "cell_type": "code",
   "execution_count": 17,
   "metadata": {
    "collapsed": false
   },
   "outputs": [
    {
     "name": "stdout",
     "output_type": "stream",
     "text": [
      "Wall time: 1.91 s\n"
     ]
    }
   ],
   "source": [
    "%%time\n",
    "df['ass_hashed'] = df.ASS_ASSIGNMENT.apply(hash)"
   ]
  },
  {
   "cell_type": "code",
   "execution_count": 18,
   "metadata": {
    "collapsed": false
   },
   "outputs": [
    {
     "data": {
      "text/html": [
       "<div>\n",
       "<table border=\"1\" class=\"dataframe\">\n",
       "  <thead>\n",
       "    <tr style=\"text-align: right;\">\n",
       "      <th></th>\n",
       "      <th>DATE</th>\n",
       "      <th>CSPL_RECEIVED_CALLS</th>\n",
       "      <th>ASS_ASSIGNMENT</th>\n",
       "      <th>slot</th>\n",
       "      <th>dayofweek</th>\n",
       "      <th>ass_hashed</th>\n",
       "    </tr>\n",
       "  </thead>\n",
       "  <tbody>\n",
       "    <tr>\n",
       "      <th>0</th>\n",
       "      <td>2011-04-24 01:30:00</td>\n",
       "      <td>0</td>\n",
       "      <td>Téléphonie</td>\n",
       "      <td>3</td>\n",
       "      <td>6</td>\n",
       "      <td>-1730673935</td>\n",
       "    </tr>\n",
       "    <tr>\n",
       "      <th>1</th>\n",
       "      <td>2011-04-24 01:30:00</td>\n",
       "      <td>0</td>\n",
       "      <td>Téléphonie</td>\n",
       "      <td>3</td>\n",
       "      <td>6</td>\n",
       "      <td>-1730673935</td>\n",
       "    </tr>\n",
       "    <tr>\n",
       "      <th>2</th>\n",
       "      <td>2011-04-24 01:30:00</td>\n",
       "      <td>0</td>\n",
       "      <td>Téléphonie</td>\n",
       "      <td>3</td>\n",
       "      <td>6</td>\n",
       "      <td>-1730673935</td>\n",
       "    </tr>\n",
       "    <tr>\n",
       "      <th>3</th>\n",
       "      <td>2011-04-24 01:30:00</td>\n",
       "      <td>0</td>\n",
       "      <td>Téléphonie</td>\n",
       "      <td>3</td>\n",
       "      <td>6</td>\n",
       "      <td>-1730673935</td>\n",
       "    </tr>\n",
       "    <tr>\n",
       "      <th>4</th>\n",
       "      <td>2011-04-24 01:30:00</td>\n",
       "      <td>1</td>\n",
       "      <td>Téléphonie</td>\n",
       "      <td>3</td>\n",
       "      <td>6</td>\n",
       "      <td>-1730673935</td>\n",
       "    </tr>\n",
       "  </tbody>\n",
       "</table>\n",
       "</div>"
      ],
      "text/plain": [
       "                 DATE  CSPL_RECEIVED_CALLS ASS_ASSIGNMENT  slot  dayofweek  \\\n",
       "0 2011-04-24 01:30:00                    0     Téléphonie     3          6   \n",
       "1 2011-04-24 01:30:00                    0     Téléphonie     3          6   \n",
       "2 2011-04-24 01:30:00                    0     Téléphonie     3          6   \n",
       "3 2011-04-24 01:30:00                    0     Téléphonie     3          6   \n",
       "4 2011-04-24 01:30:00                    1     Téléphonie     3          6   \n",
       "\n",
       "   ass_hashed  \n",
       "0 -1730673935  \n",
       "1 -1730673935  \n",
       "2 -1730673935  \n",
       "3 -1730673935  \n",
       "4 -1730673935  "
      ]
     },
     "execution_count": 18,
     "metadata": {},
     "output_type": "execute_result"
    }
   ],
   "source": [
    "df.head()"
   ]
  },
  {
   "cell_type": "markdown",
   "metadata": {},
   "source": [
    "### simple model : predict constant value per (ASS_ASSIGNMENT, SLOT, DAYOFWEEK) unique tuple"
   ]
  },
  {
   "cell_type": "code",
   "execution_count": 19,
   "metadata": {
    "collapsed": true
   },
   "outputs": [],
   "source": [
    "def best_mean(s):\n",
    "    \"\"\"The constant that minimizes the empirical loss.\n",
    "    For numerical stability, we multiply and divide by the max.\n",
    "    Equal to 1 / alpha * np.log(1 /s.size * np.sum(np.exp(alpha*s)))\"\"\"\n",
    "    s = alpha * s\n",
    "    m = s.max()\n",
    "    s = s - m\n",
    "    return 1 / alpha * (np.log(1/s.size) + m + np.log(np.sum(np.exp(s))))"
   ]
  },
  {
   "cell_type": "code",
   "execution_count": 20,
   "metadata": {
    "collapsed": true
   },
   "outputs": [],
   "source": [
    "def get_best_constant(row):\n",
    "    \n",
    "    # selecting corresponding time slots in train set\n",
    "    sub_df = df[(df.ass_hashed == hash(row.ASS_ASSIGNMENT)) & (df.slot == row.slot) & (df.dayofweek == row.dayofweek)]\n",
    "#     sub_df = sub_df[sub_df.slot == row.slot]\n",
    "#     sub_df = sub_df[sub_df.dayofweek == row.dayofweek]\n",
    "    \n",
    "    if sub_df.empty:\n",
    "        print(\"no data for row={}\".format(row))\n",
    "        return 0\n",
    "\n",
    "    # get the best prediction constant for that loss\n",
    "    s = sub_df.reset_index().groupby(\"DATE\")[target].sum()\n",
    "    return best_mean(s)"
   ]
  },
  {
   "cell_type": "code",
   "execution_count": 41,
   "metadata": {
    "collapsed": false
   },
   "outputs": [
    {
     "name": "stdout",
     "output_type": "stream",
     "text": [
      "10 loops, best of 3: 97.7 ms per loop\n"
     ]
    }
   ],
   "source": [
    "%%timeit\n",
    "get_best_constant(df.iloc[10])"
   ]
  },
  {
   "cell_type": "markdown",
   "metadata": {},
   "source": [
    "# Read submission data"
   ]
  },
  {
   "cell_type": "code",
   "execution_count": 22,
   "metadata": {
    "collapsed": true
   },
   "outputs": [],
   "source": [
    "sub = pd.read_csv('data/submission.txt', sep='\\t')"
   ]
  },
  {
   "cell_type": "code",
   "execution_count": 23,
   "metadata": {
    "collapsed": false
   },
   "outputs": [],
   "source": [
    "sub.DATE = pd.to_datetime(sub.DATE)"
   ]
  },
  {
   "cell_type": "code",
   "execution_count": 24,
   "metadata": {
    "collapsed": false
   },
   "outputs": [
    {
     "data": {
      "text/plain": [
       "DatetimeIndex([], dtype='datetime64[ns]', name=u'DATE', freq=None)"
      ]
     },
     "execution_count": 24,
     "metadata": {},
     "output_type": "execute_result"
    }
   ],
   "source": [
    "# there are no training data for the submission dates!\n",
    "sub_ix = sub.set_index('DATE').index\n",
    "df_ix = df.set_index(\"DATE\").index\n",
    "df_ix.intersection(sub_ix)"
   ]
  },
  {
   "cell_type": "code",
   "execution_count": 36,
   "metadata": {
    "collapsed": false
   },
   "outputs": [
    {
     "data": {
      "text/plain": [
       "(82909, 5)"
      ]
     },
     "execution_count": 36,
     "metadata": {},
     "output_type": "execute_result"
    }
   ],
   "source": [
    "sub.shape"
   ]
  },
  {
   "cell_type": "code",
   "execution_count": 37,
   "metadata": {
    "collapsed": true
   },
   "outputs": [],
   "source": [
    "sub['dayofweek'] = sub.DATE.apply(lambda x: x.dayofweek)\n",
    "sub['slot'] = sub.DATE.apply(get_slot)"
   ]
  },
  {
   "cell_type": "code",
   "execution_count": 38,
   "metadata": {
    "collapsed": false
   },
   "outputs": [
    {
     "data": {
      "text/html": [
       "<div>\n",
       "<table border=\"1\" class=\"dataframe\">\n",
       "  <thead>\n",
       "    <tr style=\"text-align: right;\">\n",
       "      <th></th>\n",
       "      <th>DATE</th>\n",
       "      <th>ASS_ASSIGNMENT</th>\n",
       "      <th>prediction</th>\n",
       "      <th>dayofweek</th>\n",
       "      <th>slot</th>\n",
       "    </tr>\n",
       "  </thead>\n",
       "  <tbody>\n",
       "    <tr>\n",
       "      <th>0</th>\n",
       "      <td>2012-12-28</td>\n",
       "      <td>CMS</td>\n",
       "      <td>-inf</td>\n",
       "      <td>4</td>\n",
       "      <td>0</td>\n",
       "    </tr>\n",
       "    <tr>\n",
       "      <th>1</th>\n",
       "      <td>2012-12-28</td>\n",
       "      <td>Crises</td>\n",
       "      <td>-inf</td>\n",
       "      <td>4</td>\n",
       "      <td>0</td>\n",
       "    </tr>\n",
       "    <tr>\n",
       "      <th>2</th>\n",
       "      <td>2012-12-28</td>\n",
       "      <td>Domicile</td>\n",
       "      <td>-inf</td>\n",
       "      <td>4</td>\n",
       "      <td>0</td>\n",
       "    </tr>\n",
       "    <tr>\n",
       "      <th>3</th>\n",
       "      <td>2012-12-28</td>\n",
       "      <td>Gestion</td>\n",
       "      <td>-inf</td>\n",
       "      <td>4</td>\n",
       "      <td>0</td>\n",
       "    </tr>\n",
       "    <tr>\n",
       "      <th>4</th>\n",
       "      <td>2012-12-28</td>\n",
       "      <td>Gestion - Accueil Telephonique</td>\n",
       "      <td>-inf</td>\n",
       "      <td>4</td>\n",
       "      <td>0</td>\n",
       "    </tr>\n",
       "  </tbody>\n",
       "</table>\n",
       "</div>"
      ],
      "text/plain": [
       "        DATE                  ASS_ASSIGNMENT  prediction  dayofweek  slot\n",
       "0 2012-12-28                             CMS        -inf          4     0\n",
       "1 2012-12-28                          Crises        -inf          4     0\n",
       "2 2012-12-28                        Domicile        -inf          4     0\n",
       "3 2012-12-28                         Gestion        -inf          4     0\n",
       "4 2012-12-28  Gestion - Accueil Telephonique        -inf          4     0"
      ]
     },
     "execution_count": 38,
     "metadata": {},
     "output_type": "execute_result"
    }
   ],
   "source": [
    "sub.head()"
   ]
  },
  {
   "cell_type": "code",
   "execution_count": 39,
   "metadata": {
    "collapsed": false
   },
   "outputs": [
    {
     "data": {
      "text/plain": [
       "DATE              2012-12-28 00:00:00\n",
       "ASS_ASSIGNMENT              Tech. Axa\n",
       "prediction                       -inf\n",
       "dayofweek                           4\n",
       "slot                                0\n",
       "Name: 15, dtype: object"
      ]
     },
     "execution_count": 39,
     "metadata": {},
     "output_type": "execute_result"
    }
   ],
   "source": [
    "sub.iloc[15]"
   ]
  },
  {
   "cell_type": "code",
   "execution_count": 40,
   "metadata": {
    "collapsed": false
   },
   "outputs": [
    {
     "name": "stdout",
     "output_type": "stream",
     "text": [
      "Wall time: 106 ms\n"
     ]
    },
    {
     "data": {
      "text/plain": [
       "-inf"
      ]
     },
     "execution_count": 40,
     "metadata": {},
     "output_type": "execute_result"
    }
   ],
   "source": [
    "%%time\n",
    "get_best_constant(sub.iloc[15])"
   ]
  },
  {
   "cell_type": "markdown",
   "metadata": {},
   "source": [
    "### cell below takes ~3 hours to run"
   ]
  },
  {
   "cell_type": "code",
   "execution_count": 28,
   "metadata": {
    "collapsed": false
   },
   "outputs": [
    {
     "name": "stdout",
     "output_type": "stream",
     "text": [
      "0 %\n",
      "0 %\n",
      "0 %\n",
      "0 %\n",
      "0 %\n",
      "0 %\n",
      "0 %\n",
      "0 %\n",
      "0 %\n",
      "1 %\n",
      "1 %\n",
      "1 %\n",
      "1 %\n",
      "1 %\n",
      "1 %\n",
      "1 %\n",
      "1 %\n",
      "2 %\n",
      "2 %\n",
      "2 %\n",
      "2 %\n",
      "2 %\n",
      "2 %\n",
      "2 %\n",
      "2 %\n",
      "3 %\n",
      "3 %\n",
      "3 %\n",
      "3 %\n",
      "3 %\n",
      "3 %\n",
      "3 %\n",
      "3 %\n",
      "3 %\n",
      "4 %\n",
      "4 %\n",
      "4 %\n",
      "4 %\n",
      "4 %\n",
      "4 %\n",
      "4 %\n",
      "4 %\n",
      "5 %\n",
      "5 %\n",
      "5 %\n"
     ]
    },
    {
     "ename": "KeyboardInterrupt",
     "evalue": "",
     "output_type": "error",
     "traceback": [
      "\u001b[0;31m---------------------------------------------------------------------------\u001b[0m",
      "\u001b[0;31mKeyboardInterrupt\u001b[0m                         Traceback (most recent call last)",
      "\u001b[0;32m<ipython-input-28-8e2584e970aa>\u001b[0m in \u001b[0;36m<module>\u001b[0;34m()\u001b[0m\n\u001b[1;32m      2\u001b[0m     \u001b[1;32mif\u001b[0m \u001b[1;32mnot\u001b[0m \u001b[0mi\u001b[0m \u001b[1;33m%\u001b[0m \u001b[1;36m100\u001b[0m\u001b[1;33m:\u001b[0m\u001b[1;33m\u001b[0m\u001b[0m\n\u001b[1;32m      3\u001b[0m         \u001b[1;32mprint\u001b[0m\u001b[1;33m(\u001b[0m\u001b[1;34m\"{} %\"\u001b[0m\u001b[1;33m.\u001b[0m\u001b[0mformat\u001b[0m\u001b[1;33m(\u001b[0m\u001b[1;36m100\u001b[0m \u001b[1;33m*\u001b[0m \u001b[0mi\u001b[0m \u001b[1;33m/\u001b[0m \u001b[0msub\u001b[0m\u001b[1;33m.\u001b[0m\u001b[0mshape\u001b[0m\u001b[1;33m[\u001b[0m\u001b[1;36m0\u001b[0m\u001b[1;33m]\u001b[0m\u001b[1;33m)\u001b[0m\u001b[1;33m)\u001b[0m\u001b[1;33m\u001b[0m\u001b[0m\n\u001b[0;32m----> 4\u001b[0;31m     \u001b[0msub\u001b[0m\u001b[1;33m.\u001b[0m\u001b[0mloc\u001b[0m\u001b[1;33m[\u001b[0m\u001b[0mi\u001b[0m\u001b[1;33m,\u001b[0m \u001b[1;34m'prediction'\u001b[0m\u001b[1;33m]\u001b[0m \u001b[1;33m=\u001b[0m \u001b[0mget_best_constant\u001b[0m\u001b[1;33m(\u001b[0m\u001b[0msub\u001b[0m\u001b[1;33m.\u001b[0m\u001b[0miloc\u001b[0m\u001b[1;33m[\u001b[0m\u001b[0mi\u001b[0m\u001b[1;33m]\u001b[0m\u001b[1;33m)\u001b[0m\u001b[1;33m\u001b[0m\u001b[0m\n\u001b[0m",
      "\u001b[0;32m<ipython-input-20-47b461ab3cd0>\u001b[0m in \u001b[0;36mget_best_constant\u001b[0;34m(row)\u001b[0m\n\u001b[1;32m      2\u001b[0m \u001b[1;33m\u001b[0m\u001b[0m\n\u001b[1;32m      3\u001b[0m     \u001b[1;31m# selecting corresponding time slots in train set\u001b[0m\u001b[1;33m\u001b[0m\u001b[1;33m\u001b[0m\u001b[0m\n\u001b[0;32m----> 4\u001b[0;31m     \u001b[0msub_df\u001b[0m \u001b[1;33m=\u001b[0m \u001b[0mdf\u001b[0m\u001b[1;33m[\u001b[0m\u001b[1;33m(\u001b[0m\u001b[0mdf\u001b[0m\u001b[1;33m.\u001b[0m\u001b[0mass_hashed\u001b[0m \u001b[1;33m==\u001b[0m \u001b[0mhash\u001b[0m\u001b[1;33m(\u001b[0m\u001b[0mrow\u001b[0m\u001b[1;33m.\u001b[0m\u001b[0mASS_ASSIGNMENT\u001b[0m\u001b[1;33m)\u001b[0m\u001b[1;33m)\u001b[0m \u001b[1;33m&\u001b[0m \u001b[1;33m(\u001b[0m\u001b[0mdf\u001b[0m\u001b[1;33m.\u001b[0m\u001b[0mslot\u001b[0m \u001b[1;33m==\u001b[0m \u001b[0mrow\u001b[0m\u001b[1;33m.\u001b[0m\u001b[0mslot\u001b[0m\u001b[1;33m)\u001b[0m \u001b[1;33m&\u001b[0m \u001b[1;33m(\u001b[0m\u001b[0mdf\u001b[0m\u001b[1;33m.\u001b[0m\u001b[0mdayofweek\u001b[0m \u001b[1;33m==\u001b[0m \u001b[0mrow\u001b[0m\u001b[1;33m.\u001b[0m\u001b[0mdayofweek\u001b[0m\u001b[1;33m)\u001b[0m\u001b[1;33m]\u001b[0m\u001b[1;33m\u001b[0m\u001b[0m\n\u001b[0m\u001b[1;32m      5\u001b[0m \u001b[1;31m#     sub_df = sub_df[sub_df.slot == row.slot]\u001b[0m\u001b[1;33m\u001b[0m\u001b[1;33m\u001b[0m\u001b[0m\n\u001b[1;32m      6\u001b[0m \u001b[1;31m#     sub_df = sub_df[sub_df.dayofweek == row.dayofweek]\u001b[0m\u001b[1;33m\u001b[0m\u001b[1;33m\u001b[0m\u001b[0m\n",
      "\u001b[0;32mC:\\Program Files\\Anaconda2\\lib\\site-packages\\pandas\\core\\ops.py\u001b[0m in \u001b[0;36mwrapper\u001b[0;34m(self, other, axis)\u001b[0m\n\u001b[1;32m    761\u001b[0m                 \u001b[0mother\u001b[0m \u001b[1;33m=\u001b[0m \u001b[0mnp\u001b[0m\u001b[1;33m.\u001b[0m\u001b[0masarray\u001b[0m\u001b[1;33m(\u001b[0m\u001b[0mother\u001b[0m\u001b[1;33m)\u001b[0m\u001b[1;33m\u001b[0m\u001b[0m\n\u001b[1;32m    762\u001b[0m \u001b[1;33m\u001b[0m\u001b[0m\n\u001b[0;32m--> 763\u001b[0;31m             \u001b[0mres\u001b[0m \u001b[1;33m=\u001b[0m \u001b[0mna_op\u001b[0m\u001b[1;33m(\u001b[0m\u001b[0mvalues\u001b[0m\u001b[1;33m,\u001b[0m \u001b[0mother\u001b[0m\u001b[1;33m)\u001b[0m\u001b[1;33m\u001b[0m\u001b[0m\n\u001b[0m\u001b[1;32m    764\u001b[0m             \u001b[1;32mif\u001b[0m \u001b[0misscalar\u001b[0m\u001b[1;33m(\u001b[0m\u001b[0mres\u001b[0m\u001b[1;33m)\u001b[0m\u001b[1;33m:\u001b[0m\u001b[1;33m\u001b[0m\u001b[0m\n\u001b[1;32m    765\u001b[0m                 raise TypeError('Could not compare %s type with Series' %\n",
      "\u001b[0;32mC:\\Program Files\\Anaconda2\\lib\\site-packages\\pandas\\core\\ops.py\u001b[0m in \u001b[0;36mna_op\u001b[0;34m(x, y)\u001b[0m\n\u001b[1;32m    714\u001b[0m \u001b[1;33m\u001b[0m\u001b[0m\n\u001b[1;32m    715\u001b[0m             \u001b[1;32mtry\u001b[0m\u001b[1;33m:\u001b[0m\u001b[1;33m\u001b[0m\u001b[0m\n\u001b[0;32m--> 716\u001b[0;31m                 \u001b[0mresult\u001b[0m \u001b[1;33m=\u001b[0m \u001b[0mgetattr\u001b[0m\u001b[1;33m(\u001b[0m\u001b[0mx\u001b[0m\u001b[1;33m,\u001b[0m \u001b[0mname\u001b[0m\u001b[1;33m)\u001b[0m\u001b[1;33m(\u001b[0m\u001b[0my\u001b[0m\u001b[1;33m)\u001b[0m\u001b[1;33m\u001b[0m\u001b[0m\n\u001b[0m\u001b[1;32m    717\u001b[0m                 \u001b[1;32mif\u001b[0m \u001b[0mresult\u001b[0m \u001b[1;32mis\u001b[0m \u001b[0mNotImplemented\u001b[0m\u001b[1;33m:\u001b[0m\u001b[1;33m\u001b[0m\u001b[0m\n\u001b[1;32m    718\u001b[0m                     \u001b[1;32mraise\u001b[0m \u001b[0mTypeError\u001b[0m\u001b[1;33m(\u001b[0m\u001b[1;34m\"invalid type comparison\"\u001b[0m\u001b[1;33m)\u001b[0m\u001b[1;33m\u001b[0m\u001b[0m\n",
      "\u001b[0;31mKeyboardInterrupt\u001b[0m: "
     ]
    }
   ],
   "source": [
    "for i in range(sub.shape[0]):\n",
    "    if not i % 100:\n",
    "        print(\"{} %\".format(100 * i / sub.shape[0]))\n",
    "    sub.loc[i, 'prediction'] = get_best_constant(sub.iloc[i])"
   ]
  },
  {
   "cell_type": "code",
   "execution_count": 29,
   "metadata": {
    "collapsed": false
   },
   "outputs": [
    {
     "data": {
      "text/plain": [
       "count    8.290900e+04\n",
       "mean             -inf\n",
       "std               NaN\n",
       "min              -inf\n",
       "25%      0.000000e+00\n",
       "50%      0.000000e+00\n",
       "75%      0.000000e+00\n",
       "max      0.000000e+00\n",
       "Name: prediction, dtype: float64"
      ]
     },
     "execution_count": 29,
     "metadata": {},
     "output_type": "execute_result"
    }
   ],
   "source": [
    "sub.prediction.describe()"
   ]
  },
  {
   "cell_type": "code",
   "execution_count": null,
   "metadata": {
    "collapsed": false
   },
   "outputs": [],
   "source": [
    "sub.head()"
   ]
  },
  {
   "cell_type": "code",
   "execution_count": null,
   "metadata": {
    "collapsed": true
   },
   "outputs": [],
   "source": [
    "real_sub = sub.iloc[:, :3]"
   ]
  },
  {
   "cell_type": "code",
   "execution_count": null,
   "metadata": {
    "collapsed": false,
    "scrolled": true
   },
   "outputs": [],
   "source": [
    "real_sub.head()"
   ]
  },
  {
   "cell_type": "code",
   "execution_count": null,
   "metadata": {
    "collapsed": false
   },
   "outputs": [],
   "source": [
    "real_sub.DATE = real_sub.DATE.astype(str) + \".000\""
   ]
  },
  {
   "cell_type": "code",
   "execution_count": null,
   "metadata": {
    "collapsed": true
   },
   "outputs": [],
   "source": [
    "real_sub.to_csv('data/sub3.txt', sep='\\t', index=None)"
   ]
  },
  {
   "cell_type": "code",
   "execution_count": null,
   "metadata": {
    "collapsed": true
   },
   "outputs": [],
   "source": [
    "# real_sub.prediction = real_sub.prediction.astype(np.int64)"
   ]
  },
  {
   "cell_type": "code",
   "execution_count": null,
   "metadata": {
    "collapsed": true
   },
   "outputs": [],
   "source": []
  }
 ],
 "metadata": {
  "anaconda-cloud": {},
  "kernelspec": {
   "display_name": "Python [conda root]",
   "language": "python",
   "name": "conda-root-py"
  },
  "language_info": {
   "codemirror_mode": {
    "name": "ipython",
    "version": 2
   },
   "file_extension": ".py",
   "mimetype": "text/x-python",
   "name": "python",
   "nbconvert_exporter": "python",
   "pygments_lexer": "ipython2",
   "version": "2.7.12"
  }
 },
 "nbformat": 4,
 "nbformat_minor": 0
}
